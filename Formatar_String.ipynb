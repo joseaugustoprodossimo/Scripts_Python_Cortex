{
 "cells": [
  {
   "cell_type": "code",
   "execution_count": 19,
   "metadata": {},
   "outputs": [],
   "source": [
    "def formatar_string():\n",
    "    def Remover_Caracteres_Especiais(item):\n",
    "        return re.sub('[^A-Za-z] ', '', item.replace(\".\", \" \"))"
   ]
  }
 ],
 "metadata": {
  "interpreter": {
   "hash": "83d131cb932d342254a856aba77985769a4bb5186e304f75366df988e2740cfe"
  },
  "kernelspec": {
   "display_name": "Python 3.9.7 64-bit",
   "name": "python3"
  },
  "language_info": {
   "codemirror_mode": {
    "name": "ipython",
    "version": 3
   },
   "file_extension": ".py",
   "mimetype": "text/x-python",
   "name": "python",
   "nbconvert_exporter": "python",
   "pygments_lexer": "ipython3",
   "version": "3.9.7"
  },
  "orig_nbformat": 2
 },
 "nbformat": 4,
 "nbformat_minor": 2
}
