{
 "cells": [
  {
   "cell_type": "code",
   "execution_count": 1,
   "metadata": {},
   "outputs": [],
   "source": [
    "#Imports\n",
    "import pandas as pd\n",
    "import numpy as np"
   ]
  },
  {
   "cell_type": "code",
   "execution_count": 2,
   "metadata": {},
   "outputs": [
    {
     "name": "stderr",
     "output_type": "stream",
     "text": [
      "C:\\Users\\jose.prodossimo\\AppData\\Local\\Programs\\Python\\Python39\\lib\\site-packages\\openpyxl\\styles\\stylesheet.py:221: UserWarning: Workbook contains no default style, apply openpyxl's default\n",
      "  warn(\"Workbook contains no default style, apply openpyxl's default\")\n"
     ]
    }
   ],
   "source": [
    "pasta_import = \"C:\\\\Projetos\\\\Python\\\\Juntar validacao de email\\\\\"\n",
    "\n",
    "df = pd.DataFrame()\n",
    "COLUNAS = [\n",
    "    'EMAIL'\n",
    "]\n",
    "df = pd.DataFrame(columns=COLUNAS)\n",
    "\n",
    "df1 = pd.read_excel(pasta_import + '1' + '.xlsx')\n",
    "df2 = pd.read_excel(pasta_import + '2' + '.xlsx')\n",
    "df3 = pd.read_excel(pasta_import + '3' + '.xlsx')\n",
    "df4 = pd.read_excel(pasta_import + '4' + '.xlsx')\n",
    "df5 = pd.read_excel(pasta_import + '5' + '.xlsx')\n",
    "df6 = pd.read_excel(pasta_import + '6' + '.xlsx')\n",
    "df7 = pd.read_excel(pasta_import + '7' + '.xlsx')\n",
    "df8 = pd.read_excel(pasta_import + '8' + '.xlsx')\n",
    "df9 = pd.read_excel(pasta_import + '9' + '.xlsx')\n",
    "df10 = pd.read_excel(pasta_import + '10' + '.xlsx')"
   ]
  },
  {
   "cell_type": "code",
   "execution_count": 3,
   "metadata": {},
   "outputs": [],
   "source": [
    "df1 = df1.filter(items=['QUERY', 'result'])\n",
    "Undeliverable1 = df1[ df1['result'] == 'undeliverable' ].index\n",
    "df1.drop(Undeliverable1 , inplace=True)\n",
    "\n",
    "df2 = df2.filter(items=['QUERY', 'result'])\n",
    "Undeliverable2 = df2[ df2['result'] == 'undeliverable' ].index\n",
    "df2.drop(Undeliverable2 , inplace=True)\n",
    "\n",
    "df3 = df3.filter(items=['QUERY', 'result'])\n",
    "Undeliverable3 = df3[ df3['result'] == 'undeliverable' ].index\n",
    "df3.drop(Undeliverable3 , inplace=True)\n",
    "\n",
    "df4 = df4.filter(items=['QUERY', 'result'])\n",
    "Undeliverable4 = df4[ df4['result'] == 'undeliverable' ].index\n",
    "df4.drop(Undeliverable4 , inplace=True)\n",
    "\n",
    "df5 = df5.filter(items=['QUERY', 'result'])\n",
    "Undeliverable5 = df5[ df5['result'] == 'undeliverable' ].index\n",
    "df5.drop(Undeliverable5 , inplace=True)\n",
    "\n",
    "df6 = df6.filter(items=['QUERY', 'result'])\n",
    "Undeliverable6 = df6[ df6['result'] == 'undeliverable' ].index\n",
    "df6.drop(Undeliverable6 , inplace=True)\n",
    "\n",
    "df7 = df7.filter(items=['QUERY', 'result'])\n",
    "Undeliverable7 = df7[ df7['result'] == 'undeliverable' ].index\n",
    "df7.drop(Undeliverable7 , inplace=True)\n",
    "\n",
    "df8 = df8.filter(items=['QUERY', 'result'])\n",
    "Undeliverable8 = df8[ df8['result'] == 'undeliverable' ].index\n",
    "df8.drop(Undeliverable8 , inplace=True)\n",
    "\n",
    "df9 = df9.filter(items=['QUERY', 'result'])\n",
    "Undeliverable9 = df9[ df9['result'] == 'undeliverable' ].index\n",
    "df9.drop(Undeliverable9 , inplace=True)\n",
    "\n",
    "df10 = df10.filter(items=['QUERY', 'result'])\n",
    "Undeliverable10 = df10[ df10['result'] == 'undeliverable' ].index\n",
    "df10.drop(Undeliverable10 , inplace=True)"
   ]
  },
  {
   "cell_type": "code",
   "execution_count": 4,
   "metadata": {},
   "outputs": [],
   "source": [
    "df = df.append(df1, ignore_index=True)\n",
    "df = df.append(df2, ignore_index=True)\n",
    "df = df.append(df3, ignore_index=True)\n",
    "df = df.append(df4, ignore_index=True)\n",
    "df = df.append(df5, ignore_index=True)\n",
    "df = df.append(df6, ignore_index=True)\n",
    "df = df.append(df7, ignore_index=True)\n",
    "df = df.append(df8, ignore_index=True)\n",
    "df = df.append(df9, ignore_index=True)\n",
    "df = df.append(df10, ignore_index=True)"
   ]
  },
  {
   "cell_type": "code",
   "execution_count": 5,
   "metadata": {},
   "outputs": [],
   "source": [
    "df.sort_values(by='QUERY', axis=0, inplace=True)"
   ]
  },
  {
   "cell_type": "code",
   "execution_count": 6,
   "metadata": {},
   "outputs": [],
   "source": [
    "df.to_excel(pasta_import + 'Total.xlsx', index = False)"
   ]
  }
 ],
 "metadata": {
  "interpreter": {
   "hash": "1d1b6f73863711dffe5dbcd1853bfe78eafc87048e742bbbcad631fc5569336f"
  },
  "kernelspec": {
   "display_name": "Python 3.9.6 64-bit",
   "name": "python3"
  },
  "language_info": {
   "codemirror_mode": {
    "name": "ipython",
    "version": 3
   },
   "file_extension": ".py",
   "mimetype": "text/x-python",
   "name": "python",
   "nbconvert_exporter": "python",
   "pygments_lexer": "ipython3",
   "version": "3.9.6"
  },
  "orig_nbformat": 2
 },
 "nbformat": 4,
 "nbformat_minor": 2
}
