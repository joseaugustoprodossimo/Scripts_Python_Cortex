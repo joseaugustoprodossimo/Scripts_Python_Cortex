{
 "cells": [
  {
   "cell_type": "code",
   "execution_count": 1,
   "metadata": {},
   "outputs": [],
   "source": [
    "import pandas as pd\n",
    "import re"
   ]
  },
  {
   "cell_type": "code",
   "execution_count": 2,
   "metadata": {},
   "outputs": [],
   "source": [
    "caminho = 'C:\\\\Projetos\\\\Python\\\\Split Names\\\\'\n",
    "arquivo = 'Linkedin'\n",
    "df = pd.read_excel(caminho + arquivo + '.xlsx') #, sheet_name='Adicionais'"
   ]
  },
  {
   "cell_type": "code",
   "execution_count": 3,
   "metadata": {},
   "outputs": [],
   "source": [
    "def Remover_Caracteres_Especiais(item):\n",
    "    if item:\n",
    "        return ''.join(char for char in item if char.isalnum())\n",
    "    else:\n",
    "        ''"
   ]
  },
  {
   "cell_type": "code",
   "execution_count": 4,
   "metadata": {},
   "outputs": [],
   "source": [
    "def Retornar_Ultimo_Nome(item):\n",
    "    item = item.split(' ')\n",
    "    len(item)\n",
    "\n",
    "    if(len(item) != 1):\n",
    "        return item[len(item) - 1]\n",
    "    else:\n",
    "        \"\""
   ]
  },
  {
   "cell_type": "code",
   "execution_count": 5,
   "metadata": {},
   "outputs": [],
   "source": [
    "def Retornar_Cargo(item):\n",
    "\n",
    "    item = str(item)\n",
    "\n",
    "    item = item.split('-')\n",
    "\n",
    "    if(len(item) == 2):\n",
    "        return item[1]\n",
    "    elif(len(item) == 3):\n",
    "        return item[1] + ' ' + item[2]\n",
    "    else:\n",
    "        return \"\""
   ]
  },
  {
   "cell_type": "code",
   "execution_count": 6,
   "metadata": {},
   "outputs": [],
   "source": [
    "df.rename(columns={'Nome':'NOME'}, inplace=True)"
   ]
  },
  {
   "cell_type": "code",
   "execution_count": 7,
   "metadata": {},
   "outputs": [
    {
     "name": "stderr",
     "output_type": "stream",
     "text": [
      "C:\\Users\\JOSE~1.PRO\\AppData\\Local\\Temp/ipykernel_2516/4109162190.py:1: FutureWarning: The default value of regex will change from True to False in a future version.\n",
      "  df['NOME_FORMATADO'] = df['NOME'].str.replace(\" LTDA\", \"\").str.replace(\" EIRELI\", \"\").str.replace(\" S/A\", \"\").str.replace(\" SA\", \"\").str.replace(\"S.A.\", \"\").str.replace(\" INC\", \"\")\n"
     ]
    }
   ],
   "source": [
    "df['NOME_FORMATADO'] = df['NOME'].str.replace(\" LTDA\", \"\").str.replace(\" EIRELI\", \"\").str.replace(\" S/A\", \"\").str.replace(\" SA\", \"\").str.replace(\"S.A.\", \"\").str.replace(\" INC\", \"\")"
   ]
  },
  {
   "cell_type": "code",
   "execution_count": 8,
   "metadata": {},
   "outputs": [],
   "source": [
    "df['PRIMEIRO NOME'] = df['NOME'].str.split(' ', expand=True).get(0)\n",
    "df['ULTIMO NOME'] = df['NOME_FORMATADO'].apply(Retornar_Ultimo_Nome)"
   ]
  },
  {
   "cell_type": "code",
   "execution_count": 9,
   "metadata": {},
   "outputs": [],
   "source": [
    "df['PRIMEIRO NOME'] = df['PRIMEIRO NOME'].apply(Remover_Caracteres_Especiais)\n",
    "df['ULTIMO NOME'] = df['ULTIMO NOME'].apply(Remover_Caracteres_Especiais)"
   ]
  },
  {
   "cell_type": "code",
   "execution_count": 10,
   "metadata": {},
   "outputs": [],
   "source": [
    "df['NOME_FORMATADO'] = df['NOME_FORMATADO'].str.strip()"
   ]
  },
  {
   "cell_type": "code",
   "execution_count": 11,
   "metadata": {},
   "outputs": [],
   "source": [
    "#df['Cargo'] = df['Cargo'].apply(Retornar_Cargo)"
   ]
  },
  {
   "cell_type": "code",
   "execution_count": 12,
   "metadata": {},
   "outputs": [],
   "source": [
    "df['NOME'] = df['NOME'].str.title()"
   ]
  },
  {
   "cell_type": "code",
   "execution_count": 13,
   "metadata": {},
   "outputs": [],
   "source": [
    "writer = pd.ExcelWriter(caminho + 'Output_' + arquivo + '.xlsx', engine='xlsxwriter')\n",
    "\n",
    "df.to_excel(writer, sheet_name='Split', index=False)\n",
    "\n",
    "writer.save()"
   ]
  }
 ],
 "metadata": {
  "interpreter": {
   "hash": "1d1b6f73863711dffe5dbcd1853bfe78eafc87048e742bbbcad631fc5569336f"
  },
  "kernelspec": {
   "display_name": "Python 3.9.7 64-bit",
   "language": "python",
   "name": "python3"
  },
  "language_info": {
   "codemirror_mode": {
    "name": "ipython",
    "version": 3
   },
   "file_extension": ".py",
   "mimetype": "text/x-python",
   "name": "python",
   "nbconvert_exporter": "python",
   "pygments_lexer": "ipython3",
   "version": "3.9.7"
  },
  "orig_nbformat": 4
 },
 "nbformat": 4,
 "nbformat_minor": 2
}
