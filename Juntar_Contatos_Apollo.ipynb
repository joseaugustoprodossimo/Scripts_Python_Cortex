{
 "cells": [
  {
   "cell_type": "code",
   "execution_count": 161,
   "metadata": {},
   "outputs": [],
   "source": [
    "import pandas as pd\n",
    "import os"
   ]
  },
  {
   "cell_type": "code",
   "execution_count": 162,
   "metadata": {},
   "outputs": [],
   "source": [
    "caminho = 'C:\\\\Projetos\\\\Python\\\\Juntar Contatos Apollo\\\\'\n",
    "file = 'PSNEW-6053 - Sample Teste - DB - Cortex'\n",
    "\n",
    "df_dados_cadastrais = pd.read_excel(caminho + file + '.xlsx', sheet_name='Dados Cadastrais - Cortex')\n",
    "df_matriz_cnpj_website = pd.read_excel(caminho + file + '.xlsx', sheet_name='Matriz CNPJ Website')\n",
    "df_socios = pd.read_excel(caminho + file + '.xlsx', sheet_name='Dados Sócios - Cortex')\n",
    "df_contatos = pd.read_excel(caminho + file + '.xlsx', sheet_name='Contatos B2B - Cortex')\n",
    "df_tecnologias = pd.read_excel(caminho + file + '.xlsx', sheet_name='Tecnologias Cloud - Cortex')"
   ]
  },
  {
   "cell_type": "code",
   "execution_count": 163,
   "metadata": {},
   "outputs": [
    {
     "name": "stdout",
     "output_type": "stream",
     "text": [
      "C:\\Projetos\\Python\\Juntar Contatos Apollo\\Apollo\\apollo-contacts-export (2).csv\n"
     ]
    }
   ],
   "source": [
    "pasta = \"C:\\\\Projetos\\\\Python\\\\Juntar Contatos Apollo\\\\Apollo\"\n",
    "df_Total = pd.DataFrame()\n",
    "\n",
    "for diretorio, subpastas, arquivos in os.walk(pasta):\n",
    "    for arquivo in arquivos:\n",
    "        print(os.path.join(os.path.realpath(diretorio), arquivo))\n",
    "        df = pd.read_csv(os.path.join(os.path.realpath(diretorio), arquivo), converters={ 'First Name': lambda x: str(x),\n",
    "                                                                                            'Last Name': lambda x: str(x),\n",
    "                                                                                            'Title': lambda x: str(x),\n",
    "                                                                                            'Company': lambda x: str(x),\n",
    "                                                                                            'Company Name for Emails': lambda x: str(x),\n",
    "                                                                                            'Email': lambda x: str(x),\n",
    "                                                                                            'Email Status': lambda x: str(x),\n",
    "                                                                                            'Email Confidence': lambda x: str(x),\n",
    "                                                                                            'Contact Owner': lambda x: str(x),\n",
    "                                                                                            'First Phone': lambda x: str(x),\n",
    "                                                                                            'Work Direct Phone': lambda x: str(x),\n",
    "                                                                                            'Home Phone': lambda x: str(x),\n",
    "                                                                                            'Mobile Phone': lambda x: str(x),\n",
    "                                                                                            'Corporate Phone': lambda x: str(x),\n",
    "                                                                                            'Other Phone': lambda x: str(x),\n",
    "                                                                                            'Stage': lambda x: str(x),\n",
    "                                                                                            'Lists': lambda x: str(x),\n",
    "                                                                                            'Last Contacted': lambda x: str(x),\n",
    "                                                                                            'Account Owner': lambda x: str(x),\n",
    "                                                                                            '# Employees': lambda x: str(x),\n",
    "                                                                                            'Industry': lambda x: str(x),\n",
    "                                                                                            'Keywords': lambda x: str(x),\n",
    "                                                                                            'Person Linkedin Url': lambda x: str(x),\n",
    "                                                                                            'Website': lambda x: str(x),\n",
    "                                                                                            'Company Linkedin Url': lambda x: str(x),\n",
    "                                                                                            'Facebook Url': lambda x: str(x),\n",
    "                                                                                            'Twitter Url': lambda x: str(x),\n",
    "                                                                                            'City': lambda x: str(x),\n",
    "                                                                                            'State': lambda x: str(x),\n",
    "                                                                                            'Country': lambda x: str(x),\n",
    "                                                                                            'Company Address': lambda x: str(x),\n",
    "                                                                                            'Company City': lambda x: str(x),\n",
    "                                                                                            'Company State': lambda x: str(x),\n",
    "                                                                                            'Company Country': lambda x: str(x),\n",
    "                                                                                            'Company Phone': lambda x: str(x),\n",
    "                                                                                            'SEO Description': lambda x: str(x),\n",
    "                                                                                            'Technologies': lambda x: str(x),\n",
    "                                                                                            'Annual Revenue': lambda x: str(x),\n",
    "                                                                                            'Total Funding': lambda x: str(x),\n",
    "                                                                                            'Latest Funding': lambda x: str(x),\n",
    "                                                                                            'Latest Funding Amount': lambda x: str(x),\n",
    "                                                                                            'Last Raised At': lambda x: str(x),\n",
    "                                                                                            'Email Sent': lambda x: str(x),\n",
    "                                                                                            'Email Open': lambda x: str(x),\n",
    "                                                                                            'Email Bounced': lambda x: str(x),\n",
    "                                                                                            'Replied': lambda x: str(x),\n",
    "                                                                                            'Demoed': lambda x: str(x),\n",
    "                                                                                            'Number of Retail Locations': lambda x: str(x),\n",
    "                                                                                            'Apollo Contact Id': lambda x: str(x),\n",
    "                                                                                            'Apollo Account Id': lambda x: str(x)\n",
    "                                                                                            })\n",
    "        df_Total = df_Total.append(df, ignore_index=True)"
   ]
  },
  {
   "cell_type": "code",
   "execution_count": 164,
   "metadata": {},
   "outputs": [],
   "source": [
    "df_Total = df_Total.drop_duplicates(subset=['First Name', 'Last Name', 'Website'])"
   ]
  },
  {
   "cell_type": "code",
   "execution_count": 165,
   "metadata": {},
   "outputs": [],
   "source": [
    "df_Total = df_Total.filter(items=['Website','First Name', 'Last Name', 'Title', 'Email', 'Person Linkedin Url', 'Seniority'])"
   ]
  },
  {
   "cell_type": "code",
   "execution_count": 166,
   "metadata": {},
   "outputs": [
    {
     "name": "stderr",
     "output_type": "stream",
     "text": [
      "C:\\Users\\JOSE~1.PRO\\AppData\\Local\\Temp/ipykernel_2636/2397719358.py:1: FutureWarning: The default value of regex will change from True to False in a future version.\n",
      "  df_Total['Person Linkedin Url'] = df_Total['Person Linkedin Url'].str.replace('http://', '').str.replace('https://', '').str.replace('www.', '')\n",
      "C:\\Users\\JOSE~1.PRO\\AppData\\Local\\Temp/ipykernel_2636/2397719358.py:2: FutureWarning: The default value of regex will change from True to False in a future version.\n",
      "  df_Total['Website'] = df_Total['Website'].str.replace('http://', '').str.replace('https://', '').str.replace('www.', '')\n"
     ]
    }
   ],
   "source": [
    "df_Total['Person Linkedin Url'] = df_Total['Person Linkedin Url'].str.replace('http://', '').str.replace('https://', '').str.replace('www.', '')\n",
    "df_Total['Website'] = df_Total['Website'].str.replace('http://', '').str.replace('https://', '').str.replace('www.', '')"
   ]
  },
  {
   "cell_type": "code",
   "execution_count": 167,
   "metadata": {},
   "outputs": [],
   "source": [
    "df_Total['DOMINIO GET 0'] = df_Total['Website'].str.split('.', expand=True).get(0)"
   ]
  },
  {
   "cell_type": "code",
   "execution_count": 168,
   "metadata": {},
   "outputs": [],
   "source": [
    "df_matriz_cnpj_website['DOMINIO GET 0'] = df_matriz_cnpj_website['DOMINIO'].str.split('.', expand=True).get(0)"
   ]
  },
  {
   "cell_type": "code",
   "execution_count": 169,
   "metadata": {},
   "outputs": [],
   "source": [
    "# df_contatos = df_Total.merge(df_matriz_cnpj_website, left_on='Website', right_on='DOMINIO', how='left')"
   ]
  },
  {
   "cell_type": "code",
   "execution_count": 170,
   "metadata": {},
   "outputs": [],
   "source": [
    "# df_contatos = df_contatos.merge(df_dados_cadastrais, on='CNPJ', how='inner')"
   ]
  },
  {
   "cell_type": "code",
   "execution_count": 171,
   "metadata": {},
   "outputs": [],
   "source": [
    "df_contatos.rename(columns={'First Name':'PRIMEIRO NOME', 'Last Name':'ULTIMO NOME', 'Title':'CARGO B2B', 'Email':'EMAIL', 'Person Linkedin Url':'LINKEDIN URL', 'Seniority':'SENIORITY'}, inplace=True)"
   ]
  },
  {
   "cell_type": "code",
   "execution_count": 172,
   "metadata": {},
   "outputs": [],
   "source": [
    "df_contatos = df_contatos.filter(items=['PRIMEIRO NOME', 'ULTIMO NOME', 'CARGO B2B', 'EMAIL', 'LINKEDIN URL', 'SENIORITY'])"
   ]
  },
  {
   "cell_type": "code",
   "execution_count": 173,
   "metadata": {},
   "outputs": [],
   "source": [
    "writer = pd.ExcelWriter(caminho + file + '.xlsx', engine='xlsxwriter')\n",
    "\n",
    "df_dados_cadastrais.to_excel(writer, sheet_name='Dados Cadastrais - Cortex', index=False)\n",
    "df_matriz_cnpj_website.to_excel(writer, sheet_name='Matriz CNPJ Website', index=False)\n",
    "df_socios.to_excel(writer, sheet_name='Dados Sócios - Cortex', index=False)\n",
    "df_contatos.to_excel(writer, sheet_name='Contatos B2B - Cortex', index=False)\n",
    "df_tecnologias.to_excel(writer, sheet_name='Tecnologias Cloud - Cortex', index=False)\n",
    "\n",
    "writer.save()"
   ]
  }
 ],
 "metadata": {
  "interpreter": {
   "hash": "1d1b6f73863711dffe5dbcd1853bfe78eafc87048e742bbbcad631fc5569336f"
  },
  "kernelspec": {
   "display_name": "Python 3.9.7 64-bit",
   "language": "python",
   "name": "python3"
  },
  "language_info": {
   "codemirror_mode": {
    "name": "ipython",
    "version": 3
   },
   "file_extension": ".py",
   "mimetype": "text/x-python",
   "name": "python",
   "nbconvert_exporter": "python",
   "pygments_lexer": "ipython3",
   "version": "3.9.7"
  },
  "orig_nbformat": 4
 },
 "nbformat": 4,
 "nbformat_minor": 2
}
