{
 "cells": [
  {
   "cell_type": "code",
   "execution_count": 1,
   "metadata": {},
   "outputs": [],
   "source": [
    "#Imports\n",
    "import pandas as pd\n",
    "import string\n",
    "import re"
   ]
  },
  {
   "cell_type": "code",
   "execution_count": 2,
   "metadata": {},
   "outputs": [],
   "source": [
    "pasta_import = \"C:\\\\Projetos\\\\Python\\\\Validador_Linkedin\\\\\"\n",
    "arquivo_import = \"Output_Contatos_Empresas_Linkedin_Apollo\" + \".xlsx\"\n",
    "\n",
    "df = pd.read_excel(pasta_import + arquivo_import)"
   ]
  },
  {
   "cell_type": "code",
   "execution_count": 3,
   "metadata": {},
   "outputs": [],
   "source": [
    "df['Validador Linkedin'] = ''"
   ]
  },
  {
   "cell_type": "code",
   "execution_count": 4,
   "metadata": {},
   "outputs": [],
   "source": [
    "df['PRIMEIRO NOME LOWER'] = df['PRIMEIRO NOME'].str.lower()\n",
    "df['ULTIMO NOME LOWER'] = df['ULTIMO NOME'].str.lower()"
   ]
  },
  {
   "cell_type": "code",
   "execution_count": 5,
   "metadata": {},
   "outputs": [],
   "source": [
    "df.rename(columns={'LIKEDIN_URL':'LINKEDIN_CONTATO'}, inplace=True)\n",
    "df.rename(columns={'LINKEDIN URL':'LINKEDIN_CONTATO'}, inplace=True)"
   ]
  },
  {
   "cell_type": "code",
   "execution_count": 6,
   "metadata": {},
   "outputs": [],
   "source": [
    "df['LINKEDIN_CONTATO'] = df['LINKEDIN_CONTATO'].astype(str)\n",
    "df['PRIMEIRO NOME'] = df['PRIMEIRO NOME'].astype(str)\n",
    "df['ULTIMO NOME'] = df['ULTIMO NOME'].astype(str)\n",
    "df['PRIMEIRO NOME LOWER'] = df['PRIMEIRO NOME LOWER'].astype(str)\n",
    "df['ULTIMO NOME LOWER'] = df['ULTIMO NOME LOWER'].astype(str)"
   ]
  },
  {
   "cell_type": "code",
   "execution_count": 7,
   "metadata": {},
   "outputs": [
    {
     "name": "stderr",
     "output_type": "stream",
     "text": [
      "C:\\Users\\JOSE~1.PRO\\AppData\\Local\\Temp/ipykernel_19524/294468367.py:3: SettingWithCopyWarning: \n",
      "A value is trying to be set on a copy of a slice from a DataFrame\n",
      "\n",
      "See the caveats in the documentation: https://pandas.pydata.org/pandas-docs/stable/user_guide/indexing.html#returning-a-view-versus-a-copy\n",
      "  df['Validador Linkedin'][i] = 'Contem'\n",
      "C:\\Users\\JOSE~1.PRO\\AppData\\Local\\Temp/ipykernel_19524/294468367.py:5: SettingWithCopyWarning: \n",
      "A value is trying to be set on a copy of a slice from a DataFrame\n",
      "\n",
      "See the caveats in the documentation: https://pandas.pydata.org/pandas-docs/stable/user_guide/indexing.html#returning-a-view-versus-a-copy\n",
      "  df['LINKEDIN_CONTATO'][i] = ''\n"
     ]
    }
   ],
   "source": [
    "for i in df.index:\n",
    "    if df['PRIMEIRO NOME LOWER'][i] in df['LINKEDIN_CONTATO'][i] or df['ULTIMO NOME LOWER'][i] in df['LINKEDIN_CONTATO'][i]:\n",
    "        df['Validador Linkedin'][i] = 'Contem'\n",
    "    else:\n",
    "        df['LINKEDIN_CONTATO'][i] = ''"
   ]
  },
  {
   "cell_type": "code",
   "execution_count": 8,
   "metadata": {},
   "outputs": [],
   "source": [
    "df.loc[df['LINKEDIN_CONTATO'].str.contains('acwaa', regex=False), 'LINKEDIN_CONTATO'] = ''\n",
    "df.loc[df['LINKEDIN_CONTATO'].str.contains('pub', regex=False), 'LINKEDIN_CONTATO'] = ''\n",
    "df.loc[df['LINKEDIN_CONTATO'].str.contains('sales/people', regex=False), 'LINKEDIN_CONTATO'] = ''"
   ]
  },
  {
   "cell_type": "code",
   "execution_count": 9,
   "metadata": {},
   "outputs": [],
   "source": [
    "df['EMAIL'] = df['EMAIL'].str.lower()"
   ]
  },
  {
   "cell_type": "code",
   "execution_count": 10,
   "metadata": {},
   "outputs": [],
   "source": [
    "arquivo_export = 'Output ' + arquivo_import + '.xlsx'\n",
    "df.to_excel(pasta_import + arquivo_export, index = False)"
   ]
  }
 ],
 "metadata": {
  "interpreter": {
   "hash": "1d1b6f73863711dffe5dbcd1853bfe78eafc87048e742bbbcad631fc5569336f"
  },
  "kernelspec": {
   "display_name": "Python 3.9.6 64-bit",
   "name": "python3"
  },
  "language_info": {
   "codemirror_mode": {
    "name": "ipython",
    "version": 3
   },
   "file_extension": ".py",
   "mimetype": "text/x-python",
   "name": "python",
   "nbconvert_exporter": "python",
   "pygments_lexer": "ipython3",
   "version": "3.9.7"
  },
  "orig_nbformat": 2
 },
 "nbformat": 4,
 "nbformat_minor": 2
}
