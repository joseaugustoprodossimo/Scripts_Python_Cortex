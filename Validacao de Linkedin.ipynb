{
 "cells": [
  {
   "cell_type": "code",
   "execution_count": 5,
   "metadata": {},
   "outputs": [],
   "source": [
    "#Imports\n",
    "import pandas as pd\n",
    "import string\n",
    "import re"
   ]
  },
  {
   "cell_type": "code",
   "execution_count": 6,
   "metadata": {},
   "outputs": [],
   "source": [
    "pasta_import = \"C:\\\\Projetos\\\\Python\\\\Validador_Linkedin\\\\\"\n",
    "arquivo_import = \"Output_Contatos_Empresas_Linkedin_Apollo\" + \".xlsx\"\n",
    "\n",
    "df = pd.read_excel(pasta_import + arquivo_import)"
   ]
  },
  {
   "cell_type": "code",
   "execution_count": 7,
   "metadata": {},
   "outputs": [],
   "source": [
    "def Remover_Caracteres_Especiais(item):\n",
    "    item = str(item)\n",
    "    if item:\n",
    "        return ''.join(char for char in item if char.isalnum())\n",
    "    else:\n",
    "        ''"
   ]
  },
  {
   "cell_type": "code",
   "execution_count": 8,
   "metadata": {},
   "outputs": [],
   "source": [
    "df['Validador Linkedin'] = ''"
   ]
  },
  {
   "cell_type": "code",
   "execution_count": 9,
   "metadata": {},
   "outputs": [],
   "source": [
    "df.rename(columns={'First_Name':'PRIMEIRO NOME', 'Last_Name':'ULTIMO NOME', 'Email':'EMAIL'}, inplace=True)\n",
    "df.rename(columns={'LIKEDIN_URL':'LINKEDIN_CONTATO'}, inplace=True)\n",
    "df.rename(columns={'LINKEDIN URL':'LINKEDIN_CONTATO'}, inplace=True)\n",
    "df.rename(columns={'LINKEDIN PESSOAL URL':'LINKEDIN_CONTATO'}, inplace=True)"
   ]
  },
  {
   "cell_type": "code",
   "execution_count": 10,
   "metadata": {},
   "outputs": [],
   "source": [
    "df['PRIMEIRO NOME LOWER'] = df['PRIMEIRO NOME'].str.lower()\n",
    "df['ULTIMO NOME LOWER'] = df['ULTIMO NOME'].str.lower()"
   ]
  },
  {
   "cell_type": "code",
   "execution_count": 11,
   "metadata": {},
   "outputs": [],
   "source": [
    "df['LINKEDIN_CONTATO'] = df['LINKEDIN_CONTATO'].astype(str)\n",
    "df['PRIMEIRO NOME'] = df['PRIMEIRO NOME'].astype(str)\n",
    "df['ULTIMO NOME'] = df['ULTIMO NOME'].astype(str)\n",
    "df['PRIMEIRO NOME LOWER'] = df['PRIMEIRO NOME LOWER'].astype(str)\n",
    "df['ULTIMO NOME LOWER'] = df['ULTIMO NOME LOWER'].astype(str)"
   ]
  },
  {
   "cell_type": "code",
   "execution_count": 12,
   "metadata": {},
   "outputs": [],
   "source": [
    "df['PRIMEIRO NOME'] = df['PRIMEIRO NOME'].apply(Remover_Caracteres_Especiais)"
   ]
  },
  {
   "cell_type": "code",
   "execution_count": 13,
   "metadata": {},
   "outputs": [],
   "source": [
    "for i in df.index:\n",
    "    if df['PRIMEIRO NOME LOWER'][i] in df['LINKEDIN_CONTATO'][i] or df['ULTIMO NOME LOWER'][i] in df['LINKEDIN_CONTATO'][i]:\n",
    "        df['Validador Linkedin'][i] = 'Contem'\n",
    "    else:\n",
    "        df['LINKEDIN_CONTATO'][i] = ''"
   ]
  },
  {
   "cell_type": "code",
   "execution_count": 14,
   "metadata": {},
   "outputs": [],
   "source": [
    "df.loc[df['LINKEDIN_CONTATO'].str.contains('acwaa', regex=False), 'LINKEDIN_CONTATO'] = ''\n",
    "df.loc[df['LINKEDIN_CONTATO'].str.contains('pub', regex=False), 'LINKEDIN_CONTATO'] = ''\n",
    "df.loc[df['LINKEDIN_CONTATO'].str.contains('sales/people', regex=False), 'LINKEDIN_CONTATO'] = ''"
   ]
  },
  {
   "cell_type": "code",
   "execution_count": 15,
   "metadata": {},
   "outputs": [],
   "source": [
    "df['EMAIL'] = df['EMAIL'].str.lower()"
   ]
  },
  {
   "cell_type": "code",
   "execution_count": 16,
   "metadata": {},
   "outputs": [],
   "source": [
    "df['PRIMEIRO NOME'] = df['PRIMEIRO NOME'].apply(Remover_Caracteres_Especiais)\n",
    "df['ULTIMO NOME'] = df['ULTIMO NOME'].apply(Remover_Caracteres_Especiais)"
   ]
  },
  {
   "cell_type": "code",
   "execution_count": 17,
   "metadata": {},
   "outputs": [],
   "source": [
    "arquivo_export = 'Output ' + arquivo_import + '.xlsx'\n",
    "df.to_excel(pasta_import + arquivo_export, index = False)"
   ]
  }
 ],
 "metadata": {
  "interpreter": {
   "hash": "1d1b6f73863711dffe5dbcd1853bfe78eafc87048e742bbbcad631fc5569336f"
  },
  "kernelspec": {
   "display_name": "Python 3.9.6 64-bit",
   "name": "python3"
  },
  "language_info": {
   "codemirror_mode": {
    "name": "ipython",
    "version": 3
   },
   "file_extension": ".py",
   "mimetype": "text/x-python",
   "name": "python",
   "nbconvert_exporter": "python",
   "pygments_lexer": "ipython3",
   "version": "3.9.7"
  },
  "orig_nbformat": 2
 },
 "nbformat": 4,
 "nbformat_minor": 2
}
