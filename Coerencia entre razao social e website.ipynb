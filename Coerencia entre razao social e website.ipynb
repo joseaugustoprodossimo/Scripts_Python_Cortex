{
 "cells": [
  {
   "cell_type": "code",
   "execution_count": 18,
   "metadata": {},
   "outputs": [],
   "source": [
    "#Imports\n",
    "import pandas as pd\n",
    "import numpy as np\n",
    "from re import search\n",
    "from difflib import SequenceMatcher\n"
   ]
  },
  {
   "cell_type": "code",
   "execution_count": 19,
   "metadata": {},
   "outputs": [],
   "source": [
    "pasta_import = \"C:\\\\Projetos\\\\Python\\\\Coerencia website razao social\\\\\"\n",
    "arquivo_import = \"Websites\"\n",
    "\n",
    "df = pd.read_excel(pasta_import + arquivo_import + \".xlsx\")"
   ]
  },
  {
   "cell_type": "code",
   "execution_count": 20,
   "metadata": {},
   "outputs": [],
   "source": [
    "def similar(a, b):\n",
    "    a = str(a)\n",
    "    b = str(b)\n",
    "    return SequenceMatcher(None, a, b).ratio() * 100"
   ]
  },
  {
   "cell_type": "code",
   "execution_count": 21,
   "metadata": {},
   "outputs": [],
   "source": [
    "def retirar_websites_errados(item):\n",
    "    \n",
    "    item = str(item)\n",
    "\n",
    "    sites = [\n",
    "        'linkedin',\n",
    "        'youtube',\n",
    "        'casadosdados',\n",
    "        'facebook',\n",
    "        'twitter',\n",
    "        'blogspot',\n",
    "        'business.site',\n",
    "        'negocio.site',\n",
    "        'linkedin',\n",
    "        'instagram',\n",
    "        'outlook',\n",
    "        'google',\n",
    "        'cnpjconsulta',\n",
    "        'wix',\n",
    "        'wikipedia'\n",
    "    ]\n",
    "\n",
    "    for i in sites:\n",
    "        if search(i, item):\n",
    "            item = ''\n",
    "\n",
    "    return item"
   ]
  },
  {
   "cell_type": "code",
   "execution_count": 22,
   "metadata": {},
   "outputs": [],
   "source": [
    "def ContemPrimeiraPalavra(razao_social, website):\n",
    "\n",
    "    razao_social = str(razao_social).lower()\n",
    "    website = str(website).lower()\n",
    "\n",
    "    razao_social = razao_social.replace(\" \", \"\").replace(\".\", \"\").replace(\"&\", \"\")\n",
    "\n",
    "    if search(website, razao_social):\n",
    "        return \"Contem\"\n",
    "    else:\n",
    "        return \"Nao Contem\""
   ]
  },
  {
   "cell_type": "code",
   "execution_count": 23,
   "metadata": {},
   "outputs": [],
   "source": [
    "def ContemPrimeiraPalavradarazaosocialdentrodowebsite(razao_social, website):\n",
    "\n",
    "    razao_social = str(razao_social).lower()\n",
    "    website = str(website).lower()\n",
    "\n",
    "    razao_social = razao_social.replace(\" \", \"\").replace(\".\", \"\").replace(\"&\", \"\")\n",
    "\n",
    "    primeiro_nome = razao_social.split(' ', expand=True).get(0)\n",
    "\n",
    "    if search(primeiro_nome, website):\n",
    "        return \"Contem\"\n",
    "    else:\n",
    "        return \"Nao Contem\""
   ]
  },
  {
   "cell_type": "code",
   "execution_count": 24,
   "metadata": {},
   "outputs": [],
   "source": [
    "for i in df.index:\n",
    "    df['WEBSITE'][i] = retirar_websites_errados(df['WEBSITE'][i])\n",
    "\n",
    "df = df.drop_duplicates().dropna()"
   ]
  },
  {
   "cell_type": "code",
   "execution_count": 25,
   "metadata": {},
   "outputs": [],
   "source": [
    "Vazios = df[ df['WEBSITE'] == '' ].index\n",
    "\n",
    "df.drop(Vazios , inplace=True)"
   ]
  },
  {
   "cell_type": "code",
   "execution_count": 26,
   "metadata": {},
   "outputs": [],
   "source": [
    "df['RAZAO SOCIAL INPUT'] = df['RAZAO SOCIAL']\n",
    "df['WEBSITE INPUT'] = df['WEBSITE']"
   ]
  },
  {
   "cell_type": "code",
   "execution_count": 27,
   "metadata": {},
   "outputs": [],
   "source": [
    "df['RAZAO SOCIAL'] = df['RAZAO SOCIAL'].str.rstrip(\" \").str.lstrip(\" \")\n",
    "df['WEBSITE'] = df['WEBSITE'].str.split('.', expand=True).get(0)\n",
    "df['RAZAO SOCIAL'] = df['RAZAO SOCIAL'].str.replace(\"LTDA\", \"\").str.replace(\" \", \"\").str.replace(\"EIRELI\", \"\")"
   ]
  },
  {
   "cell_type": "code",
   "execution_count": 28,
   "metadata": {},
   "outputs": [
    {
     "name": "stderr",
     "output_type": "stream",
     "text": [
      "C:\\Users\\JOSE~1.PRO\\AppData\\Local\\Temp/ipykernel_10300/2562838300.py:7: SettingWithCopyWarning: \n",
      "A value is trying to be set on a copy of a slice from a DataFrame\n",
      "\n",
      "See the caveats in the documentation: https://pandas.pydata.org/pandas-docs/stable/user_guide/indexing.html#returning-a-view-versus-a-copy\n",
      "  df['Assertividade'][j] = similar(df['RAZAO SOCIAL'][j], df['WEBSITE'][j])\n"
     ]
    }
   ],
   "source": [
    "df.reset_index(inplace = True)\n",
    "df['Assertividade'] = ''\n",
    "\n",
    "j = 0\n",
    "\n",
    "for i in df['RAZAO SOCIAL']:\n",
    "    df['Assertividade'][j] = similar(df['RAZAO SOCIAL'][j], df['WEBSITE'][j])\n",
    "    j = j + 1"
   ]
  },
  {
   "cell_type": "code",
   "execution_count": 29,
   "metadata": {},
   "outputs": [
    {
     "name": "stderr",
     "output_type": "stream",
     "text": [
      "C:\\Users\\JOSE~1.PRO\\AppData\\Local\\Temp/ipykernel_10300/3686794206.py:6: SettingWithCopyWarning: \n",
      "A value is trying to be set on a copy of a slice from a DataFrame\n",
      "\n",
      "See the caveats in the documentation: https://pandas.pydata.org/pandas-docs/stable/user_guide/indexing.html#returning-a-view-versus-a-copy\n",
      "  df['Contem'][j] = ContemPrimeiraPalavra(df['RAZAO SOCIAL'][j], df['WEBSITE'][j])\n"
     ]
    }
   ],
   "source": [
    "j = 0\n",
    "\n",
    "df['Contem'] = ''\n",
    "\n",
    "for i in df['RAZAO SOCIAL']:\n",
    "    df['Contem'][j] = ContemPrimeiraPalavra(df['RAZAO SOCIAL'][j], df['WEBSITE'][j])\n",
    "    j = j + 1"
   ]
  },
  {
   "cell_type": "code",
   "execution_count": 30,
   "metadata": {},
   "outputs": [
    {
     "name": "stderr",
     "output_type": "stream",
     "text": [
      "C:\\Users\\JOSE~1.PRO\\AppData\\Local\\Temp/ipykernel_10300/3868612944.py:6: SettingWithCopyWarning: \n",
      "A value is trying to be set on a copy of a slice from a DataFrame\n",
      "\n",
      "See the caveats in the documentation: https://pandas.pydata.org/pandas-docs/stable/user_guide/indexing.html#returning-a-view-versus-a-copy\n",
      "  df['Contem Primeiro nome da razao social no website'][j] = ContemPrimeiraPalavra(df['RAZAO SOCIAL INPUT'][j], df['WEBSITE INPUT'][j])\n"
     ]
    }
   ],
   "source": [
    "j = 0\n",
    "\n",
    "df['Contem Primeiro nome da razao social no website'] = ''\n",
    "\n",
    "for i in df['RAZAO SOCIAL INPUT']:\n",
    "    df['Contem Primeiro nome da razao social no website'][j] = ContemPrimeiraPalavra(df['RAZAO SOCIAL INPUT'][j], df['WEBSITE INPUT'][j])\n",
    "    j = j + 1"
   ]
  },
  {
   "cell_type": "code",
   "execution_count": 31,
   "metadata": {},
   "outputs": [],
   "source": [
    "df.rename({'RAZAO SOCIAL':'RAZAO SOCIAL FORMATADO', 'WEBSITE': 'WEBSITE FORMATADO'}, axis = 1, inplace = True)"
   ]
  },
  {
   "cell_type": "code",
   "execution_count": 32,
   "metadata": {},
   "outputs": [],
   "source": [
    "df = df.filter(items=['RAZAO SOCIAL INPUT', 'WEBSITE INPUT', 'RAZAO SOCIAL FORMATADO', 'WEBSITE FORMATADO', 'Assertividade', 'Contem', 'Contem Primeiro nome da razao social no website'])"
   ]
  },
  {
   "cell_type": "code",
   "execution_count": 33,
   "metadata": {},
   "outputs": [],
   "source": [
    "df.sort_values(['Contem', 'Assertividade'], axis=0, ascending=[True, False], inplace=True)"
   ]
  },
  {
   "cell_type": "code",
   "execution_count": 34,
   "metadata": {},
   "outputs": [],
   "source": [
    "arquivo_export = 'Output ' + arquivo_import + '.xlsx'\n",
    "df.to_excel(pasta_import + arquivo_export, index = False)"
   ]
  }
 ],
 "metadata": {
  "interpreter": {
   "hash": "1d1b6f73863711dffe5dbcd1853bfe78eafc87048e742bbbcad631fc5569336f"
  },
  "kernelspec": {
   "display_name": "Python 3.9.6 64-bit",
   "name": "python3"
  },
  "language_info": {
   "codemirror_mode": {
    "name": "ipython",
    "version": 3
   },
   "file_extension": ".py",
   "mimetype": "text/x-python",
   "name": "python",
   "nbconvert_exporter": "python",
   "pygments_lexer": "ipython3",
   "version": "3.9.7"
  },
  "orig_nbformat": 2
 },
 "nbformat": 4,
 "nbformat_minor": 2
}
