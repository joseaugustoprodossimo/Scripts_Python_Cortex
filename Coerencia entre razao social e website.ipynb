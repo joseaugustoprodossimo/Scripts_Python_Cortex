{
 "cells": [
  {
   "cell_type": "code",
   "execution_count": 1,
   "metadata": {},
   "outputs": [],
   "source": [
    "#Imports\n",
    "import pandas as pd\n",
    "import numpy as np\n",
    "from re import search"
   ]
  },
  {
   "cell_type": "code",
   "execution_count": 2,
   "metadata": {},
   "outputs": [],
   "source": [
    "pasta_import = \"C:\\\\Projetos\\\\Python\\\\Coerencia website razao social\\\\\"\n",
    "arquivo_import = \"Websites\"\n",
    "\n",
    "df = pd.read_excel(pasta_import + arquivo_import + \".xlsx\")"
   ]
  },
  {
   "cell_type": "code",
   "execution_count": 3,
   "metadata": {},
   "outputs": [],
   "source": [
    "def PercentualAssertividade(listaRazaoSocial, listaWebsite) -> float:\n",
    "    \n",
    "    listaRazaoSocial = np.unique(list(listaRazaoSocial.replace(\" \", \"\")))\n",
    "    listaWebsite = np.unique(list(listaWebsite))\n",
    "    \n",
    "    qtdIguais = 0\n",
    "\n",
    "    for i in listaRazaoSocial:\n",
    "        for j in listaWebsite:\n",
    "            if i.lower() == j.lower():\n",
    "                qtdIguais = qtdIguais + 1\n",
    "\n",
    "    if len(listaWebsite) > len(listaRazaoSocial):\n",
    "        return float(qtdIguais / len(listaWebsite) * 100)\n",
    "    else:\n",
    "        return float(qtdIguais / len(listaRazaoSocial) * 100)"
   ]
  },
  {
   "cell_type": "code",
   "execution_count": 4,
   "metadata": {},
   "outputs": [],
   "source": [
    "def ContemPrimeiraPalavra(razao_social, website):\n",
    "\n",
    "    razao_social = razao_social.lower().replace(\" \", \"\").replace(\".\", \"\").replace(\"&\", \"\")\n",
    "    website = website.lower()\n",
    "\n",
    "    if search(website, razao_social):\n",
    "        return \"Contem\"\n",
    "    else:\n",
    "        return \"Nao Contem\""
   ]
  },
  {
   "cell_type": "code",
   "execution_count": 5,
   "metadata": {},
   "outputs": [],
   "source": [
    "df['RAZAO SOCIAL INPUT'] = df['RAZAO SOCIAL']\n",
    "df['WEBSITE INPUT'] = df['WEBSITE']"
   ]
  },
  {
   "cell_type": "code",
   "execution_count": 6,
   "metadata": {},
   "outputs": [],
   "source": [
    "df['RAZAO SOCIAL'] = df['RAZAO SOCIAL'].str.rstrip(\" \").str.lstrip(\" \")\n",
    "df['WEBSITE'] = df['WEBSITE'].str.split('.', expand=True).get(0)\n",
    "df['RAZAO SOCIAL'] = df['RAZAO SOCIAL'].str.replace(\"LTDA\", \"\").str.replace(\" \", \"\").str.replace(\"EIRELI\", \"\")"
   ]
  },
  {
   "cell_type": "code",
   "execution_count": 7,
   "metadata": {},
   "outputs": [],
   "source": [
    "df['Assertividade'] = ''"
   ]
  },
  {
   "cell_type": "code",
   "execution_count": 8,
   "metadata": {},
   "outputs": [],
   "source": [
    "j = 0\n",
    "\n",
    "for i in df['RAZAO SOCIAL']:\n",
    "    df['Assertividade'][j] = PercentualAssertividade(df['RAZAO SOCIAL'][j], df['WEBSITE'][j])\n",
    "    j = j + 1"
   ]
  },
  {
   "cell_type": "code",
   "execution_count": 9,
   "metadata": {},
   "outputs": [],
   "source": [
    "j = 0\n",
    "\n",
    "df['Contem'] = ''\n",
    "\n",
    "for i in df['RAZAO SOCIAL']:\n",
    "    df['Contem'][j] = ContemPrimeiraPalavra(df['RAZAO SOCIAL'][j], df['WEBSITE'][j])\n",
    "    j = j + 1"
   ]
  },
  {
   "cell_type": "code",
   "execution_count": 10,
   "metadata": {},
   "outputs": [],
   "source": [
    "df.rename({'RAZAO SOCIAL':'RAZAO SOCIAL FORMATADO', 'WEBSITE': 'WEBSITE FORMATADO'}, axis = 1, inplace = True)"
   ]
  },
  {
   "cell_type": "code",
   "execution_count": 11,
   "metadata": {},
   "outputs": [],
   "source": [
    "df = df.filter(items=['RAZAO SOCIAL INPUT', 'WEBSITE INPUT', 'RAZAO SOCIAL FORMATADO', 'WEBSITE FORMATADO', 'Assertividade', 'Contem'])"
   ]
  },
  {
   "cell_type": "code",
   "execution_count": 12,
   "metadata": {},
   "outputs": [],
   "source": [
    "df.sort_values(['Contem', 'Assertividade'], axis=0, ascending=[True, False], inplace=True)"
   ]
  },
  {
   "cell_type": "code",
   "execution_count": 13,
   "metadata": {},
   "outputs": [],
   "source": [
    "arquivo_export = 'Output ' + arquivo_import + '.xlsx'\n",
    "df.to_excel(pasta_import + arquivo_export, index = False)"
   ]
  }
 ],
 "metadata": {
  "interpreter": {
   "hash": "1d1b6f73863711dffe5dbcd1853bfe78eafc87048e742bbbcad631fc5569336f"
  },
  "kernelspec": {
   "display_name": "Python 3.9.6 64-bit",
   "name": "python3"
  },
  "language_info": {
   "codemirror_mode": {
    "name": "ipython",
    "version": 3
   },
   "file_extension": ".py",
   "mimetype": "text/x-python",
   "name": "python",
   "nbconvert_exporter": "python",
   "pygments_lexer": "ipython3",
   "version": "3.9.7"
  },
  "orig_nbformat": 2
 },
 "nbformat": 4,
 "nbformat_minor": 2
}
