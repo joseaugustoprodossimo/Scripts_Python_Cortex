{
 "cells": [
  {
   "cell_type": "code",
   "execution_count": 1,
   "metadata": {},
   "outputs": [],
   "source": [
    "import pandas as pd\n",
    "import re"
   ]
  },
  {
   "cell_type": "code",
   "execution_count": 2,
   "metadata": {},
   "outputs": [
    {
     "name": "stderr",
     "output_type": "stream",
     "text": [
      "C:\\Users\\jose.prodossimo\\AppData\\Local\\Programs\\Python\\Python39\\lib\\site-packages\\IPython\\core\\interactiveshell.py:3457: DtypeWarning: Columns (44) have mixed types.Specify dtype option on import or set low_memory=False.\n",
      "  exec(code_obj, self.user_global_ns, self.user_ns)\n"
     ]
    }
   ],
   "source": [
    "caminho = 'C:\\\\Projetos\\\\Python\\\\Contatos\\\\'\n",
    "\n",
    "#arquivoApolloExcel = 'Output_Total.xlsx'\n",
    "arquivoApolloCSV = 'Output_Total.csv' # 'apollo-contacts-export.csv'\n",
    "contatos = 'Contatos.xlsx'\n",
    "linkedin = 'Linkedin.xlsx'\n",
    "\n",
    "#df_Apollo = pd.read_excel(caminho + arquivoApolloExcel)\n",
    "df_Apollo = pd.read_csv(caminho + arquivoApolloCSV, converters={ 'Company Phone': lambda x: str(x), 'First Name': lambda x: str(x), 'Last Name': lambda x: str(x)})"
   ]
  },
  {
   "cell_type": "code",
   "execution_count": 3,
   "metadata": {},
   "outputs": [],
   "source": [
    "def Retornar_Ultimo_Nome(item):\n",
    "    item = str(item)\n",
    "    item = item.split(' ')\n",
    "\n",
    "    if(len(item) > 1):\n",
    "        return item[len(item) - 1]\n",
    "    elif(len(item) == 1):\n",
    "        return item[0]\n",
    "    else:\n",
    "        \"\""
   ]
  },
  {
   "cell_type": "code",
   "execution_count": 4,
   "metadata": {},
   "outputs": [],
   "source": [
    "def Remover_Caracteres_Especiais(item):\n",
    "    item = str(item)\n",
    "    if item:\n",
    "        return ''.join(char for char in item if char.isalnum())\n",
    "    else:\n",
    "        ''"
   ]
  },
  {
   "cell_type": "code",
   "execution_count": 5,
   "metadata": {},
   "outputs": [],
   "source": [
    "def Formatar_sites(item):\n",
    "    item = str(item)\n",
    "    \n",
    "    if(len(item) > 5):\n",
    "        return item.replace('http://', '').replace('https://', '').replace('www.', '')\n",
    "    else:\n",
    "        \"\""
   ]
  },
  {
   "cell_type": "code",
   "execution_count": 6,
   "metadata": {},
   "outputs": [
    {
     "name": "stderr",
     "output_type": "stream",
     "text": [
      "C:\\Users\\jose.prodossimo\\AppData\\Local\\Programs\\Python\\Python39\\lib\\site-packages\\openpyxl\\styles\\stylesheet.py:226: UserWarning: Workbook contains no default style, apply openpyxl's default\n",
      "  warn(\"Workbook contains no default style, apply openpyxl's default\")\n"
     ]
    }
   ],
   "source": [
    "df_Contatos = pd.read_excel(caminho + contatos, converters={'first_name':lambda x: str(x), 'last_name':lambda x: str(x)})"
   ]
  },
  {
   "cell_type": "code",
   "execution_count": 7,
   "metadata": {},
   "outputs": [],
   "source": [
    "df_Linkedin = pd.read_excel(caminho + linkedin)"
   ]
  },
  {
   "cell_type": "code",
   "execution_count": 8,
   "metadata": {},
   "outputs": [],
   "source": [
    "df_Apollo_Contatos = df_Apollo\n",
    "df_Apollo_Empresas = df_Apollo\n",
    "df_Contatos_Empresas = df_Contatos\n",
    "df_Linkedin_Empresas = df_Linkedin"
   ]
  },
  {
   "cell_type": "markdown",
   "metadata": {},
   "source": [
    "Filtrando as colunas necessarias"
   ]
  },
  {
   "cell_type": "code",
   "execution_count": 9,
   "metadata": {},
   "outputs": [],
   "source": [
    "df_Apollo_Contatos = df_Apollo_Contatos.filter(['Website', 'First Name', 'Last Name', 'Title', 'Email', 'Person Linkedin Url'])\n",
    "\n",
    "df_Apollo_Empresas = df_Apollo_Empresas.filter(['Website', 'Company Phone', '# Employees', 'Industry', 'Company Address', 'Company City', 'Company State', 'Company Country', 'Keywords', 'SEO Description', 'Technologies', 'Annual Revenue','Company Linkedin Url', 'Facebook Url', 'Twitter Url'])"
   ]
  },
  {
   "cell_type": "code",
   "execution_count": 10,
   "metadata": {},
   "outputs": [],
   "source": [
    "df_Contatos = df_Contatos.filter(items=['QUERY', 'first_name', 'last_name', 'job_title', 'location', 'business_email', 'social_url'])\n",
    "df_Contatos_Empresas = df_Contatos_Empresas.filter(items=['QUERY', 'keywords'])"
   ]
  },
  {
   "cell_type": "code",
   "execution_count": 11,
   "metadata": {},
   "outputs": [],
   "source": [
    "df_Linkedin = df_Linkedin.filter(['Query', 'Nome', 'Cargo', 'Email', 'Linkedin_contato'])\n",
    "df_Linkedin_Empresas = df_Linkedin_Empresas.filter(['Query', 'Industria', 'Linkedin', 'Facebook', 'Twitter', 'Tecnologias'])"
   ]
  },
  {
   "cell_type": "markdown",
   "metadata": {},
   "source": [
    "Formatando Apollo"
   ]
  },
  {
   "cell_type": "code",
   "execution_count": 12,
   "metadata": {},
   "outputs": [
    {
     "name": "stderr",
     "output_type": "stream",
     "text": [
      "C:\\Users\\JOSE~1.PRO\\AppData\\Local\\Temp/ipykernel_11532/403016682.py:5: FutureWarning: The default value of regex will change from True to False in a future version. In addition, single character regular expressions will *not* be treated as literal strings when regex=True.\n",
      "  df_Apollo_Empresas['Company Phone'] = df_Apollo_Empresas['Company Phone'].str.replace(\"'\", \"\").str.replace('-', '').str.replace('/', '').str.replace(' ', '').str.replace('(', '').str.replace(')', '')\n"
     ]
    }
   ],
   "source": [
    "df_Apollo_Contatos['Person Linkedin Url'] = df_Apollo_Contatos['Person Linkedin Url'].apply(Formatar_sites)\n",
    "df_Apollo_Contatos['Website'] = df_Apollo_Contatos['Website'].apply(Formatar_sites)\n",
    "\n",
    "df_Apollo_Empresas['Website'] = df_Apollo_Contatos['Website'].apply(Formatar_sites)\n",
    "df_Apollo_Empresas['Company Phone'] = df_Apollo_Empresas['Company Phone'].str.replace(\"'\", \"\").str.replace('-', '').str.replace('/', '').str.replace(' ', '').str.replace('(', '').str.replace(')', '')"
   ]
  },
  {
   "cell_type": "code",
   "execution_count": 13,
   "metadata": {},
   "outputs": [
    {
     "name": "stderr",
     "output_type": "stream",
     "text": [
      "C:\\Users\\JOSE~1.PRO\\AppData\\Local\\Temp/ipykernel_11532/1199882460.py:1: FutureWarning: The default value of regex will change from True to False in a future version.\n",
      "  df_Apollo_Empresas['Company Phone'] = df_Apollo_Empresas['Company Phone'].str.replace(\"\\+55\", \"\")\n"
     ]
    }
   ],
   "source": [
    "df_Apollo_Empresas['Company Phone'] = df_Apollo_Empresas['Company Phone'].str.replace(\"\\+55\", \"\")"
   ]
  },
  {
   "cell_type": "code",
   "execution_count": 14,
   "metadata": {},
   "outputs": [],
   "source": [
    "df_Apollo_Empresas.loc[ df_Apollo_Empresas['Company Phone'].str.len() > 0, 'Company Phone'] = \"+55\" + df_Apollo_Empresas['Company Phone']"
   ]
  },
  {
   "cell_type": "code",
   "execution_count": 15,
   "metadata": {},
   "outputs": [],
   "source": [
    "df_Apollo_Contatos['First Name'] = df_Apollo_Contatos['First Name'].str.split(' ', expand=True).get(0)\n",
    "df_Apollo_Contatos['Last Name'] = df_Apollo_Contatos['Last Name'].apply(Retornar_Ultimo_Nome)"
   ]
  },
  {
   "cell_type": "markdown",
   "metadata": {},
   "source": [
    "Formatando Contatos DDPlus"
   ]
  },
  {
   "cell_type": "code",
   "execution_count": 16,
   "metadata": {},
   "outputs": [],
   "source": [
    "Vazios = df_Contatos[ df_Contatos['location'].isnull() ].index\n",
    "\n",
    "df_Contatos.drop(Vazios, inplace=True)"
   ]
  },
  {
   "cell_type": "code",
   "execution_count": 17,
   "metadata": {},
   "outputs": [],
   "source": [
    "df_Contatos['Brasil'] = ''\n",
    "\n",
    "df_Contatos['location'] = df_Contatos['location'].str.lower()\n",
    "\n",
    "df_Contatos.loc[df_Contatos['location'].str.contains('brasil', regex=False), 'Brasil'] = 'Sim'\n",
    "df_Contatos.loc[df_Contatos['location'].str.contains('brazil', regex=False), 'Brasil'] = 'Sim'\n",
    "df_Contatos.loc[df_Contatos['location'].str.contains('brésil', regex=False), 'Brasil'] = 'Sim'\n",
    "df_Contatos.loc[df_Contatos['location'].str.contains('rio de janeiro', regex=False), 'Brasil'] = 'Sim'\n",
    "\n",
    "Vazios = df_Contatos[ df_Contatos['Brasil'] == '' ].index\n",
    "\n",
    "df_Contatos.drop(Vazios , inplace=True)"
   ]
  },
  {
   "cell_type": "code",
   "execution_count": 18,
   "metadata": {},
   "outputs": [],
   "source": [
    "df_Contatos['social_url'] = df_Contatos['social_url'].replace('false', '')"
   ]
  },
  {
   "cell_type": "code",
   "execution_count": 19,
   "metadata": {},
   "outputs": [],
   "source": [
    "df_Contatos = df_Contatos.drop(columns=['location'])\n",
    "df_Contatos = df_Contatos.drop(columns=['Brasil'])"
   ]
  },
  {
   "cell_type": "code",
   "execution_count": 20,
   "metadata": {},
   "outputs": [],
   "source": [
    "df_Contatos['social_url'] = df_Contatos['social_url'].apply(Formatar_sites)"
   ]
  },
  {
   "cell_type": "code",
   "execution_count": 21,
   "metadata": {},
   "outputs": [
    {
     "data": {
      "text/html": [
       "<div>\n",
       "<style scoped>\n",
       "    .dataframe tbody tr th:only-of-type {\n",
       "        vertical-align: middle;\n",
       "    }\n",
       "\n",
       "    .dataframe tbody tr th {\n",
       "        vertical-align: top;\n",
       "    }\n",
       "\n",
       "    .dataframe thead th {\n",
       "        text-align: right;\n",
       "    }\n",
       "</style>\n",
       "<table border=\"1\" class=\"dataframe\">\n",
       "  <thead>\n",
       "    <tr style=\"text-align: right;\">\n",
       "      <th></th>\n",
       "      <th>QUERY</th>\n",
       "      <th>first_name</th>\n",
       "      <th>last_name</th>\n",
       "      <th>job_title</th>\n",
       "      <th>business_email</th>\n",
       "      <th>social_url</th>\n",
       "    </tr>\n",
       "  </thead>\n",
       "  <tbody>\n",
       "    <tr>\n",
       "      <th>0</th>\n",
       "      <td>abcilog.com.br</td>\n",
       "      <td>Silmara</td>\n",
       "      <td>Vieira</td>\n",
       "      <td>NaN</td>\n",
       "      <td>silmara@abcilog.com.br</td>\n",
       "      <td>linkedin.com/in/ACwAAAmerpQBfPEKlDEd0TDi8k-lzs...</td>\n",
       "    </tr>\n",
       "    <tr>\n",
       "      <th>1</th>\n",
       "      <td>abcilog.com.br</td>\n",
       "      <td>Pedro alex</td>\n",
       "      <td>Pereira miranda</td>\n",
       "      <td>NaN</td>\n",
       "      <td>alex@abcilog.com.br</td>\n",
       "      <td>linkedin.com/in/ACwAAAe_xjgBxZhcJPmnFakKgws2ft...</td>\n",
       "    </tr>\n",
       "    <tr>\n",
       "      <th>2</th>\n",
       "      <td>aegea.com.br</td>\n",
       "      <td>Jacy</td>\n",
       "      <td>Prado</td>\n",
       "      <td>NaN</td>\n",
       "      <td>jacy.prado@aegea.com.br</td>\n",
       "      <td>linkedin.com/in/ACwAAACxG4kBYQ1MKR3xFQin0_0qHZ...</td>\n",
       "    </tr>\n",
       "    <tr>\n",
       "      <th>3</th>\n",
       "      <td>aegea.com.br</td>\n",
       "      <td>Marcelo</td>\n",
       "      <td>Vasconcellos</td>\n",
       "      <td>NaN</td>\n",
       "      <td>marcelo.vasconcellos@aegea.com.br</td>\n",
       "      <td>linkedin.com/in/ACwAAAMBwrMBNuI0EktMV10S70__0S...</td>\n",
       "    </tr>\n",
       "    <tr>\n",
       "      <th>4</th>\n",
       "      <td>aegea.com.br</td>\n",
       "      <td>Waldo</td>\n",
       "      <td>Bitencourt</td>\n",
       "      <td>NaN</td>\n",
       "      <td>waldo.bitencourt@aegea.com.br</td>\n",
       "      <td>linkedin.com/in/ACwAABk1LakB71dHWpm7NEFZ1bi1pN...</td>\n",
       "    </tr>\n",
       "    <tr>\n",
       "      <th>...</th>\n",
       "      <td>...</td>\n",
       "      <td>...</td>\n",
       "      <td>...</td>\n",
       "      <td>...</td>\n",
       "      <td>...</td>\n",
       "      <td>...</td>\n",
       "    </tr>\n",
       "    <tr>\n",
       "      <th>3625</th>\n",
       "      <td>cabambiental.com.br</td>\n",
       "      <td>giuliano vito</td>\n",
       "      <td>dragone</td>\n",
       "      <td>Diretor Técnico</td>\n",
       "      <td>gdragone@cabambiental.com.br</td>\n",
       "      <td>linkedin.com/sales/people/ACwAAAT6eNYBbEK5EBbq...</td>\n",
       "    </tr>\n",
       "    <tr>\n",
       "      <th>3626</th>\n",
       "      <td>cabambiental.com.br</td>\n",
       "      <td>mariana</td>\n",
       "      <td>thozo</td>\n",
       "      <td>Fundador</td>\n",
       "      <td>mthozo@cabambiental.com.br</td>\n",
       "      <td>linkedin.com/sales/people/ACwAAAkbBbQBdJsWapAk...</td>\n",
       "    </tr>\n",
       "    <tr>\n",
       "      <th>3627</th>\n",
       "      <td>cabambiental.com.br</td>\n",
       "      <td>Márcia</td>\n",
       "      <td>Matoso</td>\n",
       "      <td>NaN</td>\n",
       "      <td>mmatoso@cabambiental.com.br</td>\n",
       "      <td>linkedin.com/in/ACwAAATBgnUBwhF7BEaaH8aihy9Ouk...</td>\n",
       "    </tr>\n",
       "    <tr>\n",
       "      <th>3628</th>\n",
       "      <td>cabambiental.com.br</td>\n",
       "      <td>Antonio</td>\n",
       "      <td>Pontes</td>\n",
       "      <td>NaN</td>\n",
       "      <td>apontes@cabambiental.com.br</td>\n",
       "      <td>linkedin.com/in/ACwAAAhitasBMte8apMCoQBo2Bntmw...</td>\n",
       "    </tr>\n",
       "    <tr>\n",
       "      <th>3629</th>\n",
       "      <td>efficientia.com.br</td>\n",
       "      <td>ricardo</td>\n",
       "      <td>santos</td>\n",
       "      <td>Gerente Comercial e de Engenharia</td>\n",
       "      <td>rdhsantos@efficientia.com.br</td>\n",
       "      <td>None</td>\n",
       "    </tr>\n",
       "  </tbody>\n",
       "</table>\n",
       "<p>3227 rows × 6 columns</p>\n",
       "</div>"
      ],
      "text/plain": [
       "                    QUERY     first_name        last_name  \\\n",
       "0          abcilog.com.br        Silmara           Vieira   \n",
       "1          abcilog.com.br     Pedro alex  Pereira miranda   \n",
       "2            aegea.com.br           Jacy            Prado   \n",
       "3            aegea.com.br        Marcelo     Vasconcellos   \n",
       "4            aegea.com.br          Waldo       Bitencourt   \n",
       "...                   ...            ...              ...   \n",
       "3625  cabambiental.com.br  giuliano vito          dragone   \n",
       "3626  cabambiental.com.br        mariana            thozo   \n",
       "3627  cabambiental.com.br         Márcia           Matoso   \n",
       "3628  cabambiental.com.br        Antonio           Pontes   \n",
       "3629   efficientia.com.br        ricardo           santos   \n",
       "\n",
       "                              job_title                     business_email  \\\n",
       "0                                   NaN             silmara@abcilog.com.br   \n",
       "1                                   NaN                alex@abcilog.com.br   \n",
       "2                                   NaN            jacy.prado@aegea.com.br   \n",
       "3                                   NaN  marcelo.vasconcellos@aegea.com.br   \n",
       "4                                   NaN      waldo.bitencourt@aegea.com.br   \n",
       "...                                 ...                                ...   \n",
       "3625                    Diretor Técnico       gdragone@cabambiental.com.br   \n",
       "3626                           Fundador         mthozo@cabambiental.com.br   \n",
       "3627                                NaN        mmatoso@cabambiental.com.br   \n",
       "3628                                NaN        apontes@cabambiental.com.br   \n",
       "3629  Gerente Comercial e de Engenharia       rdhsantos@efficientia.com.br   \n",
       "\n",
       "                                             social_url  \n",
       "0     linkedin.com/in/ACwAAAmerpQBfPEKlDEd0TDi8k-lzs...  \n",
       "1     linkedin.com/in/ACwAAAe_xjgBxZhcJPmnFakKgws2ft...  \n",
       "2     linkedin.com/in/ACwAAACxG4kBYQ1MKR3xFQin0_0qHZ...  \n",
       "3     linkedin.com/in/ACwAAAMBwrMBNuI0EktMV10S70__0S...  \n",
       "4     linkedin.com/in/ACwAABk1LakB71dHWpm7NEFZ1bi1pN...  \n",
       "...                                                 ...  \n",
       "3625  linkedin.com/sales/people/ACwAAAT6eNYBbEK5EBbq...  \n",
       "3626  linkedin.com/sales/people/ACwAAAkbBbQBdJsWapAk...  \n",
       "3627  linkedin.com/in/ACwAAATBgnUBwhF7BEaaH8aihy9Ouk...  \n",
       "3628  linkedin.com/in/ACwAAAhitasBMte8apMCoQBo2Bntmw...  \n",
       "3629                                               None  \n",
       "\n",
       "[3227 rows x 6 columns]"
      ]
     },
     "execution_count": 21,
     "metadata": {},
     "output_type": "execute_result"
    }
   ],
   "source": [
    "df_Contatos"
   ]
  },
  {
   "cell_type": "code",
   "execution_count": 22,
   "metadata": {},
   "outputs": [],
   "source": [
    "df_Contatos['first_name'] = df_Contatos['first_name'].str.split(' ', expand=True).get(0)\n",
    "df_Contatos['last_name'] = df_Contatos['last_name'].apply(Retornar_Ultimo_Nome)"
   ]
  },
  {
   "cell_type": "markdown",
   "metadata": {},
   "source": [
    "Formatando Linkedin DDPlus"
   ]
  },
  {
   "cell_type": "code",
   "execution_count": 23,
   "metadata": {},
   "outputs": [],
   "source": [
    "df_Linkedin['PRIMEIRO NOME'] = ''\n",
    "df_Linkedin['ULTIMO NOME'] = ''"
   ]
  },
  {
   "cell_type": "code",
   "execution_count": 24,
   "metadata": {},
   "outputs": [],
   "source": [
    "df_Linkedin['PRIMEIRO NOME'] = df_Linkedin['Nome'].str.split(' ', expand=True).get(0)\n",
    "df_Linkedin['ULTIMO NOME'] = df_Linkedin['Nome'].apply(Retornar_Ultimo_Nome)"
   ]
  },
  {
   "cell_type": "code",
   "execution_count": 25,
   "metadata": {},
   "outputs": [],
   "source": [
    "df_Linkedin['Linkedin_contato'] = df_Linkedin['Linkedin_contato'].apply(Formatar_sites)"
   ]
  },
  {
   "cell_type": "code",
   "execution_count": 26,
   "metadata": {},
   "outputs": [],
   "source": [
    "df_Linkedin = df_Linkedin.filter(items=['Query', 'PRIMEIRO NOME', 'ULTIMO NOME', 'Cargo', 'Email', 'Linkedin_contato'])"
   ]
  },
  {
   "cell_type": "code",
   "execution_count": 27,
   "metadata": {},
   "outputs": [],
   "source": [
    "df_Linkedin_Empresas['Linkedin'] = df_Linkedin_Empresas['Linkedin'].apply(Formatar_sites)\n",
    "df_Linkedin_Empresas['Facebook'] = df_Linkedin_Empresas['Facebook'].apply(Formatar_sites)\n",
    "df_Linkedin_Empresas['Twitter'] = df_Linkedin_Empresas['Twitter'].apply(Formatar_sites)"
   ]
  },
  {
   "cell_type": "code",
   "execution_count": 28,
   "metadata": {},
   "outputs": [],
   "source": [
    "df_Apollo_Contatos = df_Apollo_Contatos.rename(columns={'Website':'WEBSITE', 'First Name':'PRIMEIRO NOME', 'Last Name':'ULTIMO NOME', 'Title':'CARGO', 'Email':'EMAIL', 'Person Linkedin Url':'LINKEDIN_CONTATO'})\n",
    "df_Contatos = df_Contatos.rename(columns={'QUERY':'WEBSITE', 'first_name':'PRIMEIRO NOME', 'last_name':'ULTIMO NOME', 'job_title':'CARGO', 'business_email':'EMAIL', 'social_url':'LINKEDIN_CONTATO'})\n",
    "df_Linkedin = df_Linkedin.rename(columns={'Query':'WEBSITE', 'PRIMEIRO NOME':'PRIMEIRO NOME', 'ULTIMO NOME':'ULTIMO NOME', 'Cargo':'CARGO', 'Email':'EMAIL', 'Linkedin_contato':'LINKEDIN_CONTATO'})"
   ]
  },
  {
   "cell_type": "code",
   "execution_count": 29,
   "metadata": {},
   "outputs": [],
   "source": [
    "df_Total_Contatos = df_Apollo_Contatos\n",
    "df_Total_Contatos = df_Total_Contatos.append(df_Contatos)\n",
    "df_Total_Contatos = df_Total_Contatos.append(df_Linkedin)"
   ]
  },
  {
   "cell_type": "markdown",
   "metadata": {},
   "source": [
    "Empresas"
   ]
  },
  {
   "cell_type": "code",
   "execution_count": 30,
   "metadata": {},
   "outputs": [],
   "source": [
    "df_Contatos_Empresas['Company Phone'] = ''\n",
    "df_Contatos_Empresas['# Employees'] = ''\n",
    "df_Contatos_Empresas['Industry'] = ''\n",
    "df_Contatos_Empresas['Company Address'] = ''\n",
    "df_Contatos_Empresas['Company City'] = ''\n",
    "df_Contatos_Empresas['Company State'] = ''\n",
    "df_Contatos_Empresas['Company Country'] = ''\n",
    "df_Contatos_Empresas['SEO Description'] = ''\n",
    "df_Contatos_Empresas['Technologies'] = ''\n",
    "df_Contatos_Empresas['Annual Revenue'] = ''\n",
    "df_Contatos_Empresas['Company Linkedin Url'] = ''\n",
    "df_Contatos_Empresas['Facebook Url'] = ''\n",
    "df_Contatos_Empresas['Twitter Url'] = ''\n",
    "\n",
    "df_Linkedin_Empresas['Company Phone'] = ''\n",
    "df_Linkedin_Empresas['# Employees'] = ''\n",
    "df_Linkedin_Empresas['Company Address'] = ''\n",
    "df_Linkedin_Empresas['Company City'] = ''\n",
    "df_Linkedin_Empresas['Company State'] = ''\n",
    "df_Linkedin_Empresas['Company Country'] = ''\n",
    "df_Linkedin_Empresas['Keywords'] = ''\n",
    "df_Linkedin_Empresas['SEO Description'] = ''\n",
    "df_Linkedin_Empresas['Annual Revenue'] = ''"
   ]
  },
  {
   "cell_type": "code",
   "execution_count": 31,
   "metadata": {},
   "outputs": [],
   "source": [
    "df_Contatos_Empresas.rename(columns={'QUERY':'Website', 'keywords':'Keywords'}, inplace=True)\n",
    "\n",
    "df_Linkedin_Empresas.rename(columns={'Query':'Website', 'Industria':'Industry', 'Linkedin':'Company Linkedin Url', 'Facebook':'Facebook Url', 'Twitter':'Twitter Url', 'Tecnologias':'Technologies'}, inplace=True)"
   ]
  },
  {
   "cell_type": "code",
   "execution_count": 32,
   "metadata": {},
   "outputs": [],
   "source": [
    "df_Contatos_Empresas = df_Contatos_Empresas.filter(items=['Website', 'Company Phone', '# Employees', 'Industry', 'Company Address', 'Company City', 'Company State', 'Company Country', 'Keywords', 'SEO Description', 'Technologies', 'Annual Revenue', 'Company Linkedin Url', 'Facebook Url', 'Twitter Url'])"
   ]
  },
  {
   "cell_type": "code",
   "execution_count": 33,
   "metadata": {},
   "outputs": [],
   "source": [
    "df_Linkedin_Empresas = df_Linkedin_Empresas.filter(['Website', 'Company Phone', '# Employees', 'Industry',\n",
    "       'Company Address', 'Company City', 'Company State', 'Company Country',\n",
    "       'Keywords', 'SEO Description', 'Technologies', 'Annual Revenue',\n",
    "       'Company Linkedin Url', 'Facebook Url', 'Twitter Url'])"
   ]
  },
  {
   "cell_type": "code",
   "execution_count": 34,
   "metadata": {},
   "outputs": [],
   "source": [
    "df_Total_Empresas = df_Apollo_Empresas\n",
    "df_Total_Empresas = df_Total_Empresas.append(df_Contatos_Empresas)\n",
    "df_Total_Empresas = df_Total_Empresas.append(df_Linkedin_Empresas)"
   ]
  },
  {
   "cell_type": "markdown",
   "metadata": {},
   "source": [
    "Formatação nos totais"
   ]
  },
  {
   "cell_type": "code",
   "execution_count": 35,
   "metadata": {},
   "outputs": [],
   "source": [
    "df_Total_Contatos['PRIMEIRO NOME'] = df_Total_Contatos['PRIMEIRO NOME'].str.title()\n",
    "df_Total_Contatos['ULTIMO NOME'] = df_Total_Contatos['ULTIMO NOME'].str.title()\n",
    "df_Total_Contatos['CARGO'] = df_Total_Contatos['CARGO'].str.title()\n",
    "df_Total_Contatos['EMAIL'] = df_Total_Contatos['EMAIL'].str.lower()\n",
    "df_Total_Contatos['LINKEDIN_CONTATO'] = df_Total_Contatos['LINKEDIN_CONTATO'].str.lower()"
   ]
  },
  {
   "cell_type": "code",
   "execution_count": 36,
   "metadata": {},
   "outputs": [],
   "source": [
    "df_Total_Contatos = df_Total_Contatos.drop_duplicates(subset=['WEBSITE', 'PRIMEIRO NOME', 'ULTIMO NOME'])"
   ]
  },
  {
   "cell_type": "code",
   "execution_count": 37,
   "metadata": {},
   "outputs": [],
   "source": [
    "df_Total_Contatos['PRIMEIRO NOME'] = df_Total_Contatos['PRIMEIRO NOME'].apply(Remover_Caracteres_Especiais)\n",
    "df_Total_Contatos['ULTIMO NOME'] = df_Total_Contatos['ULTIMO NOME'].apply(Remover_Caracteres_Especiais)\n",
    "df_Total_Contatos['PRIMEIRO NOME'] = df_Total_Contatos['PRIMEIRO NOME'].str.strip()\n",
    "df_Total_Contatos['ULTIMO NOME'] = df_Total_Contatos['ULTIMO NOME'].str.strip()"
   ]
  },
  {
   "cell_type": "code",
   "execution_count": 38,
   "metadata": {},
   "outputs": [],
   "source": [
    "df_Total_Empresas = df_Total_Empresas.drop_duplicates()\n",
    "df_Total_Empresas['Facebook Url'] = df_Total_Empresas['Facebook Url'].apply(Formatar_sites)\n",
    "df_Total_Empresas['Company Linkedin Url'] = df_Total_Empresas['Company Linkedin Url'].apply(Formatar_sites)\n",
    "df_Total_Empresas['Twitter Url'] = df_Total_Empresas['Twitter Url'].apply(Formatar_sites)"
   ]
  },
  {
   "cell_type": "code",
   "execution_count": 39,
   "metadata": {},
   "outputs": [],
   "source": [
    "df_Total_Contatos.reset_index(inplace = True)\n",
    "\n",
    "for i in df_Total_Contatos.index:\n",
    "    if not df_Total_Contatos['PRIMEIRO NOME'][i]:\n",
    "        df_Total_Contatos['PRIMEIRO NOME'][i] = df_Total_Contatos['ULTIMO NOME'][i]\n",
    "        df_Total_Contatos['ULTIMO NOME'][i] = \"\""
   ]
  },
  {
   "cell_type": "code",
   "execution_count": 40,
   "metadata": {},
   "outputs": [],
   "source": [
    "#Cria um excel writer usando xlsxwriter como engine;\n",
    "# Enriquecimento\n",
    "# Extração\n",
    "# Estudo\n",
    "writer = pd.ExcelWriter(caminho + 'Output_Contatos_Empresas_Linkedin_Apollo' + '.xlsx', engine='xlsxwriter')\n",
    "\n",
    "#Escreve os dataframes em diferentes sheets dentro do arquivo final;\n",
    "df_Total_Contatos.to_excel(writer, sheet_name='Contatos', index=False)\n",
    "df_Total_Empresas.to_excel(writer, sheet_name='Empresas', index=False)\n",
    "\n",
    "#Fecha o arquivo e salva no diretório;\n",
    "writer.save()"
   ]
  }
 ],
 "metadata": {
  "interpreter": {
   "hash": "83d131cb932d342254a856aba77985769a4bb5186e304f75366df988e2740cfe"
  },
  "kernelspec": {
   "display_name": "Python 3.9.7 64-bit",
   "name": "python3"
  },
  "language_info": {
   "codemirror_mode": {
    "name": "ipython",
    "version": 3
   },
   "file_extension": ".py",
   "mimetype": "text/x-python",
   "name": "python",
   "nbconvert_exporter": "python",
   "pygments_lexer": "ipython3",
   "version": "3.9.7"
  },
  "orig_nbformat": 2
 },
 "nbformat": 4,
 "nbformat_minor": 2
}
