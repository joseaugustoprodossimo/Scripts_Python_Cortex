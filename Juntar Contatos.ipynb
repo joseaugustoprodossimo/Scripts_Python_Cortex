{
 "cells": [
  {
   "cell_type": "code",
   "execution_count": 10,
   "metadata": {},
   "outputs": [],
   "source": [
    "import pandas as pd\n",
    "import re"
   ]
  },
  {
   "cell_type": "code",
   "execution_count": 11,
   "metadata": {},
   "outputs": [],
   "source": [
    "caminho = 'C:\\\\Projetos\\\\Python\\\\Contatos\\\\'\n",
    "\n",
    "#arquivoApolloExcel = 'Output_Total.xlsx'\n",
    "arquivoApolloCSV = 'apollo-contacts-export.csv' # 'Output_Total.csv'\n",
    "contatos = 'Contatos.xlsx'\n",
    "linkedin = 'Linkedin.xlsx'\n",
    "\n",
    "#df_Apollo = pd.read_excel(caminho + arquivoApolloExcel)\n",
    "df_Apollo = pd.read_csv(caminho + arquivoApolloCSV, converters={ 'Company Phone': lambda x: str(x), 'First Name': lambda x: str(x), 'Last Name': lambda x: str(x)})"
   ]
  },
  {
   "cell_type": "code",
   "execution_count": 12,
   "metadata": {},
   "outputs": [],
   "source": [
    "def Retornar_Ultimo_Nome(item):\n",
    "    item = str(item)\n",
    "    item = item.split(' ')\n",
    "\n",
    "    if(len(item) > 1):\n",
    "        return item[len(item) - 1]\n",
    "    elif(len(item) == 1):\n",
    "        return item[0]\n",
    "    else:\n",
    "        \"\""
   ]
  },
  {
   "cell_type": "code",
   "execution_count": 13,
   "metadata": {},
   "outputs": [],
   "source": [
    "def Remover_Caracteres_Especiais(item):\n",
    "    item = str(item)\n",
    "    if item:\n",
    "        return ''.join(char for char in item if char.isalnum())\n",
    "    else:\n",
    "        ''"
   ]
  },
  {
   "cell_type": "code",
   "execution_count": 14,
   "metadata": {},
   "outputs": [],
   "source": [
    "def Formatar_sites(item):\n",
    "    item = str(item)\n",
    "    \n",
    "    if(len(item) > 5):\n",
    "        return item.replace('http://', '').replace('https://', '').replace('www.', '')\n",
    "    else:\n",
    "        \"\""
   ]
  },
  {
   "cell_type": "code",
   "execution_count": 15,
   "metadata": {},
   "outputs": [],
   "source": [
    "df_Contatos = pd.read_excel(caminho + contatos, converters={'first_name':lambda x: str(x), 'last_name':lambda x: str(x)})"
   ]
  },
  {
   "cell_type": "code",
   "execution_count": 16,
   "metadata": {},
   "outputs": [],
   "source": [
    "df_Linkedin = pd.read_excel(caminho + linkedin)"
   ]
  },
  {
   "cell_type": "code",
   "execution_count": 17,
   "metadata": {},
   "outputs": [],
   "source": [
    "df_Apollo_Contatos = df_Apollo\n",
    "df_Apollo_Empresas = df_Apollo\n",
    "df_Contatos_Empresas = df_Contatos\n",
    "df_Linkedin_Empresas = df_Linkedin"
   ]
  },
  {
   "cell_type": "markdown",
   "metadata": {},
   "source": [
    "Filtrando as colunas necessarias"
   ]
  },
  {
   "cell_type": "code",
   "execution_count": 18,
   "metadata": {},
   "outputs": [],
   "source": [
    "df_Apollo_Contatos = df_Apollo_Contatos.filter(['Website', 'First Name', 'Last Name', 'Title', 'Email', 'Person Linkedin Url'])\n",
    "\n",
    "df_Apollo_Empresas = df_Apollo_Empresas.filter(['Website', 'Company Phone', '# Employees', 'Industry', 'Company Address', 'Company City', 'Company State', 'Company Country', 'Keywords', 'SEO Description', 'Technologies', 'Annual Revenue','Company Linkedin Url', 'Facebook Url', 'Twitter Url'])"
   ]
  },
  {
   "cell_type": "code",
   "execution_count": 19,
   "metadata": {},
   "outputs": [],
   "source": [
    "df_Contatos = df_Contatos.filter(items=['QUERY', 'first_name', 'last_name', 'job_title', 'location', 'business_email', 'social_url'])\n",
    "df_Contatos_Empresas = df_Contatos_Empresas.filter(items=['QUERY', 'keywords'])"
   ]
  },
  {
   "cell_type": "code",
   "execution_count": 20,
   "metadata": {},
   "outputs": [],
   "source": [
    "df_Linkedin = df_Linkedin.filter(['Query', 'Nome', 'Cargo', 'Email', 'Linkedin_contato'])\n",
    "df_Linkedin_Empresas = df_Linkedin_Empresas.filter(['Query', 'Industria', 'Linkedin', 'Facebook', 'Twitter', 'Tecnologias'])"
   ]
  },
  {
   "cell_type": "markdown",
   "metadata": {},
   "source": [
    "Formatando Apollo"
   ]
  },
  {
   "cell_type": "code",
   "execution_count": 21,
   "metadata": {},
   "outputs": [
    {
     "name": "stderr",
     "output_type": "stream",
     "text": [
      "C:\\Users\\JOSE~1.PRO\\AppData\\Local\\Temp/ipykernel_18792/403016682.py:5: FutureWarning: The default value of regex will change from True to False in a future version. In addition, single character regular expressions will *not* be treated as literal strings when regex=True.\n",
      "  df_Apollo_Empresas['Company Phone'] = df_Apollo_Empresas['Company Phone'].str.replace(\"'\", \"\").str.replace('-', '').str.replace('/', '').str.replace(' ', '').str.replace('(', '').str.replace(')', '')\n"
     ]
    }
   ],
   "source": [
    "df_Apollo_Contatos['Person Linkedin Url'] = df_Apollo_Contatos['Person Linkedin Url'].apply(Formatar_sites)\n",
    "df_Apollo_Contatos['Website'] = df_Apollo_Contatos['Website'].apply(Formatar_sites)\n",
    "\n",
    "df_Apollo_Empresas['Website'] = df_Apollo_Contatos['Website'].apply(Formatar_sites)\n",
    "df_Apollo_Empresas['Company Phone'] = df_Apollo_Empresas['Company Phone'].str.replace(\"'\", \"\").str.replace('-', '').str.replace('/', '').str.replace(' ', '').str.replace('(', '').str.replace(')', '')"
   ]
  },
  {
   "cell_type": "code",
   "execution_count": 22,
   "metadata": {},
   "outputs": [
    {
     "name": "stderr",
     "output_type": "stream",
     "text": [
      "C:\\Users\\JOSE~1.PRO\\AppData\\Local\\Temp/ipykernel_18792/1199882460.py:1: FutureWarning: The default value of regex will change from True to False in a future version.\n",
      "  df_Apollo_Empresas['Company Phone'] = df_Apollo_Empresas['Company Phone'].str.replace(\"\\+55\", \"\")\n"
     ]
    }
   ],
   "source": [
    "df_Apollo_Empresas['Company Phone'] = df_Apollo_Empresas['Company Phone'].str.replace(\"\\+55\", \"\")"
   ]
  },
  {
   "cell_type": "code",
   "execution_count": 23,
   "metadata": {},
   "outputs": [],
   "source": [
    "df_Apollo_Empresas.loc[ df_Apollo_Empresas['Company Phone'].str.len() > 0, 'Company Phone'] = \"+55\" + df_Apollo_Empresas['Company Phone']"
   ]
  },
  {
   "cell_type": "code",
   "execution_count": 24,
   "metadata": {},
   "outputs": [],
   "source": [
    "df_Apollo_Contatos['First Name'] = df_Apollo_Contatos['First Name'].str.split(' ', expand=True).get(0)\n",
    "df_Apollo_Contatos['Last Name'] = df_Apollo_Contatos['Last Name'].apply(Retornar_Ultimo_Nome)"
   ]
  },
  {
   "cell_type": "markdown",
   "metadata": {},
   "source": [
    "Formatando Contatos DDPlus"
   ]
  },
  {
   "cell_type": "code",
   "execution_count": 25,
   "metadata": {},
   "outputs": [],
   "source": [
    "Vazios = df_Contatos[ df_Contatos['location'].isnull() ].index\n",
    "\n",
    "df_Contatos.drop(Vazios, inplace=True)"
   ]
  },
  {
   "cell_type": "code",
   "execution_count": 26,
   "metadata": {},
   "outputs": [],
   "source": [
    "df_Contatos['Brasil'] = ''\n",
    "\n",
    "df_Contatos['location'] = df_Contatos['location'].str.lower()\n",
    "\n",
    "df_Contatos.loc[df_Contatos['location'].str.contains('brasil', regex=False), 'Brasil'] = 'Sim'\n",
    "df_Contatos.loc[df_Contatos['location'].str.contains('brazil', regex=False), 'Brasil'] = 'Sim'\n",
    "df_Contatos.loc[df_Contatos['location'].str.contains('brésil', regex=False), 'Brasil'] = 'Sim'\n",
    "df_Contatos.loc[df_Contatos['location'].str.contains('rio de janeiro', regex=False), 'Brasil'] = 'Sim'\n",
    "\n",
    "Vazios = df_Contatos[ df_Contatos['Brasil'] == '' ].index\n",
    "\n",
    "df_Contatos.drop(Vazios , inplace=True)"
   ]
  },
  {
   "cell_type": "code",
   "execution_count": 27,
   "metadata": {},
   "outputs": [],
   "source": [
    "df_Contatos['social_url'] = df_Contatos['social_url'].replace('false', '')"
   ]
  },
  {
   "cell_type": "code",
   "execution_count": 28,
   "metadata": {},
   "outputs": [],
   "source": [
    "df_Contatos = df_Contatos.drop(columns=['location'])\n",
    "df_Contatos = df_Contatos.drop(columns=['Brasil'])"
   ]
  },
  {
   "cell_type": "code",
   "execution_count": 29,
   "metadata": {},
   "outputs": [],
   "source": [
    "df_Contatos['social_url'] = df_Contatos['social_url'].apply(Formatar_sites)"
   ]
  },
  {
   "cell_type": "code",
   "execution_count": 30,
   "metadata": {},
   "outputs": [],
   "source": [
    "df_Contatos['first_name'] = df_Contatos['first_name'].str.split(' ', expand=True).get(0)\n",
    "df_Contatos['last_name'] = df_Contatos['last_name'].apply(Retornar_Ultimo_Nome)"
   ]
  },
  {
   "cell_type": "markdown",
   "metadata": {},
   "source": [
    "Formatando Linkedin DDPlus"
   ]
  },
  {
   "cell_type": "code",
   "execution_count": 31,
   "metadata": {},
   "outputs": [],
   "source": [
    "df_Linkedin['PRIMEIRO NOME'] = ''\n",
    "df_Linkedin['ULTIMO NOME'] = ''"
   ]
  },
  {
   "cell_type": "code",
   "execution_count": 32,
   "metadata": {},
   "outputs": [],
   "source": [
    "df_Linkedin['PRIMEIRO NOME'] = df_Linkedin['Nome'].str.split(' ', expand=True).get(0)\n",
    "df_Linkedin['ULTIMO NOME'] = df_Linkedin['Nome'].apply(Retornar_Ultimo_Nome)"
   ]
  },
  {
   "cell_type": "code",
   "execution_count": 33,
   "metadata": {},
   "outputs": [],
   "source": [
    "df_Linkedin['Linkedin_contato'] = df_Linkedin['Linkedin_contato'].apply(Formatar_sites)"
   ]
  },
  {
   "cell_type": "code",
   "execution_count": 34,
   "metadata": {},
   "outputs": [],
   "source": [
    "df_Linkedin = df_Linkedin.filter(items=['Query', 'PRIMEIRO NOME', 'ULTIMO NOME', 'Cargo', 'Email', 'Linkedin_contato'])"
   ]
  },
  {
   "cell_type": "code",
   "execution_count": 35,
   "metadata": {},
   "outputs": [],
   "source": [
    "df_Linkedin_Empresas['Linkedin'] = df_Linkedin_Empresas['Linkedin'].apply(Formatar_sites)\n",
    "df_Linkedin_Empresas['Facebook'] = df_Linkedin_Empresas['Facebook'].apply(Formatar_sites)\n",
    "df_Linkedin_Empresas['Twitter'] = df_Linkedin_Empresas['Twitter'].apply(Formatar_sites)"
   ]
  },
  {
   "cell_type": "code",
   "execution_count": 36,
   "metadata": {},
   "outputs": [],
   "source": [
    "df_Apollo_Contatos = df_Apollo_Contatos.rename(columns={'Website':'WEBSITE', 'First Name':'PRIMEIRO NOME', 'Last Name':'ULTIMO NOME', 'Title':'CARGO', 'Email':'EMAIL', 'Person Linkedin Url':'LINKEDIN_CONTATO'})\n",
    "df_Contatos = df_Contatos.rename(columns={'QUERY':'WEBSITE', 'first_name':'PRIMEIRO NOME', 'last_name':'ULTIMO NOME', 'job_title':'CARGO', 'business_email':'EMAIL', 'social_url':'LINKEDIN_CONTATO'})\n",
    "df_Linkedin = df_Linkedin.rename(columns={'Query':'WEBSITE', 'PRIMEIRO NOME':'PRIMEIRO NOME', 'ULTIMO NOME':'ULTIMO NOME', 'Cargo':'CARGO', 'Email':'EMAIL', 'Linkedin_contato':'LINKEDIN_CONTATO'})"
   ]
  },
  {
   "cell_type": "code",
   "execution_count": 37,
   "metadata": {},
   "outputs": [],
   "source": [
    "df_Total_Contatos = df_Apollo_Contatos\n",
    "df_Total_Contatos = df_Total_Contatos.append(df_Contatos)\n",
    "df_Total_Contatos = df_Total_Contatos.append(df_Linkedin)"
   ]
  },
  {
   "cell_type": "markdown",
   "metadata": {},
   "source": [
    "Empresas"
   ]
  },
  {
   "cell_type": "code",
   "execution_count": 38,
   "metadata": {},
   "outputs": [],
   "source": [
    "df_Contatos_Empresas['Company Phone'] = ''\n",
    "df_Contatos_Empresas['# Employees'] = ''\n",
    "df_Contatos_Empresas['Industry'] = ''\n",
    "df_Contatos_Empresas['Company Address'] = ''\n",
    "df_Contatos_Empresas['Company City'] = ''\n",
    "df_Contatos_Empresas['Company State'] = ''\n",
    "df_Contatos_Empresas['Company Country'] = ''\n",
    "df_Contatos_Empresas['SEO Description'] = ''\n",
    "df_Contatos_Empresas['Technologies'] = ''\n",
    "df_Contatos_Empresas['Annual Revenue'] = ''\n",
    "df_Contatos_Empresas['Company Linkedin Url'] = ''\n",
    "df_Contatos_Empresas['Facebook Url'] = ''\n",
    "df_Contatos_Empresas['Twitter Url'] = ''\n",
    "\n",
    "df_Linkedin_Empresas['Company Phone'] = ''\n",
    "df_Linkedin_Empresas['# Employees'] = ''\n",
    "df_Linkedin_Empresas['Company Address'] = ''\n",
    "df_Linkedin_Empresas['Company City'] = ''\n",
    "df_Linkedin_Empresas['Company State'] = ''\n",
    "df_Linkedin_Empresas['Company Country'] = ''\n",
    "df_Linkedin_Empresas['Keywords'] = ''\n",
    "df_Linkedin_Empresas['SEO Description'] = ''\n",
    "df_Linkedin_Empresas['Annual Revenue'] = ''"
   ]
  },
  {
   "cell_type": "code",
   "execution_count": 39,
   "metadata": {},
   "outputs": [],
   "source": [
    "df_Contatos_Empresas.rename(columns={'QUERY':'Website', 'keywords':'Keywords'}, inplace=True)\n",
    "\n",
    "df_Linkedin_Empresas.rename(columns={'Query':'Website', 'Industria':'Industry', 'Linkedin':'Company Linkedin Url', 'Facebook':'Facebook Url', 'Twitter':'Twitter Url', 'Tecnologias':'Technologies'}, inplace=True)"
   ]
  },
  {
   "cell_type": "code",
   "execution_count": 40,
   "metadata": {},
   "outputs": [],
   "source": [
    "df_Contatos_Empresas = df_Contatos_Empresas.filter(items=['Website', 'Company Phone', '# Employees', 'Industry', 'Company Address', 'Company City', 'Company State', 'Company Country', 'Keywords', 'SEO Description', 'Technologies', 'Annual Revenue', 'Company Linkedin Url', 'Facebook Url', 'Twitter Url'])"
   ]
  },
  {
   "cell_type": "code",
   "execution_count": 41,
   "metadata": {},
   "outputs": [],
   "source": [
    "df_Linkedin_Empresas = df_Linkedin_Empresas.filter(['Website', 'Company Phone', '# Employees', 'Industry',\n",
    "       'Company Address', 'Company City', 'Company State', 'Company Country',\n",
    "       'Keywords', 'SEO Description', 'Technologies', 'Annual Revenue',\n",
    "       'Company Linkedin Url', 'Facebook Url', 'Twitter Url'])"
   ]
  },
  {
   "cell_type": "code",
   "execution_count": 42,
   "metadata": {},
   "outputs": [],
   "source": [
    "df_Total_Empresas = df_Apollo_Empresas\n",
    "df_Total_Empresas = df_Total_Empresas.append(df_Contatos_Empresas)\n",
    "df_Total_Empresas = df_Total_Empresas.append(df_Linkedin_Empresas)"
   ]
  },
  {
   "cell_type": "markdown",
   "metadata": {},
   "source": [
    "Formatação nos totais"
   ]
  },
  {
   "cell_type": "code",
   "execution_count": 43,
   "metadata": {},
   "outputs": [],
   "source": [
    "df_Total_Contatos['PRIMEIRO NOME'] = df_Total_Contatos['PRIMEIRO NOME'].str.title()\n",
    "df_Total_Contatos['ULTIMO NOME'] = df_Total_Contatos['ULTIMO NOME'].str.title()\n",
    "df_Total_Contatos['CARGO'] = df_Total_Contatos['CARGO'].str.title()\n",
    "df_Total_Contatos['EMAIL'] = df_Total_Contatos['EMAIL'].str.lower()\n",
    "df_Total_Contatos['LINKEDIN_CONTATO'] = df_Total_Contatos['LINKEDIN_CONTATO'].str.lower()"
   ]
  },
  {
   "cell_type": "code",
   "execution_count": 44,
   "metadata": {},
   "outputs": [],
   "source": [
    "df_Total_Contatos = df_Total_Contatos.drop_duplicates(subset=['WEBSITE', 'PRIMEIRO NOME', 'ULTIMO NOME'])"
   ]
  },
  {
   "cell_type": "code",
   "execution_count": 45,
   "metadata": {},
   "outputs": [],
   "source": [
    "df_Total_Contatos['PRIMEIRO NOME'] = df_Total_Contatos['PRIMEIRO NOME'].apply(Remover_Caracteres_Especiais)\n",
    "df_Total_Contatos['ULTIMO NOME'] = df_Total_Contatos['ULTIMO NOME'].apply(Remover_Caracteres_Especiais)\n",
    "df_Total_Contatos['PRIMEIRO NOME'] = df_Total_Contatos['PRIMEIRO NOME'].str.strip()\n",
    "df_Total_Contatos['ULTIMO NOME'] = df_Total_Contatos['ULTIMO NOME'].str.strip()"
   ]
  },
  {
   "cell_type": "code",
   "execution_count": 46,
   "metadata": {},
   "outputs": [],
   "source": [
    "df_Total_Empresas = df_Total_Empresas.drop_duplicates()\n",
    "df_Total_Empresas['Facebook Url'] = df_Total_Empresas['Facebook Url'].apply(Formatar_sites)\n",
    "df_Total_Empresas['Company Linkedin Url'] = df_Total_Empresas['Company Linkedin Url'].apply(Formatar_sites)\n",
    "df_Total_Empresas['Twitter Url'] = df_Total_Empresas['Twitter Url'].apply(Formatar_sites)"
   ]
  },
  {
   "cell_type": "code",
   "execution_count": 47,
   "metadata": {},
   "outputs": [
    {
     "name": "stderr",
     "output_type": "stream",
     "text": [
      "C:\\Users\\JOSE~1.PRO\\AppData\\Local\\Temp/ipykernel_18792/353598827.py:5: SettingWithCopyWarning: \n",
      "A value is trying to be set on a copy of a slice from a DataFrame\n",
      "\n",
      "See the caveats in the documentation: https://pandas.pydata.org/pandas-docs/stable/user_guide/indexing.html#returning-a-view-versus-a-copy\n",
      "  df_Total_Contatos['PRIMEIRO NOME'][i] = df_Total_Contatos['ULTIMO NOME'][i]\n",
      "C:\\Users\\JOSE~1.PRO\\AppData\\Local\\Temp/ipykernel_18792/353598827.py:6: SettingWithCopyWarning: \n",
      "A value is trying to be set on a copy of a slice from a DataFrame\n",
      "\n",
      "See the caveats in the documentation: https://pandas.pydata.org/pandas-docs/stable/user_guide/indexing.html#returning-a-view-versus-a-copy\n",
      "  df_Total_Contatos['ULTIMO NOME'][i] = \"\"\n"
     ]
    }
   ],
   "source": [
    "df_Total_Contatos.reset_index(inplace = True)\n",
    "\n",
    "for i in df_Total_Contatos.index:\n",
    "    if not df_Total_Contatos['PRIMEIRO NOME'][i]:\n",
    "        df_Total_Contatos['PRIMEIRO NOME'][i] = df_Total_Contatos['ULTIMO NOME'][i]\n",
    "        df_Total_Contatos['ULTIMO NOME'][i] = \"\""
   ]
  },
  {
   "cell_type": "code",
   "execution_count": 48,
   "metadata": {},
   "outputs": [],
   "source": [
    "#Cria um excel writer usando xlsxwriter como engine;\n",
    "# Enriquecimento\n",
    "# Extração\n",
    "# Estudo\n",
    "writer = pd.ExcelWriter(caminho + 'Output_Contatos_Empresas_Linkedin_Apollo' + '.xlsx', engine='xlsxwriter')\n",
    "\n",
    "#Escreve os dataframes em diferentes sheets dentro do arquivo final;\n",
    "df_Total_Contatos.to_excel(writer, sheet_name='Contatos', index=False)\n",
    "df_Total_Empresas.to_excel(writer, sheet_name='Empresas', index=False)\n",
    "\n",
    "#Fecha o arquivo e salva no diretório;\n",
    "writer.save()"
   ]
  }
 ],
 "metadata": {
  "interpreter": {
   "hash": "83d131cb932d342254a856aba77985769a4bb5186e304f75366df988e2740cfe"
  },
  "kernelspec": {
   "display_name": "Python 3.9.7 64-bit",
   "name": "python3"
  },
  "language_info": {
   "codemirror_mode": {
    "name": "ipython",
    "version": 3
   },
   "file_extension": ".py",
   "mimetype": "text/x-python",
   "name": "python",
   "nbconvert_exporter": "python",
   "pygments_lexer": "ipython3",
   "version": "3.9.7"
  },
  "orig_nbformat": 2
 },
 "nbformat": 4,
 "nbformat_minor": 2
}
