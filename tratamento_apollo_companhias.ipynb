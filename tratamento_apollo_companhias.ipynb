{
 "cells": [
  {
   "cell_type": "code",
   "execution_count": 1,
   "metadata": {},
   "outputs": [],
   "source": [
    "#Imports\n",
    "import pandas as pd"
   ]
  },
  {
   "cell_type": "code",
   "execution_count": 2,
   "metadata": {},
   "outputs": [],
   "source": [
    "pasta_import = 'C:\\\\Projetos\\\\Python\\\\Apollo\\\\'\n",
    "arquivo_import = 'apollo-accounts-export'\n",
    "\n",
    "df = pd.read_csv(pasta_import + arquivo_import + '.csv')"
   ]
  },
  {
   "cell_type": "code",
   "execution_count": 3,
   "metadata": {},
   "outputs": [],
   "source": [
    "#Seleciona só as colunas necessárias pro output\n",
    "#df_select = df.filter(items=['Website', 'Keywords','SEO Description',  'Company Linkedin Url', 'Facebook Url', 'Twitter Url', 'Technologies'])\n",
    "df = df.filter(items=['Website', 'Company', 'Industry', 'Annual Revenue', '# Employees', 'Company Country', 'Company State', 'Company City', 'Company Phone'])"
   ]
  },
  {
   "cell_type": "code",
   "execution_count": 4,
   "metadata": {},
   "outputs": [
    {
     "name": "stdout",
     "output_type": "stream",
     "text": [
      "Lista exportada com sucesso!\n"
     ]
    }
   ],
   "source": [
    "pasta_export = 'C:\\\\Projetos\\\\Python\\\\Apollo\\\\Exportacao\\\\'\n",
    "arquivo_export = 'output_' + arquivo_import + '.xlsx'\n",
    "df.to_excel(pasta_export + arquivo_export, index = False)\n",
    "\n",
    "print('Lista exportada com sucesso!')"
   ]
  }
 ],
 "metadata": {
  "interpreter": {
   "hash": "1d1b6f73863711dffe5dbcd1853bfe78eafc87048e742bbbcad631fc5569336f"
  },
  "kernelspec": {
   "display_name": "Python 3.9.6 64-bit",
   "name": "python3"
  },
  "language_info": {
   "codemirror_mode": {
    "name": "ipython",
    "version": 3
   },
   "file_extension": ".py",
   "mimetype": "text/x-python",
   "name": "python",
   "nbconvert_exporter": "python",
   "pygments_lexer": "ipython3",
   "version": "3.9.7"
  },
  "orig_nbformat": 2
 },
 "nbformat": 4,
 "nbformat_minor": 2
}
