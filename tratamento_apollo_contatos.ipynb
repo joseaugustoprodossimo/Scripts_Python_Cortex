{
 "cells": [
  {
   "cell_type": "markdown",
   "metadata": {},
   "source": [
    "# Script: Tratamento - Arquivo do Apollo (UTF-8/XLSX)    "
   ]
  },
  {
   "cell_type": "code",
   "execution_count": 1,
   "metadata": {},
   "outputs": [],
   "source": [
    "#Imports\n",
    "import pandas as pd"
   ]
  },
  {
   "cell_type": "markdown",
   "metadata": {},
   "source": [
    "## Definições de Importação:"
   ]
  },
  {
   "cell_type": "code",
   "execution_count": 2,
   "metadata": {},
   "outputs": [],
   "source": [
    "pasta_import = 'C:\\\\Projetos\\\\Python\\\\Apollo\\\\'\n",
    "arquivo_import = 'apollo-contacts-export'\n",
    "\n",
    "#Carrega o arquivo e lê em dataframe\n",
    "df = pd.read_csv(pasta_import + arquivo_import + '.csv', converters={'First Name': lambda x: str(x),\n",
    "                                                                                              'Last Name': lambda x: str(x),\n",
    "                                                                                              'Title': lambda x: str(x),\n",
    "                                                                                              'Company': lambda x: str(x),\n",
    "                                                                                              'Company Name for Emails': lambda x: str(x),\n",
    "                                                                                              'Email': lambda x: str(x),\n",
    "                                                                                              'Email Status': lambda x: str(x),\n",
    "                                                                                              'Email Confidence': lambda x: str(x),\n",
    "                                                                                              'Contact Owner': lambda x: str(x),\n",
    "                                                                                              'First Phone': lambda x: str(x),\n",
    "                                                                                              'Work Direct Phone': lambda x: str(x),\n",
    "                                                                                              'Home Phone': lambda x: str(x),\n",
    "                                                                                              'Mobile Phone': lambda x: str(x),\n",
    "                                                                                              'Corporate Phone': lambda x: str(x),\n",
    "                                                                                              'Other Phone': lambda x: str(x),\n",
    "                                                                                              'Stage': lambda x: str(x),\n",
    "                                                                                              'Lists': lambda x: str(x),\n",
    "                                                                                              'Last Contacted': lambda x: str(x),\n",
    "                                                                                              'Account Owner': lambda x: str(x),\n",
    "                                                                                              '# Employees': lambda x: str(x),\n",
    "                                                                                              'Industry': lambda x: str(x),\n",
    "                                                                                              'Keywords': lambda x: str(x),\n",
    "                                                                                              'Person Linkedin Url': lambda x: str(x),\n",
    "                                                                                              'Website': lambda x: str(x),\n",
    "                                                                                              'Company Linkedin Url': lambda x: str(x),\n",
    "                                                                                              'Facebook Url': lambda x: str(x),\n",
    "                                                                                              'Twitter Url': lambda x: str(x),\n",
    "                                                                                              'City': lambda x: str(x),\n",
    "                                                                                              'State': lambda x: str(x),\n",
    "                                                                                              'Country': lambda x: str(x),\n",
    "                                                                                              'Company Address': lambda x: str(x),\n",
    "                                                                                              'Company City': lambda x: str(x),\n",
    "                                                                                              'Company State': lambda x: str(x),\n",
    "                                                                                              'Company Country': lambda x: str(x),\n",
    "                                                                                              'Company Phone': lambda x: str(x),\n",
    "                                                                                              'SEO Description': lambda x: str(x),\n",
    "                                                                                              'Technologies': lambda x: str(x),\n",
    "                                                                                              'Annual Revenue': lambda x: str(x),\n",
    "                                                                                              'Total Funding': lambda x: str(x),\n",
    "                                                                                              'Latest Funding': lambda x: str(x),\n",
    "                                                                                              'Latest Funding Amount': lambda x: str(x),\n",
    "                                                                                              'Last Raised At': lambda x: str(x),\n",
    "                                                                                              'Email Sent': lambda x: str(x),\n",
    "                                                                                              'Email Open': lambda x: str(x),\n",
    "                                                                                              'Email Bounced': lambda x: str(x),\n",
    "                                                                                              'Replied': lambda x: str(x),\n",
    "                                                                                              'Demoed': lambda x: str(x),\n",
    "                                                                                              'Number of Retail Locations': lambda x: str(x),\n",
    "                                                                                              'Apollo Contact Id': lambda x: str(x),\n",
    "                                                                                              'Apollo Account Id': lambda x: str(x)\n",
    "                                                                                              })"
   ]
  },
  {
   "cell_type": "code",
   "execution_count": 3,
   "metadata": {},
   "outputs": [],
   "source": [
    "# Index(['First Name', 'Last Name', 'Title', 'Company',\n",
    "#       'Company Name for Emails', 'Email', 'Email Status', 'Email Confidence',\n",
    "#       'Contact Owner', 'First Phone', 'Work Direct Phone', 'Home Phone',\n",
    "#       'Mobile Phone', 'Corporate Phone', 'Other Phone', 'Stage', 'Lists',\n",
    "#       'Last Contacted', 'Account Owner', '# Employees', 'Industry',\n",
    "#       'Keywords', 'Person Linkedin Url', 'Website', 'Company Linkedin Url',\n",
    "#       'Facebook Url', 'Twitter Url', 'City', 'State', 'Country',\n",
    "#       'Company Address', 'Company City', 'Company State', 'Company Country',\n",
    "#       'Company Phone', 'SEO Description', 'Technologies', 'Annual Revenue',\n",
    "#       'Email Sent', 'Email Open', 'Email Bounced', 'Replied', 'Demoed',\n",
    "#       'Number of Retail Locations', 'Apollo Contact Id', 'Apollo Account Id'],\n",
    "#      dtype='object')"
   ]
  },
  {
   "cell_type": "code",
   "execution_count": 4,
   "metadata": {},
   "outputs": [],
   "source": [
    "df_select = df"
   ]
  },
  {
   "cell_type": "code",
   "execution_count": 5,
   "metadata": {},
   "outputs": [],
   "source": [
    "#Seleciona só as colunas necessárias pro output\n",
    "#df_select = df.filter(items=['Website','First Name', 'Last Name', 'Title','Email', 'Industry', 'Person Linkedin Url','Technologies','Keywords', 'SEO Description', 'Company Linkedin Url','Facebook Url', 'Twitter Url', 'Technologies', 'First Phone'])"
   ]
  },
  {
   "cell_type": "code",
   "execution_count": 6,
   "metadata": {},
   "outputs": [],
   "source": [
    "#Muda o nome das colunas para PT-BR\n",
    "df_select.rename({'Website':'WEBSITE','First Name':'PRIMEIRO NOME','Last Name':'ULTIMO NOME','Title':'CARGO B2B','Email':'E-MAIL','Person Linkedin Url':'LINKEDIN URL','Technologies':'TECNOLOGIAS'}, axis = 1, inplace = True)"
   ]
  },
  {
   "cell_type": "code",
   "execution_count": 7,
   "metadata": {},
   "outputs": [],
   "source": [
    "#Deixa os valores da coluna de cargo em letra maiúscula\n",
    "df_select['CARGO B2B'] = df_select['CARGO B2B'].str.title()\n",
    "df_select['PRIMEIRO NOME'] = df_select['PRIMEIRO NOME'].str.title()\n",
    "df_select['ULTIMO NOME'] = df_select['ULTIMO NOME'].str.title()"
   ]
  },
  {
   "cell_type": "code",
   "execution_count": 8,
   "metadata": {},
   "outputs": [],
   "source": [
    "#Substitui valores nulos da coluna de cargos\n",
    "#df_select['CARGO B2B'].fillna('General Manager', inplace = True)"
   ]
  },
  {
   "cell_type": "markdown",
   "metadata": {},
   "source": [
    "## Tratamento dos dados:"
   ]
  },
  {
   "cell_type": "code",
   "execution_count": 9,
   "metadata": {},
   "outputs": [],
   "source": [
    "#Retira os estagiários\n",
    "#df_select = df_select[~df_select['CARGO B2B'].str.contains('Estag')]"
   ]
  },
  {
   "cell_type": "markdown",
   "metadata": {},
   "source": [
    "## Definições de Exportação:"
   ]
  },
  {
   "cell_type": "code",
   "execution_count": 10,
   "metadata": {},
   "outputs": [
    {
     "name": "stdout",
     "output_type": "stream",
     "text": [
      "Lista exportada com sucesso!\n"
     ]
    }
   ],
   "source": [
    "pasta_export = 'C:\\\\Projetos\\\\Python\\\\Apollo\\\\Exportacao\\\\'\n",
    "arquivo_export = 'output_' + arquivo_import + '.xlsx'\n",
    "df_select.to_excel(pasta_export + arquivo_export, index = False)\n",
    "\n",
    "print('Lista exportada com sucesso!')"
   ]
  },
  {
   "cell_type": "markdown",
   "metadata": {},
   "source": [
    "##### Developed By: Gus (gustavo.lima@cortex-intelligence.com)  "
   ]
  }
 ],
 "metadata": {
  "interpreter": {
   "hash": "1d1b6f73863711dffe5dbcd1853bfe78eafc87048e742bbbcad631fc5569336f"
  },
  "kernelspec": {
   "display_name": "Python 3.9.6 64-bit",
   "name": "python3"
  },
  "language_info": {
   "codemirror_mode": {
    "name": "ipython",
    "version": 3
   },
   "file_extension": ".py",
   "mimetype": "text/x-python",
   "name": "python",
   "nbconvert_exporter": "python",
   "pygments_lexer": "ipython3",
   "version": "3.9.7"
  },
  "orig_nbformat": 2
 },
 "nbformat": 4,
 "nbformat_minor": 2
}
