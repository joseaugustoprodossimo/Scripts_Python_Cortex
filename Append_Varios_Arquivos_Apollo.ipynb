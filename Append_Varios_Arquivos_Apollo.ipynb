{
 "cells": [
  {
   "cell_type": "code",
   "execution_count": 1,
   "metadata": {},
   "outputs": [],
   "source": [
    "import pandas as pd\n",
    "import os"
   ]
  },
  {
   "cell_type": "code",
   "execution_count": 3,
   "metadata": {},
   "outputs": [],
   "source": [
    "df_Total = pd.DataFrame()\n",
    "\n",
    "pasta = 'C:\\\\Projetos\\\\Python\\\\Apollo\\\\Juntar\\\\'\n",
    "for diretorio, subpastas, arquivos in os.walk(pasta):\n",
    "    for arquivo in arquivos:\n",
    "        #print(os.path.join(os.path.realpath(diretorio), arquivo))\n",
    "        df = pd.read_csv(os.path.join(os.path.realpath(diretorio), arquivo))\n",
    "        df_Total = df_Total.append(df, ignore_index=True)"
   ]
  },
  {
   "cell_type": "code",
   "execution_count": 4,
   "metadata": {},
   "outputs": [],
   "source": [
    "df_Total = df_Total.drop_duplicates(subset=['Website', 'First Name', 'Last Name', 'Email'])"
   ]
  },
  {
   "cell_type": "code",
   "execution_count": 5,
   "metadata": {},
   "outputs": [],
   "source": [
    "df_Total = df_Total.filter(items=['Website', 'First Name', 'Last Name', 'Title', 'Email', 'Person Linkedin Url'])"
   ]
  },
  {
   "cell_type": "code",
   "execution_count": 6,
   "metadata": {},
   "outputs": [],
   "source": [
    "df_Total.to_csv( pasta + \"Output_TotalApollo.csv\")"
   ]
  },
  {
   "cell_type": "code",
   "execution_count": 6,
   "metadata": {},
   "outputs": [],
   "source": [
    "#df_Total.to_excel( pasta + \"Output_TotalApollo.xlsx\", engine='xlsxwriter', encoding='utf8')\n",
    "#df_Total.to_csv( pasta + \"Output_TotalApollo.csv\")\n",
    "\n",
    "writer = pd.ExcelWriter( \"E:\\\\Python\\\\Append Varios Arquivos\\\\Apollo\\\\Output_TotalApollo.xlsx\", engine='xlsxwriter')\n",
    "df_Total.to_excel(writer, sheet_name='Sheet1')\n",
    "writer.save()"
   ]
  }
 ],
 "metadata": {
  "interpreter": {
   "hash": "83d131cb932d342254a856aba77985769a4bb5186e304f75366df988e2740cfe"
  },
  "kernelspec": {
   "display_name": "Python 3.9.7 64-bit",
   "name": "python3"
  },
  "language_info": {
   "codemirror_mode": {
    "name": "ipython",
    "version": 3
   },
   "file_extension": ".py",
   "mimetype": "text/x-python",
   "name": "python",
   "nbconvert_exporter": "python",
   "pygments_lexer": "ipython3",
   "version": "3.9.6"
  },
  "orig_nbformat": 2
 },
 "nbformat": 4,
 "nbformat_minor": 2
}
