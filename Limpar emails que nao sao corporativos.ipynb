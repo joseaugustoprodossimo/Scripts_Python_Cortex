{
 "cells": [
  {
   "cell_type": "code",
   "execution_count": 1,
   "metadata": {},
   "outputs": [],
   "source": [
    "#Imports\n",
    "import pandas as pd"
   ]
  },
  {
   "cell_type": "code",
   "execution_count": 2,
   "metadata": {},
   "outputs": [],
   "source": [
    "pasta_import = \"C:\\\\Projetos\\\\Python\\\\Email Corporativo\\\\\"\n",
    "arquivo_import = \"Emails\" + \".xlsx\"\n",
    "\n",
    "df = pd.read_excel(pasta_import + arquivo_import)"
   ]
  },
  {
   "cell_type": "code",
   "execution_count": 3,
   "metadata": {},
   "outputs": [],
   "source": [
    "df.dropna(subset=['Email'], inplace=True)\n",
    "df['Email'] = df['Email'].str.lower()"
   ]
  },
  {
   "cell_type": "code",
   "execution_count": 4,
   "metadata": {},
   "outputs": [],
   "source": [
    "df.loc[df['Email'].str.contains('@gmail', regex=False), 'Email'] = ''\n",
    "df.loc[df['Email'].str.contains('@yahoo', regex=False), 'Email'] = ''\n",
    "df.loc[df['Email'].str.contains('@hotmail', regex=False), 'Email'] = ''\n",
    "df.loc[df['Email'].str.contains('@outlook', regex=False), 'Email'] = ''\n",
    "df.loc[df['Email'].str.contains('@uol', regex=False), 'Email'] = ''\n",
    "df.loc[df['Email'].str.contains('@bol', regex=False), 'Email'] = ''\n",
    "df.loc[df['Email'].str.contains('@terra', regex=False), 'Email'] = ''\n",
    "df.loc[df['Email'].str.contains('@zipmail', regex=False), 'Email'] = ''\n",
    "df.loc[df['Email'].str.contains('@ig', regex=False), 'Email'] = ''\n",
    "df.loc[df['Email'].str.contains('@oi', regex=False), 'Email'] = ''\n",
    "df.loc[df['Email'].str.contains('@icloud', regex=False), 'Email'] = ''\n",
    "df.loc[df['Email'].str.contains('.gov', regex=False), 'Email'] = ''\n",
    "df.loc[df['Email'].str.contains('mail', regex=False), 'Email'] = ''\n",
    "df.loc[df['Email'].str.contains('@globo', regex=False), 'Email'] = ''\n",
    "df.loc[df['Email'].str.contains('contab', regex=False), 'Email'] = ''"
   ]
  },
  {
   "cell_type": "code",
   "execution_count": 5,
   "metadata": {},
   "outputs": [],
   "source": [
    "df.dropna(subset=['Email'], inplace=True)"
   ]
  },
  {
   "cell_type": "code",
   "execution_count": 6,
   "metadata": {},
   "outputs": [],
   "source": [
    "Vazios = df[ df['Email'] == '' ].index\n",
    "\n",
    "df.drop(Vazios , inplace=True)"
   ]
  },
  {
   "cell_type": "code",
   "execution_count": 7,
   "metadata": {},
   "outputs": [],
   "source": [
    "df = df.drop_duplicates()"
   ]
  },
  {
   "cell_type": "code",
   "execution_count": 8,
   "metadata": {},
   "outputs": [],
   "source": [
    "arquivo_export = 'Output ' + arquivo_import + '.xlsx'\n",
    "df.to_excel(pasta_import + arquivo_export, index = False)"
   ]
  }
 ],
 "metadata": {
  "interpreter": {
   "hash": "1d1b6f73863711dffe5dbcd1853bfe78eafc87048e742bbbcad631fc5569336f"
  },
  "kernelspec": {
   "display_name": "Python 3.9.6 64-bit",
   "name": "python3"
  },
  "language_info": {
   "codemirror_mode": {
    "name": "ipython",
    "version": 3
   },
   "file_extension": ".py",
   "mimetype": "text/x-python",
   "name": "python",
   "nbconvert_exporter": "python",
   "pygments_lexer": "ipython3",
   "version": "3.9.7"
  },
  "orig_nbformat": 2
 },
 "nbformat": 4,
 "nbformat_minor": 2
}
