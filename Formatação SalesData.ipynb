{
 "cells": [
  {
   "cell_type": "code",
   "execution_count": 640,
   "metadata": {},
   "outputs": [],
   "source": [
    "import pandas as pd\n",
    "import requests\n",
    "import json\n",
    "import psycopg2"
   ]
  },
  {
   "cell_type": "code",
   "execution_count": 641,
   "metadata": {},
   "outputs": [],
   "source": [
    "#def conecta_db():\n",
    "#  con = psycopg2.connect(host='178.128.132.103', \n",
    "#                         database='empresas_brasil',\n",
    "#                         user='jose.prodossimo', \n",
    "#                         password='vA@j49OeAY1Z')\n",
    "#  return con"
   ]
  },
  {
   "cell_type": "code",
   "execution_count": 642,
   "metadata": {},
   "outputs": [],
   "source": [
    "#def consultar_db(sql):\n",
    "#  con = conecta_db()\n",
    "#  cur = con.cursor()\n",
    "#  cur.execute(sql)\n",
    "#  recset = cur.fetchall()\n",
    "#  registros = []\n",
    "#  for rec in recset:\n",
    "#    registros.append(rec)\n",
    "#  con.close()\n",
    "#  return registros"
   ]
  },
  {
   "cell_type": "code",
   "execution_count": 643,
   "metadata": {},
   "outputs": [],
   "source": [
    "def Remover_Caracteres_Especiais(item):\n",
    "    if item:\n",
    "        return ''.join(char for char in item if char.isalnum())\n",
    "    else:\n",
    "        ''"
   ]
  },
  {
   "cell_type": "code",
   "execution_count": 644,
   "metadata": {},
   "outputs": [],
   "source": [
    "def Retornar_Ultimo_Nome(item):\n",
    "    item = item.split(' ')\n",
    "    len(item)\n",
    "\n",
    "    if(len(item) != 1):\n",
    "        return item[len(item) - 1]\n",
    "    else:\n",
    "        \"\""
   ]
  },
  {
   "cell_type": "code",
   "execution_count": 645,
   "metadata": {},
   "outputs": [],
   "source": [
    "#reg = consultar_db('select secao, descricao from cnaes.secoes')"
   ]
  },
  {
   "cell_type": "code",
   "execution_count": 646,
   "metadata": {},
   "outputs": [],
   "source": [
    "#df_bd = pd.DataFrame(reg, columns=['secao', 'descricao'])"
   ]
  },
  {
   "cell_type": "code",
   "execution_count": 647,
   "metadata": {},
   "outputs": [],
   "source": [
    "caminho = \"C:\\\\Projetos\\\\Python\\\\SalesData\\\\\"\n",
    "\n",
    "dados_cadastrais = 'PSNEW-5973.csv'\n",
    "dominios = 'PSNEW-5973_Dominios.csv'\n",
    "emails = 'PSNEW-5973_Email.csv'\n",
    "socios = 'PSNEW-5973_Socios.csv'\n",
    "telefones = 'PSNEW-5973_Telefones.csv'\n",
    "telefone_banco = 'Telefone_banco.xlsx'\n",
    "\n",
    "df_dados_cadastrais = pd.read_csv(caminho + dados_cadastrais, sep='\\t', encoding='utf-16', converters={ 'FAIXA DE FUNCIONÁRIOS': lambda x: str(x), 'CÓDIGO CNAE': lambda x: str(x) })\n",
    "df_dominios = pd.read_csv(caminho + dominios, sep='\\t', encoding='utf-16')\n",
    "df_emails = pd.read_csv(caminho + emails, sep='\\t', encoding='utf-16')\n",
    "df_socios = pd.read_csv(caminho + socios, sep='\\t', encoding='utf-16')\n",
    "df_telefones = pd.read_csv(caminho + telefones, sep='\\t', encoding='utf-16', converters={ 'telefone': lambda x: str(x) })\n",
    "df_telefones_banco = pd.read_excel(caminho + telefone_banco, converters={ 'Telefone': lambda x: str(x) })"
   ]
  },
  {
   "cell_type": "code",
   "execution_count": 648,
   "metadata": {},
   "outputs": [],
   "source": [
    "df_dados_cadastrais['FAIXA DE FUNCIONÁRIOS'] = df_dados_cadastrais['FAIXA DE FUNCIONÁRIOS'].str.strip('\"')\n",
    "df_dados_cadastrais['CÓDIGO CNAE'] = df_dados_cadastrais['CÓDIGO CNAE'].str.strip('\"')\n",
    "df_dados_cadastrais['NOME FANTASIA'] = df_dados_cadastrais['NOME FANTASIA'].str.strip('-')"
   ]
  },
  {
   "cell_type": "code",
   "execution_count": 649,
   "metadata": {},
   "outputs": [],
   "source": [
    "df_telefones.rename(columns={'id_regional':'cnpj', 'telefone':'Telefone'}, inplace=True)\n",
    "\n",
    "df_telefones = df_telefones.dropna()\n",
    "\n",
    "df_telefones = df_telefones.append(df_telefones_banco)\n",
    "df_telefones = df_telefones.drop_duplicates()"
   ]
  },
  {
   "cell_type": "code",
   "execution_count": 650,
   "metadata": {},
   "outputs": [],
   "source": [
    "df_dados_cadastrais.drop(columns=[\n",
    "    'NÚMERO', \n",
    "    'E-MAIL NA RECEITA FEDERAL',\n",
    "    'TELEFONE 1',\n",
    "    'TELEFONE 2',\n",
    "    'TELEFONE 3',\n",
    "    'TELEFONE 4',\n",
    "    'TELEFONE 5',\n",
    "    'WEBSITE1',\n",
    "    'WEBSITE2',\n",
    "    'WEBSITE3',\n",
    "    'WEBSITE4',\n",
    "    'WEBSITE5'\n",
    "], axis=0, inplace=True)"
   ]
  },
  {
   "cell_type": "code",
   "execution_count": 651,
   "metadata": {},
   "outputs": [],
   "source": [
    "df_dados_cadastrais = df_dados_cadastrais.merge(df_emails, left_on= 'CNPJ', right_on= 'id_regional', how = 'left')"
   ]
  },
  {
   "cell_type": "code",
   "execution_count": 652,
   "metadata": {},
   "outputs": [],
   "source": [
    "df_dados_cadastrais.drop(columns=[\n",
    "    'id_regional',\n",
    "    '# Records_x',\n",
    "    '# Records_y'\n",
    "], axis=0, inplace=True)"
   ]
  },
  {
   "cell_type": "code",
   "execution_count": 653,
   "metadata": {},
   "outputs": [],
   "source": [
    "df_dados_cadastrais.rename(columns={'EMAIL':'E-MAIL NA RECEITA FEDERAL'}, inplace=True)"
   ]
  },
  {
   "cell_type": "code",
   "execution_count": 654,
   "metadata": {},
   "outputs": [],
   "source": [
    "df_dominios = df_dominios.sort_values(by=['CNPJ', 'DOMINIO'], ascending=False)\n",
    "\n",
    "df_dominio1 = df_dominios.drop_duplicates(subset='CNPJ')\n",
    "df_dominios = df_dominios.merge(df_dominio1, on='DOMINIO', how='left')\n",
    "df_dominios = df_dominios[ df_dominios['CNPJ_y'].isna()]\n",
    "df_dominios.drop(columns=['CNPJ_y'], axis=0, inplace=True)\n",
    "df_dominios.rename(columns={'CNPJ_x':'CNPJ'}, inplace=True)\n",
    "df_dominio1.rename(columns={'DOMINIO':'WEBSITE1'}, inplace=True)\n",
    "\n",
    "df_dominio2 = df_dominios.drop_duplicates(subset='CNPJ')\n",
    "df_dominios = df_dominios.merge(df_dominio2, on='DOMINIO', how='left')\n",
    "df_dominios = df_dominios[ df_dominios['CNPJ_y'].isna()]\n",
    "df_dominios.drop(columns=['CNPJ_y'], axis=0, inplace=True)\n",
    "df_dominios.rename(columns={'CNPJ_x':'CNPJ'}, inplace=True)\n",
    "df_dominio2.rename(columns={'DOMINIO':'WEBSITE2'}, inplace=True)\n",
    "\n",
    "df_dominio3 = df_dominios.drop_duplicates(subset='CNPJ')\n",
    "df_dominios = df_dominios.merge(df_dominio3, on='DOMINIO', how='left')\n",
    "df_dominios = df_dominios[ df_dominios['CNPJ_y'].isna()]\n",
    "df_dominios.drop(columns=['CNPJ_y'], axis=0, inplace=True)\n",
    "df_dominios.rename(columns={'CNPJ_x':'CNPJ'}, inplace=True)\n",
    "df_dominio3.rename(columns={'DOMINIO':'WEBSITE3'}, inplace=True)\n",
    "\n",
    "df_dominio4 = df_dominios.drop_duplicates(subset='CNPJ')\n",
    "df_dominios = df_dominios.merge(df_dominio4, on='DOMINIO', how='left')\n",
    "df_dominios = df_dominios[ df_dominios['CNPJ_y'].isna()]\n",
    "df_dominios.drop(columns=['CNPJ_y'], axis=0, inplace=True)\n",
    "df_dominios.rename(columns={'CNPJ_x':'CNPJ'}, inplace=True)\n",
    "df_dominio4.rename(columns={'DOMINIO':'WEBSITE4'}, inplace=True)\n",
    "\n",
    "df_dominio5 = df_dominios.drop_duplicates(subset='CNPJ')\n",
    "df_dominios = df_dominios.merge(df_dominio5, on='DOMINIO', how='left')\n",
    "df_dominios = df_dominios[ df_dominios['CNPJ_y'].isna()]\n",
    "df_dominios.drop(columns=['CNPJ_y'], axis=0, inplace=True)\n",
    "df_dominios.rename(columns={'CNPJ_x':'CNPJ'}, inplace=True)\n",
    "df_dominio5.rename(columns={'DOMINIO':'WEBSITE5'}, inplace=True)"
   ]
  },
  {
   "cell_type": "code",
   "execution_count": 655,
   "metadata": {},
   "outputs": [],
   "source": [
    "df_dados_cadastrais = df_dados_cadastrais.merge(df_dominio1, on='CNPJ', how='left')\n",
    "df_dados_cadastrais = df_dados_cadastrais.merge(df_dominio2, on='CNPJ', how='left')\n",
    "df_dados_cadastrais = df_dados_cadastrais.merge(df_dominio3, on='CNPJ', how='left')\n",
    "df_dados_cadastrais = df_dados_cadastrais.merge(df_dominio4, on='CNPJ', how='left')\n",
    "df_dados_cadastrais = df_dados_cadastrais.merge(df_dominio5, on='CNPJ', how='left')"
   ]
  },
  {
   "cell_type": "code",
   "execution_count": 656,
   "metadata": {},
   "outputs": [],
   "source": [
    "df_telefone1 = df_telefones.drop_duplicates(subset='cnpj')\n",
    "df_telefones = df_telefones.merge(df_telefone1, on='Telefone', how='left')\n",
    "df_telefones = df_telefones[ df_telefones['cnpj_y'].isna()]\n",
    "df_telefones.drop(columns=['cnpj_y'], axis=0, inplace=True)\n",
    "df_telefones.rename(columns={'cnpj_x':'CNPJ'}, inplace=True)\n",
    "df_telefone1.rename(columns={'cnpj':'CNPJ', 'Telefone':'TELEFONE 1'}, inplace=True)\n",
    "\n",
    "df_telefone2 = df_telefones.drop_duplicates(subset='CNPJ')\n",
    "df_telefones = df_telefones.merge(df_telefone2, on='Telefone', how='left')\n",
    "df_telefones = df_telefones[ df_telefones['CNPJ_y'].isna()]\n",
    "df_telefones.drop(columns=['CNPJ_y'], axis=0, inplace=True)\n",
    "df_telefones.rename(columns={'CNPJ_x':'CNPJ'}, inplace=True)\n",
    "df_telefone2.rename(columns={'cnpj':'CNPJ', 'Telefone':'TELEFONE 2'}, inplace=True)\n",
    "\n",
    "df_telefone3 = df_telefones.drop_duplicates(subset='CNPJ')\n",
    "df_telefones = df_telefones.merge(df_telefone3, on='Telefone', how='left')\n",
    "df_telefones = df_telefones[ df_telefones['CNPJ_y'].isna()]\n",
    "df_telefones.drop(columns=['CNPJ_y'], axis=0, inplace=True)\n",
    "df_telefones.rename(columns={'CNPJ_x':'CNPJ'}, inplace=True)\n",
    "df_telefone3.rename(columns={'cnpj':'CNPJ', 'Telefone':'TELEFONE 3'}, inplace=True)\n",
    "\n",
    "df_telefone4 = df_telefones.drop_duplicates(subset='CNPJ')\n",
    "df_telefones = df_telefones.merge(df_telefone4, on='Telefone', how='left')\n",
    "df_telefones = df_telefones[ df_telefones['CNPJ_y'].isna()]\n",
    "df_telefones.drop(columns=['CNPJ_y'], axis=0, inplace=True)\n",
    "df_telefones.rename(columns={'CNPJ_x':'CNPJ'}, inplace=True)\n",
    "df_telefone4.rename(columns={'cnpj':'CNPJ', 'Telefone':'TELEFONE 4'}, inplace=True)\n",
    "\n",
    "df_telefone5 = df_telefones.drop_duplicates(subset='CNPJ')\n",
    "df_telefones = df_telefones.merge(df_telefone5, on='Telefone', how='left')\n",
    "df_telefones = df_telefones[ df_telefones['CNPJ_y'].isna()]\n",
    "df_telefones.drop(columns=['CNPJ_y'], axis=0, inplace=True)\n",
    "df_telefones.rename(columns={'CNPJ_x':'CNPJ'}, inplace=True)\n",
    "df_telefone5.rename(columns={'cnpj':'CNPJ', 'Telefone':'TELEFONE 5'}, inplace=True)"
   ]
  },
  {
   "cell_type": "code",
   "execution_count": 657,
   "metadata": {},
   "outputs": [],
   "source": [
    "df_dados_cadastrais = df_dados_cadastrais.merge(df_telefone1, on='CNPJ', how='left')\n",
    "df_dados_cadastrais = df_dados_cadastrais.merge(df_telefone2, on='CNPJ', how='left')\n",
    "df_dados_cadastrais = df_dados_cadastrais.merge(df_telefone3, on='CNPJ', how='left')\n",
    "df_dados_cadastrais = df_dados_cadastrais.merge(df_telefone4, on='CNPJ', how='left')\n",
    "df_dados_cadastrais = df_dados_cadastrais.merge(df_telefone5, on='CNPJ', how='left')"
   ]
  },
  {
   "cell_type": "code",
   "execution_count": 658,
   "metadata": {},
   "outputs": [],
   "source": [
    "df_socios = df_socios.merge(df_dados_cadastrais, on='CNPJ', how='left')"
   ]
  },
  {
   "cell_type": "code",
   "execution_count": 659,
   "metadata": {},
   "outputs": [],
   "source": [
    "df_socios = df_socios.filter(items=['CNPJ',\n",
    "                                    'RAZÃO SOCIAL',\n",
    "                                    'NOME',\n",
    "                                    'CARGO'\n",
    "])"
   ]
  },
  {
   "cell_type": "code",
   "execution_count": 660,
   "metadata": {},
   "outputs": [],
   "source": [
    "df_socios = df_socios.drop_duplicates()"
   ]
  },
  {
   "cell_type": "code",
   "execution_count": 661,
   "metadata": {},
   "outputs": [],
   "source": [
    "df_socios['CARGO'] = df_socios['CARGO'].str.title()\n",
    "df_socios['NOME'] = df_socios['NOME'].str.title()"
   ]
  },
  {
   "cell_type": "code",
   "execution_count": 662,
   "metadata": {},
   "outputs": [
    {
     "name": "stderr",
     "output_type": "stream",
     "text": [
      "C:\\Users\\JOSE~1.PRO\\AppData\\Local\\Temp/ipykernel_11912/1482653601.py:1: FutureWarning: The default value of regex will change from True to False in a future version.\n",
      "  df_socios['NOME_FORMATADO'] = df_socios['NOME'].str.replace(\" LTDA\", \"\").str.replace(\" EIRELI\", \"\").str.replace(\" S/A\", \"\").str.replace(\" SA\", \"\").str.replace(\"S.A.\", \"\").str.replace(\" INC\", \"\")\n"
     ]
    }
   ],
   "source": [
    "df_socios['NOME_FORMATADO'] = df_socios['NOME'].str.replace(\" LTDA\", \"\").str.replace(\" EIRELI\", \"\").str.replace(\" S/A\", \"\").str.replace(\" SA\", \"\").str.replace(\"S.A.\", \"\").str.replace(\" INC\", \"\")"
   ]
  },
  {
   "cell_type": "code",
   "execution_count": 663,
   "metadata": {},
   "outputs": [],
   "source": [
    "df_socios['PRIMEIRO NOME'] = df_socios['NOME'].str.split(' ', expand=True).get(0)\n",
    "df_socios['ULTIMO NOME'] = df_socios['NOME_FORMATADO'].apply(Retornar_Ultimo_Nome)"
   ]
  },
  {
   "cell_type": "code",
   "execution_count": 664,
   "metadata": {},
   "outputs": [],
   "source": [
    "df_socios['PRIMEIRO NOME'] = df_socios['PRIMEIRO NOME'].apply(Remover_Caracteres_Especiais)\n",
    "df_socios['ULTIMO NOME'] = df_socios['ULTIMO NOME'].apply(Remover_Caracteres_Especiais)\n",
    "\n",
    "df_socios['NOME_FORMATADO'] = df_socios['NOME_FORMATADO'].str.strip()"
   ]
  },
  {
   "cell_type": "code",
   "execution_count": 665,
   "metadata": {},
   "outputs": [],
   "source": [
    "df_socios_buscar_email = pd.DataFrame()\n",
    "df_socios_buscar_email = df_socios.merge(df_dominios, on='CNPJ', how='left')"
   ]
  },
  {
   "cell_type": "code",
   "execution_count": 666,
   "metadata": {},
   "outputs": [],
   "source": [
    "df_socios_buscar_email = df_socios_buscar_email[ ~df_socios_buscar_email['DOMINIO'].isna() & ~df_socios_buscar_email['PRIMEIRO NOME'].isna() & ~df_socios_buscar_email['ULTIMO NOME'].isna() ]"
   ]
  },
  {
   "cell_type": "code",
   "execution_count": 667,
   "metadata": {},
   "outputs": [],
   "source": [
    "df_tecnologias = pd.DataFrame()\n",
    "COLUNAS = [\n",
    "    'CNPJ',\n",
    "    'RAZÃO SOCIAL',\n",
    "    'CATEGORIA',\n",
    "    'NOME'\n",
    "]\n",
    "df_tecnologias = pd.DataFrame(columns=COLUNAS)"
   ]
  },
  {
   "cell_type": "code",
   "execution_count": 668,
   "metadata": {},
   "outputs": [],
   "source": [
    "df_contatos = pd.DataFrame()\n",
    "COLUNAS = [\n",
    "    'CNPJ',\n",
    "    'RAZÃO SOCIAL',\n",
    "    'PRIMEIRO NOME',\n",
    "    'ULTIMO NOME',\n",
    "    'CARGO B2B',\n",
    "    'EMAIL',\n",
    "    'LINKEDIN URL'\n",
    "]\n",
    "df_contatos = pd.DataFrame(columns=COLUNAS)"
   ]
  },
  {
   "cell_type": "code",
   "execution_count": 669,
   "metadata": {},
   "outputs": [],
   "source": [
    "#Cria um excel writer usando xlsxwriter como engine;\n",
    "# Enriquecimento\n",
    "# Extração\n",
    "# Estudo\n",
    "arquivo = 'PSNEW-9999'\n",
    "cliente = 'Teste'\n",
    "writer = pd.ExcelWriter(caminho + arquivo + ' - Enriquecimento ' + cliente + ' - DB - Cortex' + '.xlsx', engine='xlsxwriter')\n",
    "\n",
    "#Escreve os dataframes em diferentes sheets dentro do arquivo final;\n",
    "df_dados_cadastrais.to_excel(writer, sheet_name='Dados Cadastrais - Cortex', index=False)\n",
    "df_dominios.to_excel(writer, sheet_name='Matriz CNPJ Website', index=False)\n",
    "df_socios.to_excel(writer, sheet_name='Dados Sócios - Cortex', index=False)\n",
    "df_socios_buscar_email.to_excel(writer, sheet_name='Buscar Email Sócios', index=False)\n",
    "df_contatos.to_excel(writer, sheet_name='Contatos B2B - Cortex', index=False)\n",
    "df_tecnologias.to_excel(writer, sheet_name='Tecnologias Cloud - Cortex', index=False)\n",
    "\n",
    "#Fecha o arquivo e salva no diretório;\n",
    "writer.save()"
   ]
  }
 ],
 "metadata": {
  "interpreter": {
   "hash": "1d1b6f73863711dffe5dbcd1853bfe78eafc87048e742bbbcad631fc5569336f"
  },
  "kernelspec": {
   "display_name": "Python 3.9.7 64-bit",
   "language": "python",
   "name": "python3"
  },
  "language_info": {
   "codemirror_mode": {
    "name": "ipython",
    "version": 3
   },
   "file_extension": ".py",
   "mimetype": "text/x-python",
   "name": "python",
   "nbconvert_exporter": "python",
   "pygments_lexer": "ipython3",
   "version": "3.9.7"
  },
  "orig_nbformat": 4
 },
 "nbformat": 4,
 "nbformat_minor": 2
}
