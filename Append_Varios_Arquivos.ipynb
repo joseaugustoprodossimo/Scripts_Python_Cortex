{
 "cells": [
  {
   "cell_type": "code",
   "execution_count": 4,
   "metadata": {},
   "outputs": [],
   "source": [
    "import pandas as pd\n",
    "import os"
   ]
  },
  {
   "cell_type": "code",
   "execution_count": 5,
   "metadata": {},
   "outputs": [],
   "source": [
    "df_Total = pd.DataFrame()\n",
    "\n",
    "pasta = 'C:\\\\Projetos\\\\Python\\\\Juntar\\\\'\n",
    "\n",
    "excel = False\n",
    "\n",
    "if (excel == 1):\n",
    "    for diretorio, subpastas, arquivos in os.walk(pasta):\n",
    "        for arquivo in arquivos:\n",
    "            print(os.path.join(os.path.realpath(diretorio), arquivo))\n",
    "            #df = pd.read_csv(os.path.join(os.path.realpath(diretorio), arquivo))\n",
    "            df = pd.read_excel(os.path.join(os.path.realpath(diretorio), arquivo), converters={'First Name': lambda x: str(x),\n",
    "                                                                                              'Last Name': lambda x: str(x),\n",
    "                                                                                              'Title': lambda x: str(x),\n",
    "                                                                                              'Company': lambda x: str(x),\n",
    "                                                                                              'Company Name for Emails': lambda x: str(x),\n",
    "                                                                                              'Email': lambda x: str(x),\n",
    "                                                                                              'Email Status': lambda x: str(x),\n",
    "                                                                                              'Email Confidence': lambda x: str(x),\n",
    "                                                                                              'Contact Owner': lambda x: str(x),\n",
    "                                                                                              'First Phone': lambda x: str(x),\n",
    "                                                                                              'Work Direct Phone': lambda x: str(x),\n",
    "                                                                                              'Home Phone': lambda x: str(x),\n",
    "                                                                                              'Mobile Phone': lambda x: str(x),\n",
    "                                                                                              'Corporate Phone': lambda x: str(x),\n",
    "                                                                                              'Other Phone': lambda x: str(x),\n",
    "                                                                                              'Stage': lambda x: str(x),\n",
    "                                                                                              'Lists': lambda x: str(x),\n",
    "                                                                                              'Last Contacted': lambda x: str(x),\n",
    "                                                                                              'Account Owner': lambda x: str(x),\n",
    "                                                                                              '# Employees': lambda x: str(x),\n",
    "                                                                                              'Industry': lambda x: str(x),\n",
    "                                                                                              'Keywords': lambda x: str(x),\n",
    "                                                                                              'Person Linkedin Url': lambda x: str(x),\n",
    "                                                                                              'Website': lambda x: str(x),\n",
    "                                                                                              'Company Linkedin Url': lambda x: str(x),\n",
    "                                                                                              'Facebook Url': lambda x: str(x),\n",
    "                                                                                              'Twitter Url': lambda x: str(x),\n",
    "                                                                                              'City': lambda x: str(x),\n",
    "                                                                                              'State': lambda x: str(x),\n",
    "                                                                                              'Country': lambda x: str(x),\n",
    "                                                                                              'Company Address': lambda x: str(x),\n",
    "                                                                                              'Company City': lambda x: str(x),\n",
    "                                                                                              'Company State': lambda x: str(x),\n",
    "                                                                                              'Company Country': lambda x: str(x),\n",
    "                                                                                              'Company Phone': lambda x: str(x),\n",
    "                                                                                              'SEO Description': lambda x: str(x),\n",
    "                                                                                              'Technologies': lambda x: str(x),\n",
    "                                                                                              'Annual Revenue': lambda x: str(x),\n",
    "                                                                                              'Total Funding': lambda x: str(x),\n",
    "                                                                                              'Latest Funding': lambda x: str(x),\n",
    "                                                                                              'Latest Funding Amount': lambda x: str(x),\n",
    "                                                                                              'Last Raised At': lambda x: str(x),\n",
    "                                                                                              'Email Sent': lambda x: str(x),\n",
    "                                                                                              'Email Open': lambda x: str(x),\n",
    "                                                                                              'Email Bounced': lambda x: str(x),\n",
    "                                                                                              'Replied': lambda x: str(x),\n",
    "                                                                                              'Demoed': lambda x: str(x),\n",
    "                                                                                              'Number of Retail Locations': lambda x: str(x),\n",
    "                                                                                              'Apollo Contact Id': lambda x: str(x),\n",
    "                                                                                              'Apollo Account Id': lambda x: str(x)\n",
    "                                                                                              })\n",
    "            df_Total = df_Total.append(df, ignore_index=True)"
   ]
  },
  {
   "cell_type": "code",
   "execution_count": 6,
   "metadata": {},
   "outputs": [
    {
     "name": "stdout",
     "output_type": "stream",
     "text": [
      "C:\\Projetos\\Python\\Juntar\\apollo-contacts-export (2).csv\n",
      "C:\\Projetos\\Python\\Juntar\\apollo-contacts-export (3).csv\n"
     ]
    }
   ],
   "source": [
    "if(excel != 1):\n",
    "    for diretorio, subpastas, arquivos in os.walk(pasta):\n",
    "        for arquivo in arquivos:\n",
    "            print(os.path.join(os.path.realpath(diretorio), arquivo))\n",
    "            df = pd.read_csv(os.path.join(os.path.realpath(diretorio), arquivo), converters={ 'First Name': lambda x: str(x),\n",
    "                                                                                              'Last Name': lambda x: str(x),\n",
    "                                                                                              'Title': lambda x: str(x),\n",
    "                                                                                              'Company': lambda x: str(x),\n",
    "                                                                                              'Company Name for Emails': lambda x: str(x),\n",
    "                                                                                              'Email': lambda x: str(x),\n",
    "                                                                                              'Email Status': lambda x: str(x),\n",
    "                                                                                              'Email Confidence': lambda x: str(x),\n",
    "                                                                                              'Contact Owner': lambda x: str(x),\n",
    "                                                                                              'First Phone': lambda x: str(x),\n",
    "                                                                                              'Work Direct Phone': lambda x: str(x),\n",
    "                                                                                              'Home Phone': lambda x: str(x),\n",
    "                                                                                              'Mobile Phone': lambda x: str(x),\n",
    "                                                                                              'Corporate Phone': lambda x: str(x),\n",
    "                                                                                              'Other Phone': lambda x: str(x),\n",
    "                                                                                              'Stage': lambda x: str(x),\n",
    "                                                                                              'Lists': lambda x: str(x),\n",
    "                                                                                              'Last Contacted': lambda x: str(x),\n",
    "                                                                                              'Account Owner': lambda x: str(x),\n",
    "                                                                                              '# Employees': lambda x: str(x),\n",
    "                                                                                              'Industry': lambda x: str(x),\n",
    "                                                                                              'Keywords': lambda x: str(x),\n",
    "                                                                                              'Person Linkedin Url': lambda x: str(x),\n",
    "                                                                                              'Website': lambda x: str(x),\n",
    "                                                                                              'Company Linkedin Url': lambda x: str(x),\n",
    "                                                                                              'Facebook Url': lambda x: str(x),\n",
    "                                                                                              'Twitter Url': lambda x: str(x),\n",
    "                                                                                              'City': lambda x: str(x),\n",
    "                                                                                              'State': lambda x: str(x),\n",
    "                                                                                              'Country': lambda x: str(x),\n",
    "                                                                                              'Company Address': lambda x: str(x),\n",
    "                                                                                              'Company City': lambda x: str(x),\n",
    "                                                                                              'Company State': lambda x: str(x),\n",
    "                                                                                              'Company Country': lambda x: str(x),\n",
    "                                                                                              'Company Phone': lambda x: str(x),\n",
    "                                                                                              'SEO Description': lambda x: str(x),\n",
    "                                                                                              'Technologies': lambda x: str(x),\n",
    "                                                                                              'Annual Revenue': lambda x: str(x),\n",
    "                                                                                              'Total Funding': lambda x: str(x),\n",
    "                                                                                              'Latest Funding': lambda x: str(x),\n",
    "                                                                                              'Latest Funding Amount': lambda x: str(x),\n",
    "                                                                                              'Last Raised At': lambda x: str(x),\n",
    "                                                                                              'Email Sent': lambda x: str(x),\n",
    "                                                                                              'Email Open': lambda x: str(x),\n",
    "                                                                                              'Email Bounced': lambda x: str(x),\n",
    "                                                                                              'Replied': lambda x: str(x),\n",
    "                                                                                              'Demoed': lambda x: str(x),\n",
    "                                                                                              'Number of Retail Locations': lambda x: str(x),\n",
    "                                                                                              'Apollo Contact Id': lambda x: str(x),\n",
    "                                                                                              'Apollo Account Id': lambda x: str(x)\n",
    "                                                                                              })\n",
    "            df_Total = df_Total.append(df, ignore_index=True)"
   ]
  },
  {
   "cell_type": "code",
   "execution_count": 7,
   "metadata": {},
   "outputs": [],
   "source": [
    "#df_Total['Nome'] = df_Total['Nome'].str.strip()\n",
    "#df_Total = df_Total.drop_duplicates()\n",
    "df_Total = df_Total.drop_duplicates(subset=['First Name', 'Last Name', 'Website', 'Email'])"
   ]
  },
  {
   "cell_type": "code",
   "execution_count": 8,
   "metadata": {},
   "outputs": [],
   "source": [
    "#df_Total.to_csv( pasta + \"Output_Total.csv\", index = False)\n",
    "if (excel == 1):\n",
    "    df_Total.to_excel( pasta + \"Output_Total.xlsx\", index = False)"
   ]
  },
  {
   "cell_type": "code",
   "execution_count": 9,
   "metadata": {},
   "outputs": [],
   "source": [
    "if (excel != 1):\n",
    "    df_Total.to_csv( pasta + \"Output_Total.csv\", index = False)"
   ]
  }
 ],
 "metadata": {
  "interpreter": {
   "hash": "83d131cb932d342254a856aba77985769a4bb5186e304f75366df988e2740cfe"
  },
  "kernelspec": {
   "display_name": "Python 3.9.7 64-bit",
   "name": "python3"
  },
  "language_info": {
   "codemirror_mode": {
    "name": "ipython",
    "version": 3
   },
   "file_extension": ".py",
   "mimetype": "text/x-python",
   "name": "python",
   "nbconvert_exporter": "python",
   "pygments_lexer": "ipython3",
   "version": "3.9.7"
  },
  "orig_nbformat": 2
 },
 "nbformat": 4,
 "nbformat_minor": 2
}
