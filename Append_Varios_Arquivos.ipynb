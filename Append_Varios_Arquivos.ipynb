{
 "cells": [
  {
   "cell_type": "code",
   "execution_count": 1,
   "metadata": {},
   "outputs": [],
   "source": [
    "import pandas as pd\n",
    "import os"
   ]
  },
  {
   "cell_type": "code",
   "execution_count": 2,
   "metadata": {},
   "outputs": [],
   "source": [
    "df_Total = pd.DataFrame()\n",
    "\n",
    "pasta = 'C:\\\\Projetos\\\\Python\\\\Juntar\\\\'\n",
    "\n",
    "excel = False\n",
    "\n",
    "if (excel == 1):\n",
    "    for diretorio, subpastas, arquivos in os.walk(pasta):\n",
    "        for arquivo in arquivos:\n",
    "            print(os.path.join(os.path.realpath(diretorio), arquivo))\n",
    "            #df = pd.read_csv(os.path.join(os.path.realpath(diretorio), arquivo))\n",
    "            df = pd.read_excel(os.path.join(os.path.realpath(diretorio), arquivo), converters={'First Name': lambda x: str(x),\n",
    "                                                                                              'Last Name': lambda x: str(x),\n",
    "                                                                                              'Title': lambda x: str(x),\n",
    "                                                                                              'Company': lambda x: str(x),\n",
    "                                                                                              'Company Name for Emails': lambda x: str(x),\n",
    "                                                                                              'Email': lambda x: str(x),\n",
    "                                                                                              'Email Status': lambda x: str(x),\n",
    "                                                                                              'Email Confidence': lambda x: str(x),\n",
    "                                                                                              'Contact Owner': lambda x: str(x),\n",
    "                                                                                              'First Phone': lambda x: str(x),\n",
    "                                                                                              'Work Direct Phone': lambda x: str(x),\n",
    "                                                                                              'Home Phone': lambda x: str(x),\n",
    "                                                                                              'Mobile Phone': lambda x: str(x),\n",
    "                                                                                              'Corporate Phone': lambda x: str(x),\n",
    "                                                                                              'Other Phone': lambda x: str(x),\n",
    "                                                                                              'Stage': lambda x: str(x),\n",
    "                                                                                              'Lists': lambda x: str(x),\n",
    "                                                                                              'Last Contacted': lambda x: str(x),\n",
    "                                                                                              'Account Owner': lambda x: str(x),\n",
    "                                                                                              '# Employees': lambda x: str(x),\n",
    "                                                                                              'Industry': lambda x: str(x),\n",
    "                                                                                              'Keywords': lambda x: str(x),\n",
    "                                                                                              'Person Linkedin Url': lambda x: str(x),\n",
    "                                                                                              'Website': lambda x: str(x),\n",
    "                                                                                              'Company Linkedin Url': lambda x: str(x),\n",
    "                                                                                              'Facebook Url': lambda x: str(x),\n",
    "                                                                                              'Twitter Url': lambda x: str(x),\n",
    "                                                                                              'City': lambda x: str(x),\n",
    "                                                                                              'State': lambda x: str(x),\n",
    "                                                                                              'Country': lambda x: str(x),\n",
    "                                                                                              'Company Address': lambda x: str(x),\n",
    "                                                                                              'Company City': lambda x: str(x),\n",
    "                                                                                              'Company State': lambda x: str(x),\n",
    "                                                                                              'Company Country': lambda x: str(x),\n",
    "                                                                                              'Company Phone': lambda x: str(x),\n",
    "                                                                                              'SEO Description': lambda x: str(x),\n",
    "                                                                                              'Technologies': lambda x: str(x),\n",
    "                                                                                              'Annual Revenue': lambda x: str(x),\n",
    "                                                                                              'Total Funding': lambda x: str(x),\n",
    "                                                                                              'Latest Funding': lambda x: str(x),\n",
    "                                                                                              'Latest Funding Amount': lambda x: str(x),\n",
    "                                                                                              'Last Raised At': lambda x: str(x),\n",
    "                                                                                              'Email Sent': lambda x: str(x),\n",
    "                                                                                              'Email Open': lambda x: str(x),\n",
    "                                                                                              'Email Bounced': lambda x: str(x),\n",
    "                                                                                              'Replied': lambda x: str(x),\n",
    "                                                                                              'Demoed': lambda x: str(x),\n",
    "                                                                                              'Number of Retail Locations': lambda x: str(x),\n",
    "                                                                                              'Apollo Contact Id': lambda x: str(x),\n",
    "                                                                                              'Apollo Account Id': lambda x: str(x)\n",
    "                                                                                              })\n",
    "            df_Total = df_Total.append(df, ignore_index=True)"
   ]
  },
  {
   "cell_type": "code",
   "execution_count": 3,
   "metadata": {},
   "outputs": [
    {
     "name": "stdout",
     "output_type": "stream",
     "text": [
      "C:\\Projetos\\Python\\Juntar\\apollo-accounts-export (1).csv\n",
      "C:\\Projetos\\Python\\Juntar\\apollo-accounts-export.csv\n"
     ]
    }
   ],
   "source": [
    "if(excel != 1):\n",
    "    for diretorio, subpastas, arquivos in os.walk(pasta):\n",
    "        for arquivo in arquivos:\n",
    "            print(os.path.join(os.path.realpath(diretorio), arquivo))\n",
    "            df = pd.read_csv(os.path.join(os.path.realpath(diretorio), arquivo), converters={ 'First Name': lambda x: str(x),\n",
    "                                                                                              'Last Name': lambda x: str(x),\n",
    "                                                                                              'Title': lambda x: str(x),\n",
    "                                                                                              'Company': lambda x: str(x),\n",
    "                                                                                              'Company Name for Emails': lambda x: str(x),\n",
    "                                                                                              'Email': lambda x: str(x),\n",
    "                                                                                              'Email Status': lambda x: str(x),\n",
    "                                                                                              'Email Confidence': lambda x: str(x),\n",
    "                                                                                              'Contact Owner': lambda x: str(x),\n",
    "                                                                                              'First Phone': lambda x: str(x),\n",
    "                                                                                              'Work Direct Phone': lambda x: str(x),\n",
    "                                                                                              'Home Phone': lambda x: str(x),\n",
    "                                                                                              'Mobile Phone': lambda x: str(x),\n",
    "                                                                                              'Corporate Phone': lambda x: str(x),\n",
    "                                                                                              'Other Phone': lambda x: str(x),\n",
    "                                                                                              'Stage': lambda x: str(x),\n",
    "                                                                                              'Lists': lambda x: str(x),\n",
    "                                                                                              'Last Contacted': lambda x: str(x),\n",
    "                                                                                              'Account Owner': lambda x: str(x),\n",
    "                                                                                              '# Employees': lambda x: str(x),\n",
    "                                                                                              'Industry': lambda x: str(x),\n",
    "                                                                                              'Keywords': lambda x: str(x),\n",
    "                                                                                              'Person Linkedin Url': lambda x: str(x),\n",
    "                                                                                              'Website': lambda x: str(x),\n",
    "                                                                                              'Company Linkedin Url': lambda x: str(x),\n",
    "                                                                                              'Facebook Url': lambda x: str(x),\n",
    "                                                                                              'Twitter Url': lambda x: str(x),\n",
    "                                                                                              'City': lambda x: str(x),\n",
    "                                                                                              'State': lambda x: str(x),\n",
    "                                                                                              'Country': lambda x: str(x),\n",
    "                                                                                              'Company Address': lambda x: str(x),\n",
    "                                                                                              'Company City': lambda x: str(x),\n",
    "                                                                                              'Company State': lambda x: str(x),\n",
    "                                                                                              'Company Country': lambda x: str(x),\n",
    "                                                                                              'Company Phone': lambda x: str(x),\n",
    "                                                                                              'SEO Description': lambda x: str(x),\n",
    "                                                                                              'Technologies': lambda x: str(x),\n",
    "                                                                                              'Annual Revenue': lambda x: str(x),\n",
    "                                                                                              'Total Funding': lambda x: str(x),\n",
    "                                                                                              'Latest Funding': lambda x: str(x),\n",
    "                                                                                              'Latest Funding Amount': lambda x: str(x),\n",
    "                                                                                              'Last Raised At': lambda x: str(x),\n",
    "                                                                                              'Email Sent': lambda x: str(x),\n",
    "                                                                                              'Email Open': lambda x: str(x),\n",
    "                                                                                              'Email Bounced': lambda x: str(x),\n",
    "                                                                                              'Replied': lambda x: str(x),\n",
    "                                                                                              'Demoed': lambda x: str(x),\n",
    "                                                                                              'Number of Retail Locations': lambda x: str(x),\n",
    "                                                                                              'Apollo Contact Id': lambda x: str(x),\n",
    "                                                                                              'Apollo Account Id': lambda x: str(x)\n",
    "                                                                                              })\n",
    "            df_Total = df_Total.append(df, ignore_index=True)"
   ]
  },
  {
   "cell_type": "code",
   "execution_count": 4,
   "metadata": {},
   "outputs": [
    {
     "ename": "KeyError",
     "evalue": "Index(['Email', 'First Name', 'Last Name'], dtype='object')",
     "output_type": "error",
     "traceback": [
      "\u001b[1;31m---------------------------------------------------------------------------\u001b[0m",
      "\u001b[1;31mKeyError\u001b[0m                                  Traceback (most recent call last)",
      "\u001b[1;32mC:\\Users\\JOSE~1.PRO\\AppData\\Local\\Temp/ipykernel_7080/1314050315.py\u001b[0m in \u001b[0;36m<module>\u001b[1;34m\u001b[0m\n\u001b[0;32m      1\u001b[0m \u001b[1;31m#df_Total['Nome'] = df_Total['Nome'].str.strip()\u001b[0m\u001b[1;33m\u001b[0m\u001b[1;33m\u001b[0m\u001b[0m\n\u001b[0;32m      2\u001b[0m \u001b[1;31m#df_Total = df_Total.drop_duplicates()\u001b[0m\u001b[1;33m\u001b[0m\u001b[1;33m\u001b[0m\u001b[0m\n\u001b[1;32m----> 3\u001b[1;33m \u001b[0mdf_Total\u001b[0m \u001b[1;33m=\u001b[0m \u001b[0mdf_Total\u001b[0m\u001b[1;33m.\u001b[0m\u001b[0mdrop_duplicates\u001b[0m\u001b[1;33m(\u001b[0m\u001b[0msubset\u001b[0m\u001b[1;33m=\u001b[0m\u001b[1;33m[\u001b[0m\u001b[1;34m'First Name'\u001b[0m\u001b[1;33m,\u001b[0m \u001b[1;34m'Last Name'\u001b[0m\u001b[1;33m,\u001b[0m \u001b[1;34m'Website'\u001b[0m\u001b[1;33m,\u001b[0m \u001b[1;34m'Email'\u001b[0m\u001b[1;33m]\u001b[0m\u001b[1;33m)\u001b[0m\u001b[1;33m\u001b[0m\u001b[1;33m\u001b[0m\u001b[0m\n\u001b[0m",
      "\u001b[1;32m~\\AppData\\Local\\Programs\\Python\\Python39\\lib\\site-packages\\pandas\\util\\_decorators.py\u001b[0m in \u001b[0;36mwrapper\u001b[1;34m(*args, **kwargs)\u001b[0m\n\u001b[0;32m    309\u001b[0m                     \u001b[0mstacklevel\u001b[0m\u001b[1;33m=\u001b[0m\u001b[0mstacklevel\u001b[0m\u001b[1;33m,\u001b[0m\u001b[1;33m\u001b[0m\u001b[1;33m\u001b[0m\u001b[0m\n\u001b[0;32m    310\u001b[0m                 )\n\u001b[1;32m--> 311\u001b[1;33m             \u001b[1;32mreturn\u001b[0m \u001b[0mfunc\u001b[0m\u001b[1;33m(\u001b[0m\u001b[1;33m*\u001b[0m\u001b[0margs\u001b[0m\u001b[1;33m,\u001b[0m \u001b[1;33m**\u001b[0m\u001b[0mkwargs\u001b[0m\u001b[1;33m)\u001b[0m\u001b[1;33m\u001b[0m\u001b[1;33m\u001b[0m\u001b[0m\n\u001b[0m\u001b[0;32m    312\u001b[0m \u001b[1;33m\u001b[0m\u001b[0m\n\u001b[0;32m    313\u001b[0m         \u001b[1;32mreturn\u001b[0m \u001b[0mwrapper\u001b[0m\u001b[1;33m\u001b[0m\u001b[1;33m\u001b[0m\u001b[0m\n",
      "\u001b[1;32m~\\AppData\\Local\\Programs\\Python\\Python39\\lib\\site-packages\\pandas\\core\\frame.py\u001b[0m in \u001b[0;36mdrop_duplicates\u001b[1;34m(self, subset, keep, inplace, ignore_index)\u001b[0m\n\u001b[0;32m   6061\u001b[0m         \u001b[0minplace\u001b[0m \u001b[1;33m=\u001b[0m \u001b[0mvalidate_bool_kwarg\u001b[0m\u001b[1;33m(\u001b[0m\u001b[0minplace\u001b[0m\u001b[1;33m,\u001b[0m \u001b[1;34m\"inplace\"\u001b[0m\u001b[1;33m)\u001b[0m\u001b[1;33m\u001b[0m\u001b[1;33m\u001b[0m\u001b[0m\n\u001b[0;32m   6062\u001b[0m         \u001b[0mignore_index\u001b[0m \u001b[1;33m=\u001b[0m \u001b[0mvalidate_bool_kwarg\u001b[0m\u001b[1;33m(\u001b[0m\u001b[0mignore_index\u001b[0m\u001b[1;33m,\u001b[0m \u001b[1;34m\"ignore_index\"\u001b[0m\u001b[1;33m)\u001b[0m\u001b[1;33m\u001b[0m\u001b[1;33m\u001b[0m\u001b[0m\n\u001b[1;32m-> 6063\u001b[1;33m         \u001b[0mduplicated\u001b[0m \u001b[1;33m=\u001b[0m \u001b[0mself\u001b[0m\u001b[1;33m.\u001b[0m\u001b[0mduplicated\u001b[0m\u001b[1;33m(\u001b[0m\u001b[0msubset\u001b[0m\u001b[1;33m,\u001b[0m \u001b[0mkeep\u001b[0m\u001b[1;33m=\u001b[0m\u001b[0mkeep\u001b[0m\u001b[1;33m)\u001b[0m\u001b[1;33m\u001b[0m\u001b[1;33m\u001b[0m\u001b[0m\n\u001b[0m\u001b[0;32m   6064\u001b[0m \u001b[1;33m\u001b[0m\u001b[0m\n\u001b[0;32m   6065\u001b[0m         \u001b[0mresult\u001b[0m \u001b[1;33m=\u001b[0m \u001b[0mself\u001b[0m\u001b[1;33m[\u001b[0m\u001b[1;33m-\u001b[0m\u001b[0mduplicated\u001b[0m\u001b[1;33m]\u001b[0m\u001b[1;33m\u001b[0m\u001b[1;33m\u001b[0m\u001b[0m\n",
      "\u001b[1;32m~\\AppData\\Local\\Programs\\Python\\Python39\\lib\\site-packages\\pandas\\core\\frame.py\u001b[0m in \u001b[0;36mduplicated\u001b[1;34m(self, subset, keep)\u001b[0m\n\u001b[0;32m   6195\u001b[0m         \u001b[0mdiff\u001b[0m \u001b[1;33m=\u001b[0m \u001b[0mIndex\u001b[0m\u001b[1;33m(\u001b[0m\u001b[0msubset\u001b[0m\u001b[1;33m)\u001b[0m\u001b[1;33m.\u001b[0m\u001b[0mdifference\u001b[0m\u001b[1;33m(\u001b[0m\u001b[0mself\u001b[0m\u001b[1;33m.\u001b[0m\u001b[0mcolumns\u001b[0m\u001b[1;33m)\u001b[0m\u001b[1;33m\u001b[0m\u001b[1;33m\u001b[0m\u001b[0m\n\u001b[0;32m   6196\u001b[0m         \u001b[1;32mif\u001b[0m \u001b[1;32mnot\u001b[0m \u001b[0mdiff\u001b[0m\u001b[1;33m.\u001b[0m\u001b[0mempty\u001b[0m\u001b[1;33m:\u001b[0m\u001b[1;33m\u001b[0m\u001b[1;33m\u001b[0m\u001b[0m\n\u001b[1;32m-> 6197\u001b[1;33m             \u001b[1;32mraise\u001b[0m \u001b[0mKeyError\u001b[0m\u001b[1;33m(\u001b[0m\u001b[0mdiff\u001b[0m\u001b[1;33m)\u001b[0m\u001b[1;33m\u001b[0m\u001b[1;33m\u001b[0m\u001b[0m\n\u001b[0m\u001b[0;32m   6198\u001b[0m \u001b[1;33m\u001b[0m\u001b[0m\n\u001b[0;32m   6199\u001b[0m         \u001b[0mvals\u001b[0m \u001b[1;33m=\u001b[0m \u001b[1;33m(\u001b[0m\u001b[0mcol\u001b[0m\u001b[1;33m.\u001b[0m\u001b[0mvalues\u001b[0m \u001b[1;32mfor\u001b[0m \u001b[0mname\u001b[0m\u001b[1;33m,\u001b[0m \u001b[0mcol\u001b[0m \u001b[1;32min\u001b[0m \u001b[0mself\u001b[0m\u001b[1;33m.\u001b[0m\u001b[0mitems\u001b[0m\u001b[1;33m(\u001b[0m\u001b[1;33m)\u001b[0m \u001b[1;32mif\u001b[0m \u001b[0mname\u001b[0m \u001b[1;32min\u001b[0m \u001b[0msubset\u001b[0m\u001b[1;33m)\u001b[0m\u001b[1;33m\u001b[0m\u001b[1;33m\u001b[0m\u001b[0m\n",
      "\u001b[1;31mKeyError\u001b[0m: Index(['Email', 'First Name', 'Last Name'], dtype='object')"
     ]
    }
   ],
   "source": [
    "#df_Total['Nome'] = df_Total['Nome'].str.strip()\n",
    "#df_Total = df_Total.drop_duplicates()\n",
    "df_Total = df_Total.drop_duplicates(subset=['First Name', 'Last Name', 'Website', 'Email'])"
   ]
  },
  {
   "cell_type": "code",
   "execution_count": 5,
   "metadata": {},
   "outputs": [],
   "source": [
    "#df_Total.to_csv( pasta + \"Output_Total.csv\", index = False)\n",
    "if (excel == 1):\n",
    "    df_Total.to_excel( pasta + \"Output_Total.xlsx\", index = False)"
   ]
  },
  {
   "cell_type": "code",
   "execution_count": 6,
   "metadata": {},
   "outputs": [],
   "source": [
    "if (excel != 1):\n",
    "    df_Total.to_csv( pasta + \"Output_Total.csv\", index = False)"
   ]
  }
 ],
 "metadata": {
  "interpreter": {
   "hash": "83d131cb932d342254a856aba77985769a4bb5186e304f75366df988e2740cfe"
  },
  "kernelspec": {
   "display_name": "Python 3.9.7 64-bit",
   "name": "python3"
  },
  "language_info": {
   "codemirror_mode": {
    "name": "ipython",
    "version": 3
   },
   "file_extension": ".py",
   "mimetype": "text/x-python",
   "name": "python",
   "nbconvert_exporter": "python",
   "pygments_lexer": "ipython3",
   "version": "3.9.7"
  },
  "orig_nbformat": 2
 },
 "nbformat": 4,
 "nbformat_minor": 2
}
