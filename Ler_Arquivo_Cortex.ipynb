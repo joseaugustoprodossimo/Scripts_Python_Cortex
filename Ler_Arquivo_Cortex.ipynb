{
 "cells": [
  {
   "cell_type": "code",
   "execution_count": 2,
   "metadata": {},
   "outputs": [],
   "source": [
    "import pandas as pd"
   ]
  },
  {
   "cell_type": "code",
   "execution_count": 3,
   "metadata": {},
   "outputs": [],
   "source": [
    "pasta_import = 'C:\\\\Projetos\\\\Dados\\\\Data_Platform_Global_Companies\\\\'\n",
    "arquivo_import = 'Data_Platform_Global_Companies' + '.csv'\n",
    "\n",
    "df = pd.read_csv(pasta_import + arquivo_import)"
   ]
  },
  {
   "cell_type": "code",
   "execution_count": null,
   "metadata": {},
   "outputs": [],
   "source": [
    "pasta_export = 'C:\\\\Projetos\\\\Python\\\\Apollo\\\\Exportacao\\\\'\n",
    "arquivo_export = 'output_apollo' + '.xlsx'\n",
    "df_select.to_excel(pasta_export + arquivo_export, index = False)"
   ]
  }
 ],
 "metadata": {
  "interpreter": {
   "hash": "1d1b6f73863711dffe5dbcd1853bfe78eafc87048e742bbbcad631fc5569336f"
  },
  "kernelspec": {
   "display_name": "Python 3.9.6 64-bit",
   "name": "python3"
  },
  "language_info": {
   "codemirror_mode": {
    "name": "ipython",
    "version": 3
   },
   "file_extension": ".py",
   "mimetype": "text/x-python",
   "name": "python",
   "nbconvert_exporter": "python",
   "pygments_lexer": "ipython3",
   "version": "3.9.6"
  },
  "orig_nbformat": 2
 },
 "nbformat": 4,
 "nbformat_minor": 2
}
