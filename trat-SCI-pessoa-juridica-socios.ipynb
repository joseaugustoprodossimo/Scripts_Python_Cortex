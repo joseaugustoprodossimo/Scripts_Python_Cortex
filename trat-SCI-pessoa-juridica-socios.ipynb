{
 "cells": [
  {
   "cell_type": "markdown",
   "source": [
    "# Tratamento do SCI - Pessoa Juridica Padrão"
   ],
   "metadata": {}
  },
  {
   "cell_type": "code",
   "execution_count": 1,
   "source": [
    "# Imports\r\n",
    "import pandas as pd\r\n",
    "from numpy import nan\r\n",
    "\r\n",
    "#Função pra pontuar CNPJ\r\n",
    "def mask_cnpj(raw_cnpj):\r\n",
    "    mask = '%s%s.%s%s%s.%s%s%s/%s%s%s%s-%s%s'\r\n",
    "    return mask % tuple(raw_cnpj)\r\n",
    "\r\n",
    "#Função pra pontuar CPF\r\n",
    "def mask_cpf(raw_cpf):\r\n",
    "    mask = '%s%s%s.%s%s%s.%s%s%s-%s%s'\r\n",
    "    return mask % tuple(raw_cpf)\r\n",
    "\r\n",
    "frase = 'Lista exportada com sucesso! =)'"
   ],
   "outputs": [],
   "metadata": {}
  },
  {
   "cell_type": "markdown",
   "source": [
    "## Definições de Importação:"
   ],
   "metadata": {}
  },
  {
   "cell_type": "code",
   "execution_count": 2,
   "source": [
    "# Necessário salvar o arquivo na pasta abaixo e alterar o nome da variavel \\\"arquivo\\\"\r\n",
    "pasta_import = 'C:\\\\Projetos\\\\Python\\SCI\\\\'\r\n",
    "arquivo_import = 'enr-16082021-4522'\r\n",
    "\r\n",
    "df = pd.read_csv(pasta_import + arquivo_import + '.csv', sep=';')"
   ],
   "outputs": [],
   "metadata": {}
  },
  {
   "cell_type": "markdown",
   "source": [
    "## Tratamento de Dados:"
   ],
   "metadata": {}
  },
  {
   "cell_type": "code",
   "execution_count": 3,
   "source": [
    "#Retira os decimais e transforma em string para iniciar o tratamento da coluna;\r\n",
    "df['SOCIO_CPF'] = df['SOCIO_CPF'].apply(lambda x: str(x).replace('.0',''))\r\n",
    "\r\n",
    "#Trata os CNPJs do dataframe para inserir os zeros na frente;\r\n",
    "df['CNPJ'] = df['CNPJ'].astype(str).str.zfill(14)\r\n",
    "df['SOCIO_CPF'] = df['SOCIO_CPF'].astype(str).str.zfill(11)\r\n",
    "\r\n",
    "#Aplica a máscara de CPF e CNPJ\r\n",
    "cnpjs_tratados = [mask_cnpj(cnpj) for cnpj in df['CNPJ']]\r\n",
    "df['CNPJ1'] = cnpjs_tratados\r\n",
    "\r\n",
    "cpf0_tratado = [mask_cpf(cpf) for cpf in df['SOCIO_CPF']]\r\n",
    "df['SOCIO_CPF1'] = cpf0_tratado\r\n",
    "\r\n",
    "#Seleciona só as colunas necessárias pro output e renomeia;\r\n",
    "df_socios = df.filter(items=['CNPJ1','RAZAO_SOCIAL','SOCIO_CPF1','SOCIO_NOME'])\r\n",
    "df_socios = df_socios.rename(columns={'CNPJ1':'CNPJ','RAZAO_SOCIAL':'RAZÃO SOCIAL','SOCIO_CPF1':'CPF DO SÓCIO','SOCIO_NOME':'NOME DO SÓCIO'})\r\n",
    "\r\n",
    "#Ordena as colunas de A-Z e remove duplicatas;\r\n",
    "df_socios.sort_values(by='RAZÃO SOCIAL', axis=0, inplace=True)\r\n",
    "df_socios.duplicated(subset=['CNPJ'], keep='first')\r\n",
    "\r\n",
    "#Remove a frase abaixo por nada\r\n",
    "df_socios['CPF DO SÓCIO'].replace('000.000.00n-an',nan, inplace=True)\r\n",
    "\r\n",
    "#Mostra a quantidade de CNPJs que não foram enriquecidos\r\n",
    "qtd_nulos = df_socios['CPF DO SÓCIO'].isnull().sum()\r\n",
    "nulos = 'Tivemos {} SÓCIOS que não foram enriquecidos e foram removidos.'.format(qtd_nulos)\r\n",
    "\r\n",
    "#Remove valores que não foram enriquecidos\r\n",
    "df_socios.dropna(subset=['CPF DO SÓCIO'], how='any', axis=0, inplace=True)\r\n",
    "\r\n",
    "#Sócios em PROPERCASE\r\n",
    "df_socios['NOME DO SÓCIO'] = df_socios['NOME DO SÓCIO'].str.title()"
   ],
   "outputs": [
    {
     "output_type": "error",
     "ename": "KeyError",
     "evalue": "'SOCIO_CPF'",
     "traceback": [
      "\u001b[1;31m---------------------------------------------------------------------------\u001b[0m",
      "\u001b[1;31mKeyError\u001b[0m                                  Traceback (most recent call last)",
      "\u001b[1;32m~\\AppData\\Local\\Programs\\Python\\Python39\\lib\\site-packages\\pandas\\core\\indexes\\base.py\u001b[0m in \u001b[0;36mget_loc\u001b[1;34m(self, key, method, tolerance)\u001b[0m\n\u001b[0;32m   3080\u001b[0m             \u001b[1;32mtry\u001b[0m\u001b[1;33m:\u001b[0m\u001b[1;33m\u001b[0m\u001b[1;33m\u001b[0m\u001b[0m\n\u001b[1;32m-> 3081\u001b[1;33m                 \u001b[1;32mreturn\u001b[0m \u001b[0mself\u001b[0m\u001b[1;33m.\u001b[0m\u001b[0m_engine\u001b[0m\u001b[1;33m.\u001b[0m\u001b[0mget_loc\u001b[0m\u001b[1;33m(\u001b[0m\u001b[0mcasted_key\u001b[0m\u001b[1;33m)\u001b[0m\u001b[1;33m\u001b[0m\u001b[1;33m\u001b[0m\u001b[0m\n\u001b[0m\u001b[0;32m   3082\u001b[0m             \u001b[1;32mexcept\u001b[0m \u001b[0mKeyError\u001b[0m \u001b[1;32mas\u001b[0m \u001b[0merr\u001b[0m\u001b[1;33m:\u001b[0m\u001b[1;33m\u001b[0m\u001b[1;33m\u001b[0m\u001b[0m\n",
      "\u001b[1;32mpandas\\_libs\\index.pyx\u001b[0m in \u001b[0;36mpandas._libs.index.IndexEngine.get_loc\u001b[1;34m()\u001b[0m\n",
      "\u001b[1;32mpandas\\_libs\\index.pyx\u001b[0m in \u001b[0;36mpandas._libs.index.IndexEngine.get_loc\u001b[1;34m()\u001b[0m\n",
      "\u001b[1;32mpandas\\_libs\\hashtable_class_helper.pxi\u001b[0m in \u001b[0;36mpandas._libs.hashtable.PyObjectHashTable.get_item\u001b[1;34m()\u001b[0m\n",
      "\u001b[1;32mpandas\\_libs\\hashtable_class_helper.pxi\u001b[0m in \u001b[0;36mpandas._libs.hashtable.PyObjectHashTable.get_item\u001b[1;34m()\u001b[0m\n",
      "\u001b[1;31mKeyError\u001b[0m: 'SOCIO_CPF'",
      "\nThe above exception was the direct cause of the following exception:\n",
      "\u001b[1;31mKeyError\u001b[0m                                  Traceback (most recent call last)",
      "\u001b[1;32mC:\\Users\\JOSE~1.PRO\\AppData\\Local\\Temp/ipykernel_5204/3020055690.py\u001b[0m in \u001b[0;36m<module>\u001b[1;34m\u001b[0m\n\u001b[0;32m      1\u001b[0m \u001b[1;31m#Retira os decimais e transforma em string para iniciar o tratamento da coluna;\u001b[0m\u001b[1;33m\u001b[0m\u001b[1;33m\u001b[0m\u001b[1;33m\u001b[0m\u001b[0m\n\u001b[1;32m----> 2\u001b[1;33m \u001b[0mdf\u001b[0m\u001b[1;33m[\u001b[0m\u001b[1;34m'SOCIO_CPF'\u001b[0m\u001b[1;33m]\u001b[0m \u001b[1;33m=\u001b[0m \u001b[0mdf\u001b[0m\u001b[1;33m[\u001b[0m\u001b[1;34m'SOCIO_CPF'\u001b[0m\u001b[1;33m]\u001b[0m\u001b[1;33m.\u001b[0m\u001b[0mapply\u001b[0m\u001b[1;33m(\u001b[0m\u001b[1;32mlambda\u001b[0m \u001b[0mx\u001b[0m\u001b[1;33m:\u001b[0m \u001b[0mstr\u001b[0m\u001b[1;33m(\u001b[0m\u001b[0mx\u001b[0m\u001b[1;33m)\u001b[0m\u001b[1;33m.\u001b[0m\u001b[0mreplace\u001b[0m\u001b[1;33m(\u001b[0m\u001b[1;34m'.0'\u001b[0m\u001b[1;33m,\u001b[0m\u001b[1;34m''\u001b[0m\u001b[1;33m)\u001b[0m\u001b[1;33m)\u001b[0m\u001b[1;33m\u001b[0m\u001b[1;33m\u001b[0m\u001b[0m\n\u001b[0m\u001b[0;32m      3\u001b[0m \u001b[1;33m\u001b[0m\u001b[0m\n\u001b[0;32m      4\u001b[0m \u001b[1;31m#Trata os CNPJs do dataframe para inserir os zeros na frente;\u001b[0m\u001b[1;33m\u001b[0m\u001b[1;33m\u001b[0m\u001b[1;33m\u001b[0m\u001b[0m\n\u001b[0;32m      5\u001b[0m \u001b[0mdf\u001b[0m\u001b[1;33m[\u001b[0m\u001b[1;34m'CNPJ'\u001b[0m\u001b[1;33m]\u001b[0m \u001b[1;33m=\u001b[0m \u001b[0mdf\u001b[0m\u001b[1;33m[\u001b[0m\u001b[1;34m'CNPJ'\u001b[0m\u001b[1;33m]\u001b[0m\u001b[1;33m.\u001b[0m\u001b[0mastype\u001b[0m\u001b[1;33m(\u001b[0m\u001b[0mstr\u001b[0m\u001b[1;33m)\u001b[0m\u001b[1;33m.\u001b[0m\u001b[0mstr\u001b[0m\u001b[1;33m.\u001b[0m\u001b[0mzfill\u001b[0m\u001b[1;33m(\u001b[0m\u001b[1;36m14\u001b[0m\u001b[1;33m)\u001b[0m\u001b[1;33m\u001b[0m\u001b[1;33m\u001b[0m\u001b[0m\n",
      "\u001b[1;32m~\\AppData\\Local\\Programs\\Python\\Python39\\lib\\site-packages\\pandas\\core\\frame.py\u001b[0m in \u001b[0;36m__getitem__\u001b[1;34m(self, key)\u001b[0m\n\u001b[0;32m   3022\u001b[0m             \u001b[1;32mif\u001b[0m \u001b[0mself\u001b[0m\u001b[1;33m.\u001b[0m\u001b[0mcolumns\u001b[0m\u001b[1;33m.\u001b[0m\u001b[0mnlevels\u001b[0m \u001b[1;33m>\u001b[0m \u001b[1;36m1\u001b[0m\u001b[1;33m:\u001b[0m\u001b[1;33m\u001b[0m\u001b[1;33m\u001b[0m\u001b[0m\n\u001b[0;32m   3023\u001b[0m                 \u001b[1;32mreturn\u001b[0m \u001b[0mself\u001b[0m\u001b[1;33m.\u001b[0m\u001b[0m_getitem_multilevel\u001b[0m\u001b[1;33m(\u001b[0m\u001b[0mkey\u001b[0m\u001b[1;33m)\u001b[0m\u001b[1;33m\u001b[0m\u001b[1;33m\u001b[0m\u001b[0m\n\u001b[1;32m-> 3024\u001b[1;33m             \u001b[0mindexer\u001b[0m \u001b[1;33m=\u001b[0m \u001b[0mself\u001b[0m\u001b[1;33m.\u001b[0m\u001b[0mcolumns\u001b[0m\u001b[1;33m.\u001b[0m\u001b[0mget_loc\u001b[0m\u001b[1;33m(\u001b[0m\u001b[0mkey\u001b[0m\u001b[1;33m)\u001b[0m\u001b[1;33m\u001b[0m\u001b[1;33m\u001b[0m\u001b[0m\n\u001b[0m\u001b[0;32m   3025\u001b[0m             \u001b[1;32mif\u001b[0m \u001b[0mis_integer\u001b[0m\u001b[1;33m(\u001b[0m\u001b[0mindexer\u001b[0m\u001b[1;33m)\u001b[0m\u001b[1;33m:\u001b[0m\u001b[1;33m\u001b[0m\u001b[1;33m\u001b[0m\u001b[0m\n\u001b[0;32m   3026\u001b[0m                 \u001b[0mindexer\u001b[0m \u001b[1;33m=\u001b[0m \u001b[1;33m[\u001b[0m\u001b[0mindexer\u001b[0m\u001b[1;33m]\u001b[0m\u001b[1;33m\u001b[0m\u001b[1;33m\u001b[0m\u001b[0m\n",
      "\u001b[1;32m~\\AppData\\Local\\Programs\\Python\\Python39\\lib\\site-packages\\pandas\\core\\indexes\\base.py\u001b[0m in \u001b[0;36mget_loc\u001b[1;34m(self, key, method, tolerance)\u001b[0m\n\u001b[0;32m   3081\u001b[0m                 \u001b[1;32mreturn\u001b[0m \u001b[0mself\u001b[0m\u001b[1;33m.\u001b[0m\u001b[0m_engine\u001b[0m\u001b[1;33m.\u001b[0m\u001b[0mget_loc\u001b[0m\u001b[1;33m(\u001b[0m\u001b[0mcasted_key\u001b[0m\u001b[1;33m)\u001b[0m\u001b[1;33m\u001b[0m\u001b[1;33m\u001b[0m\u001b[0m\n\u001b[0;32m   3082\u001b[0m             \u001b[1;32mexcept\u001b[0m \u001b[0mKeyError\u001b[0m \u001b[1;32mas\u001b[0m \u001b[0merr\u001b[0m\u001b[1;33m:\u001b[0m\u001b[1;33m\u001b[0m\u001b[1;33m\u001b[0m\u001b[0m\n\u001b[1;32m-> 3083\u001b[1;33m                 \u001b[1;32mraise\u001b[0m \u001b[0mKeyError\u001b[0m\u001b[1;33m(\u001b[0m\u001b[0mkey\u001b[0m\u001b[1;33m)\u001b[0m \u001b[1;32mfrom\u001b[0m \u001b[0merr\u001b[0m\u001b[1;33m\u001b[0m\u001b[1;33m\u001b[0m\u001b[0m\n\u001b[0m\u001b[0;32m   3084\u001b[0m \u001b[1;33m\u001b[0m\u001b[0m\n\u001b[0;32m   3085\u001b[0m         \u001b[1;32mif\u001b[0m \u001b[0mtolerance\u001b[0m \u001b[1;32mis\u001b[0m \u001b[1;32mnot\u001b[0m \u001b[1;32mNone\u001b[0m\u001b[1;33m:\u001b[0m\u001b[1;33m\u001b[0m\u001b[1;33m\u001b[0m\u001b[0m\n",
      "\u001b[1;31mKeyError\u001b[0m: 'SOCIO_CPF'"
     ]
    }
   ],
   "metadata": {}
  },
  {
   "cell_type": "markdown",
   "source": [
    "## Definições de Exportação:"
   ],
   "metadata": {}
  },
  {
   "cell_type": "code",
   "execution_count": null,
   "source": [
    "#Cria um excel writer usando xlsxwriter como engine;\r\n",
    "writer = pd.ExcelWriter(pasta_import + 'Output ' + arquivo_import + '.xlsx', engine='xlsxwriter')\r\n",
    "\r\n",
    "#Escreve os dataframes em diferentes sheets dentro do arquivo final;\r\n",
    "df_socios.to_excel(writer, sheet_name='Sócios Pessoa Juridica - SCI', index=False)\r\n",
    "\r\n",
    "#Fecha o arquivo e salva no diretório;\r\n",
    "writer.save()\r\n",
    "\r\n",
    "#Log\r\n",
    "print(frase)\r\n",
    "print(nulos)"
   ],
   "outputs": [
    {
     "output_type": "stream",
     "name": "stdout",
     "text": [
      "Lista exportada com sucesso! =)\n",
      "Tivemos 0 SÓCIOS que não foram enriquecidos e foram removidos.\n"
     ]
    }
   ],
   "metadata": {}
  },
  {
   "cell_type": "markdown",
   "source": [
    "##### Developed By: Gus (gustavo.lima@cortex-intelligence.com)  "
   ],
   "metadata": {}
  }
 ],
 "metadata": {
  "interpreter": {
   "hash": "1d1b6f73863711dffe5dbcd1853bfe78eafc87048e742bbbcad631fc5569336f"
  },
  "kernelspec": {
   "name": "python3",
   "display_name": "Python 3.9.6 64-bit"
  },
  "language_info": {
   "codemirror_mode": {
    "name": "ipython",
    "version": 3
   },
   "file_extension": ".py",
   "mimetype": "text/x-python",
   "name": "python",
   "nbconvert_exporter": "python",
   "pygments_lexer": "ipython3",
   "version": "3.9.6"
  },
  "orig_nbformat": 2
 },
 "nbformat": 4,
 "nbformat_minor": 2
}