{
 "cells": [
  {
   "cell_type": "code",
   "execution_count": 21,
   "metadata": {},
   "outputs": [],
   "source": [
    "import pandas as pd\n",
    "import re"
   ]
  },
  {
   "cell_type": "code",
   "execution_count": 22,
   "metadata": {},
   "outputs": [],
   "source": [
    "caminho = 'C:\\\\Projetos\\\\Python\\\\Contatos\\\\'\n",
    "\n",
    "arquivo = 'remover_caracteres'\n",
    "\n",
    "#df_Apollo = pd.read_excel(caminho + arquivoApolloExcel)\n",
    "df = pd.read_excel(caminho + arquivo + '.xlsx')"
   ]
  },
  {
   "cell_type": "code",
   "execution_count": 23,
   "metadata": {},
   "outputs": [],
   "source": [
    "def Remover_Caracteres_Especiais(item):\n",
    "    return re.sub('[^A-Za-z]', '', str(item))\n",
    "#re.sub('[^0-9]', '', b)"
   ]
  },
  {
   "cell_type": "code",
   "execution_count": 24,
   "metadata": {},
   "outputs": [],
   "source": [
    "df['PRIMEIRO NOME'] = df['PRIMEIRO NOME'].apply(Remover_Caracteres_Especiais)\n",
    "df['ULTIMO NOME'] = df['ULTIMO NOME'].apply(Remover_Caracteres_Especiais)"
   ]
  },
  {
   "cell_type": "code",
   "execution_count": 25,
   "metadata": {},
   "outputs": [],
   "source": [
    "writer = pd.ExcelWriter(caminho + 'Output' + '.xlsx', engine='xlsxwriter')\n",
    "\n",
    "#Escreve os dataframes em diferentes sheets dentro do arquivo final;\n",
    "df.to_excel(writer, sheet_name='df', index=False)\n",
    "\n",
    "#Fecha o arquivo e salva no diretório;\n",
    "writer.save()"
   ]
  }
 ],
 "metadata": {
  "interpreter": {
   "hash": "1d1b6f73863711dffe5dbcd1853bfe78eafc87048e742bbbcad631fc5569336f"
  },
  "kernelspec": {
   "display_name": "Python 3.9.7 64-bit",
   "language": "python",
   "name": "python3"
  },
  "language_info": {
   "codemirror_mode": {
    "name": "ipython",
    "version": 3
   },
   "file_extension": ".py",
   "mimetype": "text/x-python",
   "name": "python",
   "nbconvert_exporter": "python",
   "pygments_lexer": "ipython3",
   "version": "3.9.7"
  },
  "orig_nbformat": 4
 },
 "nbformat": 4,
 "nbformat_minor": 2
}
