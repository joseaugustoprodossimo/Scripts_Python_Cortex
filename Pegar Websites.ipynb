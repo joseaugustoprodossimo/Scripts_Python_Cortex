{
 "cells": [
  {
   "cell_type": "code",
   "execution_count": 1,
   "metadata": {},
   "outputs": [],
   "source": [
    "import pandas as pd"
   ]
  },
  {
   "cell_type": "code",
   "execution_count": 2,
   "metadata": {},
   "outputs": [],
   "source": [
    "caminho_websites_whois = 'G:\\\\Drives compartilhados\\\\PS ITB\\\\Repositório do BI\\\\Repositório do BI - Documentos\\\\Bases auxiliares\\\\DB - Websites WhoIs\\\\'\n",
    "arquivo_websites_whois = 'domain_cnpj_total.csv'\n",
    "\n",
    "db_websites_whois = pd.read_csv(caminho_websites_whois + arquivo_websites_whois, converters={ 'cnpj': lambda x: str(x)})\n",
    "\n",
    "db_websites_whois['cnpj'] = db_websites_whois['cnpj'].str[0:2] + \".\" + db_websites_whois['cnpj'].str[2:5] + \".\" + db_websites_whois['cnpj'].str[5:8] + \"/\" + db_websites_whois['cnpj'].str[8:12] + \"-\" + db_websites_whois['cnpj'].str[12:14]"
   ]
  },
  {
   "cell_type": "code",
   "execution_count": 3,
   "metadata": {},
   "outputs": [],
   "source": [
    "caminho_websites_bases_empilhadas = 'G:\\\\Drives compartilhados\\\\PS ITB\\\\Repositório do BI\\\\Repositório do BI - Documentos\\\\Bases auxiliares\\\\DB - Bases Empilhadas\\\\'\n",
    "arquivo_websites_bases_empilhadas = 'Empresas Nacionais - Empilhamento.xlsx'\n",
    "\n",
    "db_websites_bases_empilhadas = pd.read_excel(caminho_websites_bases_empilhadas + arquivo_websites_bases_empilhadas)"
   ]
  },
  {
   "cell_type": "code",
   "execution_count": 4,
   "metadata": {},
   "outputs": [],
   "source": [
    "caminho_website_cnpj = 'G:\\\\Drives compartilhados\\\\PS ITB\\\\Repositório do BI\\\\Repositório do BI - Documentos\\\\Bases auxiliares\\\\DB - Website Para CNPJ\\\\'\n",
    "arquivo_website_cnpj = 'Websites para CNPJs.xlsx'\n",
    "arquivo_website_cnpj_banco = 'Websites Banco - 16-08-21 - 877k.xlsx'\n",
    "\n",
    "db_website_cnpj = pd.read_excel(caminho_website_cnpj + arquivo_website_cnpj)\n",
    "db_website_cnpj_banco = pd.read_excel(caminho_website_cnpj + arquivo_website_cnpj_banco)"
   ]
  },
  {
   "cell_type": "code",
   "execution_count": 5,
   "metadata": {},
   "outputs": [],
   "source": [
    "caminho = 'C:\\\\Projetos\\\\Python\\\\Website Base Whois\\\\'\n",
    "\n",
    "arquivo_input = 'input.csv'\n",
    "\n",
    "df_input = pd.read_csv(caminho + arquivo_input)"
   ]
  },
  {
   "cell_type": "code",
   "execution_count": 6,
   "metadata": {},
   "outputs": [],
   "source": [
    "retirar = ['facebook', 'youtube']"
   ]
  },
  {
   "cell_type": "code",
   "execution_count": 7,
   "metadata": {},
   "outputs": [],
   "source": [
    "db_websites_bases_empilhadas = db_websites_bases_empilhadas.filter(items=['CNPJ', 'WEBSITE 1'])\n",
    "db_websites_bases_empilhadas.rename(columns={'WEBSITE 1':'Website'}, inplace=True)"
   ]
  },
  {
   "cell_type": "code",
   "execution_count": 8,
   "metadata": {},
   "outputs": [],
   "source": [
    "db_website_cnpj = db_website_cnpj.filter(items=['CNPJ','Website'])\n",
    "db_websites_whois = db_websites_whois.filter(items=['CNPJ','Website'])\n",
    "db_website_cnpj_banco.rename(columns={'cnpj':'CNPJ','site':'Website'}, inplace=True)\n",
    "db_website_cnpj_banco = db_website_cnpj_banco.filter(items=['CNPJ','Website'])"
   ]
  },
  {
   "cell_type": "code",
   "execution_count": 9,
   "metadata": {},
   "outputs": [],
   "source": [
    "df_todos = pd.concat([db_website_cnpj, db_websites_whois, db_website_cnpj_banco, db_websites_bases_empilhadas])\n",
    "df_todos = df_todos.drop_duplicates()"
   ]
  },
  {
   "cell_type": "code",
   "execution_count": 10,
   "metadata": {},
   "outputs": [],
   "source": [
    "df_input = df_input.merge(df_todos, on='CNPJ', how='left')\n",
    "df_input = df_input.filter(items=['CNPJ', 'Website'])"
   ]
  },
  {
   "cell_type": "code",
   "execution_count": 11,
   "metadata": {},
   "outputs": [],
   "source": [
    "writer = pd.ExcelWriter(caminho + 'Output' + '.xlsx', engine='xlsxwriter')\n",
    "\n",
    "df_input.to_excel(writer, index=False)\n",
    "\n",
    "writer.save()"
   ]
  }
 ],
 "metadata": {
  "interpreter": {
   "hash": "1d1b6f73863711dffe5dbcd1853bfe78eafc87048e742bbbcad631fc5569336f"
  },
  "kernelspec": {
   "display_name": "Python 3.9.7 64-bit",
   "language": "python",
   "name": "python3"
  },
  "language_info": {
   "codemirror_mode": {
    "name": "ipython",
    "version": 3
   },
   "file_extension": ".py",
   "mimetype": "text/x-python",
   "name": "python",
   "nbconvert_exporter": "python",
   "pygments_lexer": "ipython3",
   "version": "3.9.7"
  },
  "orig_nbformat": 4
 },
 "nbformat": 4,
 "nbformat_minor": 2
}
