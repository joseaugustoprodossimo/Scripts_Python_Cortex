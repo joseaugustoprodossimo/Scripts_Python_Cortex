{
 "cells": [
  {
   "cell_type": "code",
   "execution_count": 33,
   "metadata": {},
   "outputs": [],
   "source": [
    "import difflib\n",
    "import itertools\n",
    "import pandas as pd\n",
    "from difflib import SequenceMatcher"
   ]
  },
  {
   "cell_type": "code",
   "execution_count": 34,
   "metadata": {},
   "outputs": [],
   "source": [
    "pasta_import = \"C:\\\\Projetos\\\\Python\\\\Coerencia empresa banco e autodesk\\\\\"\n",
    "empresas_autodesk = \"Empresas_Autodesk\"\n",
    "empresas_banco = \"Empresas_Banco\"\n",
    "\n",
    "df_empresas_autodesk = pd.read_excel(pasta_import + empresas_autodesk + \".xlsx\", sheet_name=\"Planilha1\")\n",
    "df_empresas_banco = pd.read_excel(pasta_import + empresas_banco + \".xlsx\", sheet_name=\"Planilha1\")"
   ]
  },
  {
   "cell_type": "code",
   "execution_count": 35,
   "metadata": {},
   "outputs": [],
   "source": [
    "def similar(a, b):\n",
    "    a = str(a)\n",
    "    b = str(b)\n",
    "    return SequenceMatcher(None, a, b).ratio() * 100"
   ]
  },
  {
   "cell_type": "code",
   "execution_count": 44,
   "metadata": {},
   "outputs": [],
   "source": [
    "def retorna_maior_percentual(item_autodesk, df):\n",
    "\n",
    "    mais_provavel = ''\n",
    "    percentual_mais_provavel = 0\n",
    "\n",
    "    for i in df['Coluna1']:\n",
    "        if similar(item_autodesk, i) > percentual_mais_provavel:\n",
    "            mais_provavel = i\n",
    "            percentual_mais_provavel = similar(item_autodesk, i)\n",
    "    \n",
    "    return mais_provavel, percentual_mais_provavel"
   ]
  },
  {
   "cell_type": "code",
   "execution_count": 47,
   "metadata": {},
   "outputs": [],
   "source": [
    "df_empresas_autodesk['POSSIVEL EMPRESA'] = ''\n",
    "df_empresas_autodesk['PERCENTUAL POSSIVEL EMPRESA'] = ''"
   ]
  },
  {
   "cell_type": "code",
   "execution_count": 45,
   "metadata": {},
   "outputs": [],
   "source": [
    "for i in df_empresas_autodesk['Coluna1'].index:\n",
    "    df_empresas_autodesk['POSSIVEL EMPRESA'][i], df_empresas_autodesk['PERCENTUAL POSSIVEL EMPRESA'][i] = \\\n",
    "        retorna_maior_percentual(df_empresas_autodesk['Coluna1'][i], df_empresas_banco)"
   ]
  },
  {
   "cell_type": "code",
   "execution_count": null,
   "metadata": {},
   "outputs": [],
   "source": [
    "arquivo_export = 'Output_Autodesk' + '.xlsx'\n",
    "df_empresas_autodesk.to_excel(pasta_import + arquivo_export, index = False)"
   ]
  }
 ],
 "metadata": {
  "interpreter": {
   "hash": "1d1b6f73863711dffe5dbcd1853bfe78eafc87048e742bbbcad631fc5569336f"
  },
  "kernelspec": {
   "display_name": "Python 3.9.7 64-bit",
   "language": "python",
   "name": "python3"
  },
  "language_info": {
   "codemirror_mode": {
    "name": "ipython",
    "version": 3
   },
   "file_extension": ".py",
   "mimetype": "text/x-python",
   "name": "python",
   "nbconvert_exporter": "python",
   "pygments_lexer": "ipython3",
   "version": "3.9.7"
  },
  "orig_nbformat": 4
 },
 "nbformat": 4,
 "nbformat_minor": 2
}
