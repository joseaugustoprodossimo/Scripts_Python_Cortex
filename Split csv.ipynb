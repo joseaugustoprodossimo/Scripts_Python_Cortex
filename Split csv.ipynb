{
 "cells": [
  {
   "cell_type": "code",
   "execution_count": 16,
   "metadata": {},
   "outputs": [],
   "source": [
    "#Imports\n",
    "import pandas as pd"
   ]
  },
  {
   "cell_type": "code",
   "execution_count": 17,
   "metadata": {},
   "outputs": [],
   "source": [
    "pasta_import = \"C:\\\\Projetos\\\\Python\\\\Split CSV\\\\\"\n",
    "arquivo = 'cnaes_202112141303' \n",
    "df = pd.read_csv(pasta_import + arquivo + '.csv')"
   ]
  },
  {
   "cell_type": "code",
   "execution_count": 18,
   "metadata": {},
   "outputs": [],
   "source": [
    "df_list = list(df.columns)\n",
    "primeira_coluna = df_list[0]"
   ]
  },
  {
   "cell_type": "code",
   "execution_count": 19,
   "metadata": {},
   "outputs": [],
   "source": [
    "quantidade = 2\n",
    "inicial = 0\n",
    "final = inicial + quantidade\n",
    "numeracao = ''\n",
    "x = 0\n",
    "if len(df[primeira_coluna]) % quantidade > 0:\n",
    "    x = int((len(df[primeira_coluna]) / quantidade)+1)\n",
    "quantidade_vezes = list(range(x))\n",
    "\n",
    "for i in quantidade_vezes:\n",
    "    numeracao = str(i + 1)\n",
    "    df[inicial:final].to_csv(pasta_import + arquivo + \"_\" + numeracao + '.csv', index = False)\n",
    "    inicial = inicial + quantidade\n",
    "    final = final + quantidade"
   ]
  }
 ],
 "metadata": {
  "interpreter": {
   "hash": "83d131cb932d342254a856aba77985769a4bb5186e304f75366df988e2740cfe"
  },
  "kernelspec": {
   "display_name": "Python 3.9.7 64-bit",
   "name": "python3"
  },
  "language_info": {
   "codemirror_mode": {
    "name": "ipython",
    "version": 3
   },
   "file_extension": ".py",
   "mimetype": "text/x-python",
   "name": "python",
   "nbconvert_exporter": "python",
   "pygments_lexer": "ipython3",
   "version": "3.9.7"
  },
  "orig_nbformat": 2
 },
 "nbformat": 4,
 "nbformat_minor": 2
}
